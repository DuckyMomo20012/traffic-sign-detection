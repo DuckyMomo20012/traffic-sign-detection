{
  "cells": [
    {
      "cell_type": "markdown",
      "metadata": {
        "id": "UsgwQGNwVf8J"
      },
      "source": [
        "# YOLOv5 implementation\n",
        "\n",
        "Dataset link: [trafficsign](https://www.kaggle.com/ahemateja19bec1025/trafficsignlocalizationdetectionyoloannotated)\n",
        "\n",
        "Ref: [Do_Thuan.pdf](https://www.theseus.fi/bitstream/handle/10024/452552/Do_Thuan.pdf)"
      ]
    },
    {
      "cell_type": "markdown",
      "metadata": {
        "id": "q-qCfo7VK_Mx"
      },
      "source": [
        "## 1. Check GPU usage status:\n",
        "To use GPU: Go to Edit -> Notebook settings -> Hardware accelerator: GPU.\n",
        "If we don't use GPU, we can skip this step."
      ]
    },
    {
      "cell_type": "code",
      "execution_count": 1,
      "metadata": {
        "id": "V37ASONZTkPc",
        "colab": {
          "base_uri": "https://localhost:8080/"
        },
        "outputId": "5612e981-3118-4129-8564-1681d690e274"
      },
      "outputs": [
        {
          "output_type": "stream",
          "name": "stdout",
          "text": [
            "Wed Aug  3 03:28:12 2022       \n",
            "+-----------------------------------------------------------------------------+\n",
            "| NVIDIA-SMI 460.32.03    Driver Version: 460.32.03    CUDA Version: 11.2     |\n",
            "|-------------------------------+----------------------+----------------------+\n",
            "| GPU  Name        Persistence-M| Bus-Id        Disp.A | Volatile Uncorr. ECC |\n",
            "| Fan  Temp  Perf  Pwr:Usage/Cap|         Memory-Usage | GPU-Util  Compute M. |\n",
            "|                               |                      |               MIG M. |\n",
            "|===============================+======================+======================|\n",
            "|   0  Tesla T4            Off  | 00000000:00:04.0 Off |                    0 |\n",
            "| N/A   45C    P8    13W /  70W |      0MiB / 15109MiB |      0%      Default |\n",
            "|                               |                      |                  N/A |\n",
            "+-------------------------------+----------------------+----------------------+\n",
            "                                                                               \n",
            "+-----------------------------------------------------------------------------+\n",
            "| Processes:                                                                  |\n",
            "|  GPU   GI   CI        PID   Type   Process name                  GPU Memory |\n",
            "|        ID   ID                                                   Usage      |\n",
            "|=============================================================================|\n",
            "|  No running processes found                                                 |\n",
            "+-----------------------------------------------------------------------------+\n"
          ]
        }
      ],
      "source": [
        "!nvidia-smi"
      ]
    },
    {
      "cell_type": "markdown",
      "metadata": {
        "id": "1UXwdlHWLddp"
      },
      "source": [
        "## 2. Clone yolov5 repository:"
      ]
    },
    {
      "cell_type": "markdown",
      "metadata": {
        "id": "bjan-7C7M83K"
      },
      "source": [
        "## 2.1. Install environment for CPU (Optional):"
      ]
    },
    {
      "cell_type": "code",
      "execution_count": null,
      "metadata": {
        "colab": {
          "base_uri": "https://localhost:8080/"
        },
        "id": "Vh-N7Hx2X5QN",
        "outputId": "5f00d0bf-da11-4960-c90f-38d68594a5c1"
      },
      "outputs": [
        {
          "output_type": "stream",
          "name": "stdout",
          "text": [
            "Looking in links: https://download.pytorch.org/whl/torch_stable.html\n",
            "Collecting torch==1.9.1+cu102\n",
            "\u001b[31mERROR: Operation cancelled by user\u001b[0m\n"
          ]
        }
      ],
      "source": [
        "!pip3 install torch==1.9.1+cu102 torchvision==0.10.1+cu102 torchaudio===0.9.1 -f https://download.pytorch.org/whl/torch_stable.html"
      ]
    },
    {
      "cell_type": "code",
      "execution_count": null,
      "metadata": {
        "colab": {
          "base_uri": "https://localhost:8080/"
        },
        "id": "g9bRDceobhao",
        "outputId": "9a1f9973-8899-493e-d90a-e8fdc0fda87d"
      },
      "outputs": [
        {
          "output_type": "stream",
          "name": "stdout",
          "text": [
            "Writing requirements.txt\n"
          ]
        }
      ],
      "source": [
        "%%writefile requirements.txt\n",
        "\n",
        "# pip install -r requirements.txt\n",
        "\n",
        "# Base ----------------------------------------\n",
        "matplotlib>=3.2.2\n",
        "numpy>=1.18.5\n",
        "opencv-python>=4.1.2\n",
        "Pillow>=7.1.2\n",
        "PyYAML>=5.3.1\n",
        "requests>=2.23.0\n",
        "scipy>=1.4.1\n",
        "# torch>=1.7.0\n",
        "# torchvision>=0.8.1\n",
        "tqdm>=4.41.0\n",
        "\n",
        "# Logging -------------------------------------\n",
        "tensorboard>=2.4.1\n",
        "# wandb\n",
        "\n",
        "# Plotting ------------------------------------\n",
        "pandas>=1.1.4\n",
        "seaborn>=0.11.0\n",
        "\n",
        "# Export --------------------------------------\n",
        "# coremltools>=4.1  # CoreML export\n",
        "# onnx>=1.9.0  # ONNX export\n",
        "# onnx-simplifier>=0.3.6  # ONNX simplifier\n",
        "# scikit-learn==0.19.2  # CoreML quantization\n",
        "# tensorflow>=2.4.1  # TFLite export\n",
        "# tensorflowjs>=3.9.0  # TF.js export\n",
        "# openvino-dev  # OpenVINO export\n",
        "\n",
        "# Extras --------------------------------------\n",
        "# albumentations>=1.0.3\n",
        "# Cython  # for pycocotools https://github.com/cocodataset/cocoapi/issues/172\n",
        "# pycocotools>=2.0  # COCO mAP\n",
        "# roboflow\n",
        "thop  # FLOPs computation"
      ]
    },
    {
      "cell_type": "code",
      "execution_count": null,
      "metadata": {
        "colab": {
          "base_uri": "https://localhost:8080/"
        },
        "id": "9marCtvQNvWx",
        "outputId": "79e9be24-d189-455f-9e76-367f07998420"
      },
      "outputs": [
        {
          "output_type": "stream",
          "name": "stdout",
          "text": [
            "Requirement already satisfied: matplotlib>=3.2.2 in /usr/local/lib/python3.7/dist-packages (from -r requirements.txt (line 5)) (3.2.2)\n",
            "Requirement already satisfied: numpy>=1.18.5 in /usr/local/lib/python3.7/dist-packages (from -r requirements.txt (line 6)) (1.19.5)\n",
            "Requirement already satisfied: opencv-python>=4.1.2 in /usr/local/lib/python3.7/dist-packages (from -r requirements.txt (line 7)) (4.1.2.30)\n",
            "Requirement already satisfied: Pillow>=7.1.2 in /usr/local/lib/python3.7/dist-packages (from -r requirements.txt (line 8)) (7.1.2)\n",
            "Collecting PyYAML>=5.3.1\n",
            "  Downloading PyYAML-6.0-cp37-cp37m-manylinux_2_5_x86_64.manylinux1_x86_64.manylinux_2_12_x86_64.manylinux2010_x86_64.whl (596 kB)\n",
            "\u001b[K     |████████████████████████████████| 596 kB 5.5 MB/s \n",
            "\u001b[?25hRequirement already satisfied: requests>=2.23.0 in /usr/local/lib/python3.7/dist-packages (from -r requirements.txt (line 10)) (2.23.0)\n",
            "Requirement already satisfied: scipy>=1.4.1 in /usr/local/lib/python3.7/dist-packages (from -r requirements.txt (line 11)) (1.4.1)\n",
            "Requirement already satisfied: tqdm>=4.41.0 in /usr/local/lib/python3.7/dist-packages (from -r requirements.txt (line 14)) (4.62.3)\n",
            "Requirement already satisfied: tensorboard>=2.4.1 in /usr/local/lib/python3.7/dist-packages (from -r requirements.txt (line 17)) (2.7.0)\n",
            "Requirement already satisfied: pandas>=1.1.4 in /usr/local/lib/python3.7/dist-packages (from -r requirements.txt (line 21)) (1.1.5)\n",
            "Requirement already satisfied: seaborn>=0.11.0 in /usr/local/lib/python3.7/dist-packages (from -r requirements.txt (line 22)) (0.11.2)\n",
            "Collecting thop\n",
            "  Downloading thop-0.0.31.post2005241907-py3-none-any.whl (8.7 kB)\n",
            "Requirement already satisfied: kiwisolver>=1.0.1 in /usr/local/lib/python3.7/dist-packages (from matplotlib>=3.2.2->-r requirements.txt (line 5)) (1.3.2)\n",
            "Requirement already satisfied: cycler>=0.10 in /usr/local/lib/python3.7/dist-packages (from matplotlib>=3.2.2->-r requirements.txt (line 5)) (0.11.0)\n",
            "Requirement already satisfied: python-dateutil>=2.1 in /usr/local/lib/python3.7/dist-packages (from matplotlib>=3.2.2->-r requirements.txt (line 5)) (2.8.2)\n",
            "Requirement already satisfied: pyparsing!=2.0.4,!=2.1.2,!=2.1.6,>=2.0.1 in /usr/local/lib/python3.7/dist-packages (from matplotlib>=3.2.2->-r requirements.txt (line 5)) (3.0.6)\n",
            "Requirement already satisfied: chardet<4,>=3.0.2 in /usr/local/lib/python3.7/dist-packages (from requests>=2.23.0->-r requirements.txt (line 10)) (3.0.4)\n",
            "Requirement already satisfied: certifi>=2017.4.17 in /usr/local/lib/python3.7/dist-packages (from requests>=2.23.0->-r requirements.txt (line 10)) (2021.10.8)\n",
            "Requirement already satisfied: urllib3!=1.25.0,!=1.25.1,<1.26,>=1.21.1 in /usr/local/lib/python3.7/dist-packages (from requests>=2.23.0->-r requirements.txt (line 10)) (1.24.3)\n",
            "Requirement already satisfied: idna<3,>=2.5 in /usr/local/lib/python3.7/dist-packages (from requests>=2.23.0->-r requirements.txt (line 10)) (2.10)\n",
            "Requirement already satisfied: absl-py>=0.4 in /usr/local/lib/python3.7/dist-packages (from tensorboard>=2.4.1->-r requirements.txt (line 17)) (0.12.0)\n",
            "Requirement already satisfied: google-auth<3,>=1.6.3 in /usr/local/lib/python3.7/dist-packages (from tensorboard>=2.4.1->-r requirements.txt (line 17)) (1.35.0)\n",
            "Requirement already satisfied: werkzeug>=0.11.15 in /usr/local/lib/python3.7/dist-packages (from tensorboard>=2.4.1->-r requirements.txt (line 17)) (1.0.1)\n",
            "Requirement already satisfied: wheel>=0.26 in /usr/local/lib/python3.7/dist-packages (from tensorboard>=2.4.1->-r requirements.txt (line 17)) (0.37.0)\n",
            "Requirement already satisfied: setuptools>=41.0.0 in /usr/local/lib/python3.7/dist-packages (from tensorboard>=2.4.1->-r requirements.txt (line 17)) (57.4.0)\n",
            "Requirement already satisfied: tensorboard-data-server<0.7.0,>=0.6.0 in /usr/local/lib/python3.7/dist-packages (from tensorboard>=2.4.1->-r requirements.txt (line 17)) (0.6.1)\n",
            "Requirement already satisfied: markdown>=2.6.8 in /usr/local/lib/python3.7/dist-packages (from tensorboard>=2.4.1->-r requirements.txt (line 17)) (3.3.6)\n",
            "Requirement already satisfied: protobuf>=3.6.0 in /usr/local/lib/python3.7/dist-packages (from tensorboard>=2.4.1->-r requirements.txt (line 17)) (3.17.3)\n",
            "Requirement already satisfied: grpcio>=1.24.3 in /usr/local/lib/python3.7/dist-packages (from tensorboard>=2.4.1->-r requirements.txt (line 17)) (1.42.0)\n",
            "Requirement already satisfied: tensorboard-plugin-wit>=1.6.0 in /usr/local/lib/python3.7/dist-packages (from tensorboard>=2.4.1->-r requirements.txt (line 17)) (1.8.0)\n",
            "Requirement already satisfied: google-auth-oauthlib<0.5,>=0.4.1 in /usr/local/lib/python3.7/dist-packages (from tensorboard>=2.4.1->-r requirements.txt (line 17)) (0.4.6)\n",
            "Requirement already satisfied: pytz>=2017.2 in /usr/local/lib/python3.7/dist-packages (from pandas>=1.1.4->-r requirements.txt (line 21)) (2018.9)\n",
            "Requirement already satisfied: six in /usr/local/lib/python3.7/dist-packages (from absl-py>=0.4->tensorboard>=2.4.1->-r requirements.txt (line 17)) (1.15.0)\n",
            "Requirement already satisfied: cachetools<5.0,>=2.0.0 in /usr/local/lib/python3.7/dist-packages (from google-auth<3,>=1.6.3->tensorboard>=2.4.1->-r requirements.txt (line 17)) (4.2.4)\n",
            "Requirement already satisfied: pyasn1-modules>=0.2.1 in /usr/local/lib/python3.7/dist-packages (from google-auth<3,>=1.6.3->tensorboard>=2.4.1->-r requirements.txt (line 17)) (0.2.8)\n",
            "Requirement already satisfied: rsa<5,>=3.1.4 in /usr/local/lib/python3.7/dist-packages (from google-auth<3,>=1.6.3->tensorboard>=2.4.1->-r requirements.txt (line 17)) (4.8)\n",
            "Requirement already satisfied: requests-oauthlib>=0.7.0 in /usr/local/lib/python3.7/dist-packages (from google-auth-oauthlib<0.5,>=0.4.1->tensorboard>=2.4.1->-r requirements.txt (line 17)) (1.3.0)\n",
            "Requirement already satisfied: importlib-metadata>=4.4 in /usr/local/lib/python3.7/dist-packages (from markdown>=2.6.8->tensorboard>=2.4.1->-r requirements.txt (line 17)) (4.8.2)\n",
            "Requirement already satisfied: zipp>=0.5 in /usr/local/lib/python3.7/dist-packages (from importlib-metadata>=4.4->markdown>=2.6.8->tensorboard>=2.4.1->-r requirements.txt (line 17)) (3.6.0)\n",
            "Requirement already satisfied: typing-extensions>=3.6.4 in /usr/local/lib/python3.7/dist-packages (from importlib-metadata>=4.4->markdown>=2.6.8->tensorboard>=2.4.1->-r requirements.txt (line 17)) (3.10.0.2)\n",
            "Requirement already satisfied: pyasn1<0.5.0,>=0.4.6 in /usr/local/lib/python3.7/dist-packages (from pyasn1-modules>=0.2.1->google-auth<3,>=1.6.3->tensorboard>=2.4.1->-r requirements.txt (line 17)) (0.4.8)\n",
            "Requirement already satisfied: oauthlib>=3.0.0 in /usr/local/lib/python3.7/dist-packages (from requests-oauthlib>=0.7.0->google-auth-oauthlib<0.5,>=0.4.1->tensorboard>=2.4.1->-r requirements.txt (line 17)) (3.1.1)\n",
            "Requirement already satisfied: torch>=1.0.0 in /usr/local/lib/python3.7/dist-packages (from thop->-r requirements.txt (line 38)) (1.10.0+cu111)\n",
            "Installing collected packages: thop, PyYAML\n",
            "  Attempting uninstall: PyYAML\n",
            "    Found existing installation: PyYAML 3.13\n",
            "    Uninstalling PyYAML-3.13:\n",
            "      Successfully uninstalled PyYAML-3.13\n",
            "Successfully installed PyYAML-6.0 thop-0.0.31.post2005241907\n"
          ]
        }
      ],
      "source": [
        "!pip3 install -r requirements.txt"
      ]
    },
    {
      "cell_type": "markdown",
      "metadata": {
        "id": "ryEDmIPFen4T"
      },
      "source": [
        "> Install torch with stable version to be able to run code with CPU. But the training is VERY slow 😭. So only run these commands if you can't run with GPU.\n",
        "\n",
        "> After we use GPU a period of time, we will exceed usage limit, then we will have to wait a long time for usage limit to be reseted."
      ]
    },
    {
      "cell_type": "markdown",
      "metadata": {
        "id": "ihw5PySqNPGI"
      },
      "source": [
        "## 2.2. Clone repository:"
      ]
    },
    {
      "cell_type": "code",
      "execution_count": null,
      "metadata": {
        "colab": {
          "base_uri": "https://localhost:8080/"
        },
        "id": "afsFgSYXU0ly",
        "outputId": "fceb4c7a-fb8a-4987-fc03-83abfae45362"
      },
      "outputs": [
        {
          "output_type": "stream",
          "name": "stdout",
          "text": [
            "Cloning into 'yolov5'...\n",
            "remote: Enumerating objects: 10455, done.\u001b[K\n",
            "remote: Counting objects: 100% (18/18), done.\u001b[K\n",
            "remote: Compressing objects: 100% (14/14), done.\u001b[K\n",
            "remote: Total 10455 (delta 6), reused 12 (delta 4), pack-reused 10437\u001b[K\n",
            "Receiving objects: 100% (10455/10455), 10.68 MiB | 24.57 MiB/s, done.\n",
            "Resolving deltas: 100% (7216/7216), done.\n"
          ]
        }
      ],
      "source": [
        "!git clone https://github.com/ultralytics/yolov5.git"
      ]
    },
    {
      "cell_type": "code",
      "execution_count": null,
      "metadata": {
        "id": "LlClLONJ7FSh",
        "colab": {
          "base_uri": "https://localhost:8080/"
        },
        "outputId": "fd1ed03e-7e1f-4508-c5af-4e49f9937171"
      },
      "outputs": [
        {
          "output_type": "stream",
          "name": "stdout",
          "text": [
            "Requirement already satisfied: matplotlib>=3.2.2 in /usr/local/lib/python3.7/dist-packages (from -r /content/yolov5/requirements.txt (line 4)) (3.2.2)\n",
            "Requirement already satisfied: numpy>=1.18.5 in /usr/local/lib/python3.7/dist-packages (from -r /content/yolov5/requirements.txt (line 5)) (1.19.5)\n",
            "Requirement already satisfied: opencv-python>=4.1.2 in /usr/local/lib/python3.7/dist-packages (from -r /content/yolov5/requirements.txt (line 6)) (4.1.2.30)\n",
            "Requirement already satisfied: Pillow>=7.1.2 in /usr/local/lib/python3.7/dist-packages (from -r /content/yolov5/requirements.txt (line 7)) (7.1.2)\n",
            "Collecting PyYAML>=5.3.1\n",
            "  Downloading PyYAML-6.0-cp37-cp37m-manylinux_2_5_x86_64.manylinux1_x86_64.manylinux_2_12_x86_64.manylinux2010_x86_64.whl (596 kB)\n",
            "\u001b[K     |████████████████████████████████| 596 kB 5.8 MB/s \n",
            "\u001b[?25hRequirement already satisfied: requests>=2.23.0 in /usr/local/lib/python3.7/dist-packages (from -r /content/yolov5/requirements.txt (line 9)) (2.23.0)\n",
            "Requirement already satisfied: scipy>=1.4.1 in /usr/local/lib/python3.7/dist-packages (from -r /content/yolov5/requirements.txt (line 10)) (1.4.1)\n",
            "Requirement already satisfied: torch>=1.7.0 in /usr/local/lib/python3.7/dist-packages (from -r /content/yolov5/requirements.txt (line 11)) (1.10.0+cu111)\n",
            "Requirement already satisfied: torchvision>=0.8.1 in /usr/local/lib/python3.7/dist-packages (from -r /content/yolov5/requirements.txt (line 12)) (0.11.1+cu111)\n",
            "Requirement already satisfied: tqdm>=4.41.0 in /usr/local/lib/python3.7/dist-packages (from -r /content/yolov5/requirements.txt (line 13)) (4.62.3)\n",
            "Requirement already satisfied: tensorboard>=2.4.1 in /usr/local/lib/python3.7/dist-packages (from -r /content/yolov5/requirements.txt (line 16)) (2.7.0)\n",
            "Requirement already satisfied: pandas>=1.1.4 in /usr/local/lib/python3.7/dist-packages (from -r /content/yolov5/requirements.txt (line 20)) (1.1.5)\n",
            "Requirement already satisfied: seaborn>=0.11.0 in /usr/local/lib/python3.7/dist-packages (from -r /content/yolov5/requirements.txt (line 21)) (0.11.2)\n",
            "Collecting thop\n",
            "  Downloading thop-0.0.31.post2005241907-py3-none-any.whl (8.7 kB)\n",
            "Requirement already satisfied: pyparsing!=2.0.4,!=2.1.2,!=2.1.6,>=2.0.1 in /usr/local/lib/python3.7/dist-packages (from matplotlib>=3.2.2->-r /content/yolov5/requirements.txt (line 4)) (3.0.6)\n",
            "Requirement already satisfied: python-dateutil>=2.1 in /usr/local/lib/python3.7/dist-packages (from matplotlib>=3.2.2->-r /content/yolov5/requirements.txt (line 4)) (2.8.2)\n",
            "Requirement already satisfied: cycler>=0.10 in /usr/local/lib/python3.7/dist-packages (from matplotlib>=3.2.2->-r /content/yolov5/requirements.txt (line 4)) (0.11.0)\n",
            "Requirement already satisfied: kiwisolver>=1.0.1 in /usr/local/lib/python3.7/dist-packages (from matplotlib>=3.2.2->-r /content/yolov5/requirements.txt (line 4)) (1.3.2)\n",
            "Requirement already satisfied: certifi>=2017.4.17 in /usr/local/lib/python3.7/dist-packages (from requests>=2.23.0->-r /content/yolov5/requirements.txt (line 9)) (2021.10.8)\n",
            "Requirement already satisfied: idna<3,>=2.5 in /usr/local/lib/python3.7/dist-packages (from requests>=2.23.0->-r /content/yolov5/requirements.txt (line 9)) (2.10)\n",
            "Requirement already satisfied: chardet<4,>=3.0.2 in /usr/local/lib/python3.7/dist-packages (from requests>=2.23.0->-r /content/yolov5/requirements.txt (line 9)) (3.0.4)\n",
            "Requirement already satisfied: urllib3!=1.25.0,!=1.25.1,<1.26,>=1.21.1 in /usr/local/lib/python3.7/dist-packages (from requests>=2.23.0->-r /content/yolov5/requirements.txt (line 9)) (1.24.3)\n",
            "Requirement already satisfied: typing-extensions in /usr/local/lib/python3.7/dist-packages (from torch>=1.7.0->-r /content/yolov5/requirements.txt (line 11)) (3.10.0.2)\n",
            "Requirement already satisfied: wheel>=0.26 in /usr/local/lib/python3.7/dist-packages (from tensorboard>=2.4.1->-r /content/yolov5/requirements.txt (line 16)) (0.37.0)\n",
            "Requirement already satisfied: absl-py>=0.4 in /usr/local/lib/python3.7/dist-packages (from tensorboard>=2.4.1->-r /content/yolov5/requirements.txt (line 16)) (0.12.0)\n",
            "Requirement already satisfied: werkzeug>=0.11.15 in /usr/local/lib/python3.7/dist-packages (from tensorboard>=2.4.1->-r /content/yolov5/requirements.txt (line 16)) (1.0.1)\n",
            "Requirement already satisfied: tensorboard-data-server<0.7.0,>=0.6.0 in /usr/local/lib/python3.7/dist-packages (from tensorboard>=2.4.1->-r /content/yolov5/requirements.txt (line 16)) (0.6.1)\n",
            "Requirement already satisfied: tensorboard-plugin-wit>=1.6.0 in /usr/local/lib/python3.7/dist-packages (from tensorboard>=2.4.1->-r /content/yolov5/requirements.txt (line 16)) (1.8.0)\n",
            "Requirement already satisfied: google-auth-oauthlib<0.5,>=0.4.1 in /usr/local/lib/python3.7/dist-packages (from tensorboard>=2.4.1->-r /content/yolov5/requirements.txt (line 16)) (0.4.6)\n",
            "Requirement already satisfied: markdown>=2.6.8 in /usr/local/lib/python3.7/dist-packages (from tensorboard>=2.4.1->-r /content/yolov5/requirements.txt (line 16)) (3.3.6)\n",
            "Requirement already satisfied: protobuf>=3.6.0 in /usr/local/lib/python3.7/dist-packages (from tensorboard>=2.4.1->-r /content/yolov5/requirements.txt (line 16)) (3.17.3)\n",
            "Requirement already satisfied: google-auth<3,>=1.6.3 in /usr/local/lib/python3.7/dist-packages (from tensorboard>=2.4.1->-r /content/yolov5/requirements.txt (line 16)) (1.35.0)\n",
            "Requirement already satisfied: grpcio>=1.24.3 in /usr/local/lib/python3.7/dist-packages (from tensorboard>=2.4.1->-r /content/yolov5/requirements.txt (line 16)) (1.42.0)\n",
            "Requirement already satisfied: setuptools>=41.0.0 in /usr/local/lib/python3.7/dist-packages (from tensorboard>=2.4.1->-r /content/yolov5/requirements.txt (line 16)) (57.4.0)\n",
            "Requirement already satisfied: pytz>=2017.2 in /usr/local/lib/python3.7/dist-packages (from pandas>=1.1.4->-r /content/yolov5/requirements.txt (line 20)) (2018.9)\n",
            "Requirement already satisfied: six in /usr/local/lib/python3.7/dist-packages (from absl-py>=0.4->tensorboard>=2.4.1->-r /content/yolov5/requirements.txt (line 16)) (1.15.0)\n",
            "Requirement already satisfied: rsa<5,>=3.1.4 in /usr/local/lib/python3.7/dist-packages (from google-auth<3,>=1.6.3->tensorboard>=2.4.1->-r /content/yolov5/requirements.txt (line 16)) (4.8)\n",
            "Requirement already satisfied: cachetools<5.0,>=2.0.0 in /usr/local/lib/python3.7/dist-packages (from google-auth<3,>=1.6.3->tensorboard>=2.4.1->-r /content/yolov5/requirements.txt (line 16)) (4.2.4)\n",
            "Requirement already satisfied: pyasn1-modules>=0.2.1 in /usr/local/lib/python3.7/dist-packages (from google-auth<3,>=1.6.3->tensorboard>=2.4.1->-r /content/yolov5/requirements.txt (line 16)) (0.2.8)\n",
            "Requirement already satisfied: requests-oauthlib>=0.7.0 in /usr/local/lib/python3.7/dist-packages (from google-auth-oauthlib<0.5,>=0.4.1->tensorboard>=2.4.1->-r /content/yolov5/requirements.txt (line 16)) (1.3.0)\n",
            "Requirement already satisfied: importlib-metadata>=4.4 in /usr/local/lib/python3.7/dist-packages (from markdown>=2.6.8->tensorboard>=2.4.1->-r /content/yolov5/requirements.txt (line 16)) (4.8.2)\n",
            "Requirement already satisfied: zipp>=0.5 in /usr/local/lib/python3.7/dist-packages (from importlib-metadata>=4.4->markdown>=2.6.8->tensorboard>=2.4.1->-r /content/yolov5/requirements.txt (line 16)) (3.6.0)\n",
            "Requirement already satisfied: pyasn1<0.5.0,>=0.4.6 in /usr/local/lib/python3.7/dist-packages (from pyasn1-modules>=0.2.1->google-auth<3,>=1.6.3->tensorboard>=2.4.1->-r /content/yolov5/requirements.txt (line 16)) (0.4.8)\n",
            "Requirement already satisfied: oauthlib>=3.0.0 in /usr/local/lib/python3.7/dist-packages (from requests-oauthlib>=0.7.0->google-auth-oauthlib<0.5,>=0.4.1->tensorboard>=2.4.1->-r /content/yolov5/requirements.txt (line 16)) (3.1.1)\n",
            "Installing collected packages: thop, PyYAML\n",
            "  Attempting uninstall: PyYAML\n",
            "    Found existing installation: PyYAML 3.13\n",
            "    Uninstalling PyYAML-3.13:\n",
            "      Successfully uninstalled PyYAML-3.13\n",
            "Successfully installed PyYAML-6.0 thop-0.0.31.post2005241907\n",
            "/content/yolov5\n"
          ]
        }
      ],
      "source": [
        "# If we use GPU then use default requirement file\n",
        "!pip3 install -r /content/yolov5/requirements.txt\n",
        "%cd /content/yolov5"
      ]
    },
    {
      "cell_type": "markdown",
      "metadata": {
        "id": "j6hYAbuVLm9Q"
      },
      "source": [
        "## 3. Import neccessary libraries:"
      ]
    },
    {
      "cell_type": "code",
      "execution_count": null,
      "metadata": {
        "colab": {
          "base_uri": "https://localhost:8080/"
        },
        "id": "dfUw1zoj5FE-",
        "outputId": "601c6333-8b75-44e9-a9c4-7a3964602e15"
      },
      "outputs": [
        {
          "output_type": "stream",
          "name": "stdout",
          "text": [
            "Setup complete\n"
          ]
        }
      ],
      "source": [
        "import torch\n",
        "import os\n",
        "import shutil\n",
        "import numpy as np\n",
        "from IPython.display import Image, clear_output\n",
        "\n",
        "clear_output()\n",
        "print('Setup complete')"
      ]
    },
    {
      "cell_type": "markdown",
      "metadata": {
        "id": "3lfH0PSeLuMM"
      },
      "source": [
        "> If you have clone the repo twice, you can't delete folder directly. Insteads, use this code to delete the folder.\n",
        "\n",
        "> ⚠️ Note: Use this code wisely."
      ]
    },
    {
      "cell_type": "code",
      "execution_count": null,
      "metadata": {
        "id": "HhhdPImt1LFc"
      },
      "outputs": [],
      "source": [
        "import shutil\n",
        "\n",
        "# shutil.rmtree('/content/yolov5/runs/')"
      ]
    },
    {
      "cell_type": "markdown",
      "metadata": {
        "id": "5qmKO7PSLuOB"
      },
      "source": [
        "## 4. Mount your drive for uploaded data:"
      ]
    },
    {
      "cell_type": "code",
      "execution_count": null,
      "metadata": {
        "colab": {
          "base_uri": "https://localhost:8080/"
        },
        "id": "nXKUDqA1XbJB",
        "outputId": "407429da-2008-4797-84a8-c6900799e498"
      },
      "outputs": [
        {
          "output_type": "stream",
          "name": "stdout",
          "text": [
            "Mounted at /content/drive\n"
          ]
        }
      ],
      "source": [
        "from google.colab import drive\n",
        "drive.mount('/content/drive')\n"
      ]
    },
    {
      "cell_type": "markdown",
      "metadata": {
        "id": "NmYmPD8jNS5i"
      },
      "source": [
        "## 5. Edit data.yaml file:"
      ]
    },
    {
      "cell_type": "code",
      "execution_count": null,
      "metadata": {
        "id": "OejrghDQ_YwN"
      },
      "outputs": [],
      "source": [
        "folder = 'traffic'\n",
        "root_dir = '/content/drive/MyDrive/' + folder + '/'\n",
        "num_classes = 36\n",
        "data_dir = root_dir + 'Custom_data.yaml'\n",
        "with open(data_dir, \"w\") as dataFile:\n",
        "  dataFile.write(f\"\"\"\n",
        "names:\n",
        "- Cycle Zone\n",
        "- Danger Ahead\n",
        "- Deer Zone\n",
        "- End of Right Road Go straight\n",
        "- Give Way\n",
        "- Go Left or Straight\n",
        "- Go Right or Straight\n",
        "- Go Straight\n",
        "- Huddle Road\n",
        "- Left Curve Ahead\n",
        "- Left Sharp Curve\n",
        "- No Entry\n",
        "- No Over Taking Trucks\n",
        "- No Over Taking\n",
        "- No Stopping\n",
        "- No Waiting\n",
        "- Pedestrian\n",
        "- Right Curve Ahead\n",
        "- Right Sharp Curve\n",
        "- Road Work\n",
        "- RoundAbout\n",
        "- Slippery Road\n",
        "- Snow Warning Sign\n",
        "- Speed Limit 100\n",
        "- Speed Limit 120\n",
        "- Speed Limit 20\n",
        "- Speed Limit 30\n",
        "- Speed Limit 50\n",
        "- Speed Limit 60\n",
        "- Speed Limit 70\n",
        "- Speed Limit 80\n",
        "- Stop\n",
        "- Traffic Signals Ahead\n",
        "- Truck Sign\n",
        "- Turn Left\n",
        "- Turn Right\n",
        "nc: 36\n",
        "train: {root_dir}/TrafficSignLocalizationandDetection/train/images\n",
        "val: {root_dir}/TrafficSignLocalizationandDetection/valid/images\n",
        "\"\"\")"
      ]
    },
    {
      "cell_type": "code",
      "execution_count": null,
      "metadata": {
        "id": "J_iirsv4IY1m"
      },
      "outputs": [],
      "source": [
        "%cat /content/drive/MyDrive/traffic/Custom_data.yaml"
      ]
    },
    {
      "cell_type": "markdown",
      "metadata": {
        "id": "cAMZw5DUNaSR"
      },
      "source": [
        "## 6. Create a config file:\n",
        "\n",
        "From yolov5s.yaml"
      ]
    },
    {
      "cell_type": "code",
      "execution_count": null,
      "metadata": {
        "id": "T9XVTQAfJl28"
      },
      "outputs": [],
      "source": [
        "folder = 'traffic'\n",
        "root_dir = '/content/drive/MyDrive/' + folder + '/'\n",
        "num_classes = 36\n",
        "config_dir = root_dir + 'custom_config.yaml'\n",
        "with open(config_dir, \"w\") as dataFile:\n",
        "  dataFile.write(f\"\"\"\n",
        "# YOLOv5 🚀 by Ultralytics, GPL-3.0 license\n",
        "\n",
        "# Parameters\n",
        "nc: {num_classes}  # number of classes\n",
        "depth_multiple: 0.33  # model depth multiple\n",
        "width_multiple: 0.50  # layer channel multiple\n",
        "anchors:\n",
        "  - [10,13, 16,30, 33,23]  # P3/8\n",
        "  - [30,61, 62,45, 59,119]  # P4/16\n",
        "  - [116,90, 156,198, 373,326]  # P5/32\n",
        "\n",
        "# YOLOv5 v6.0 backbone\n",
        "backbone:\n",
        "  # [from, number, module, args]\n",
        "  [[-1, 1, Conv, [64, 6, 2, 2]],  # 0-P1/2\n",
        "   [-1, 1, Conv, [128, 3, 2]],  # 1-P2/4\n",
        "   [-1, 3, C3, [128]],\n",
        "   [-1, 1, Conv, [256, 3, 2]],  # 3-P3/8\n",
        "   [-1, 6, C3, [256]],\n",
        "   [-1, 1, Conv, [512, 3, 2]],  # 5-P4/16\n",
        "   [-1, 9, C3, [512]],\n",
        "   [-1, 1, Conv, [1024, 3, 2]],  # 7-P5/32\n",
        "   [-1, 3, C3, [1024]],\n",
        "   [-1, 1, SPPF, [1024, 5]],  # 9\n",
        "  ]\n",
        "\n",
        "# YOLOv5 v6.0 head\n",
        "head:\n",
        "  [[-1, 1, Conv, [512, 1, 1]],\n",
        "   [-1, 1, nn.Upsample, [None, 2, 'nearest']],\n",
        "   [[-1, 6], 1, Concat, [1]],  # cat backbone P4\n",
        "   [-1, 3, C3, [512, False]],  # 13\n",
        "\n",
        "   [-1, 1, Conv, [256, 1, 1]],\n",
        "   [-1, 1, nn.Upsample, [None, 2, 'nearest']],\n",
        "   [[-1, 4], 1, Concat, [1]],  # cat backbone P3\n",
        "   [-1, 3, C3, [256, False]],  # 17 (P3/8-small)\n",
        "\n",
        "   [-1, 1, Conv, [256, 3, 2]],\n",
        "   [[-1, 14], 1, Concat, [1]],  # cat head P4\n",
        "   [-1, 3, C3, [512, False]],  # 20 (P4/16-medium)\n",
        "\n",
        "   [-1, 1, Conv, [512, 3, 2]],\n",
        "   [[-1, 10], 1, Concat, [1]],  # cat head P5\n",
        "   [-1, 3, C3, [1024, False]],  # 23 (P5/32-large)\n",
        "\n",
        "   [[17, 20, 23], 1, Detect, [nc, anchors]],  # Detect(P3, P4, P5)\n",
        "  ]\n",
        "\"\"\")"
      ]
    },
    {
      "cell_type": "code",
      "execution_count": null,
      "metadata": {
        "id": "_WqQ-wIrOJH9"
      },
      "outputs": [],
      "source": [
        "%cat /content/drive/MyDrive/traffic/custom_config.yaml"
      ]
    },
    {
      "cell_type": "markdown",
      "metadata": {
        "id": "wAwRytv5bOMw"
      },
      "source": [
        "## 7. Train model:"
      ]
    },
    {
      "cell_type": "markdown",
      "metadata": {
        "id": "AnZka7m1e_Ee"
      },
      "source": [
        "> Since we don't train model with pre-trained model, the training process is very slow."
      ]
    },
    {
      "cell_type": "markdown",
      "source": [
        "To increase the training result we can train with --img ~~1280~~ or increase batch size"
      ],
      "metadata": {
        "id": "9mYR_IJvMjgX"
      }
    },
    {
      "cell_type": "code",
      "execution_count": null,
      "metadata": {
        "colab": {
          "base_uri": "https://localhost:8080/"
        },
        "id": "6k5rcUXoY4iG",
        "outputId": "55a12f83-0e09-4cca-d529-07deea6531cb"
      },
      "outputs": [
        {
          "output_type": "stream",
          "name": "stdout",
          "text": [
            "/content/yolov5\n",
            "Downloading https://ultralytics.com/assets/Arial.ttf to /root/.config/Ultralytics/Arial.ttf...\n",
            "\u001b[34m\u001b[1mtrain: \u001b[0mweights=, cfg=/content/drive/MyDrive/traffic/custom_config.yaml, data=/content/drive/MyDrive/traffic/Custom_data.yaml, hyp=data/hyps/hyp.scratch.yaml, epochs=100, batch_size=50, imgsz=640, rect=False, resume=False, nosave=False, noval=False, noautoanchor=False, evolve=None, bucket=, cache=None, image_weights=False, device=, multi_scale=False, single_cls=False, optimizer=SGD, sync_bn=False, workers=8, project=runs/train, name=traffic, exist_ok=False, quad=False, linear_lr=False, label_smoothing=0.0, patience=100, freeze=[0], save_period=-1, local_rank=-1, entity=None, upload_dataset=False, bbox_interval=-1, artifact_alias=latest\n",
            "\u001b[34m\u001b[1mgithub: \u001b[0mup to date with https://github.com/ultralytics/yolov5 ✅\n",
            "YOLOv5 🚀 v6.0-177-g5402753 torch 1.10.0+cu111 CUDA:0 (Tesla K80, 11441MiB)\n",
            "\n",
            "\u001b[34m\u001b[1mhyperparameters: \u001b[0mlr0=0.01, lrf=0.1, momentum=0.937, weight_decay=0.0005, warmup_epochs=3.0, warmup_momentum=0.8, warmup_bias_lr=0.1, box=0.05, cls=0.5, cls_pw=1.0, obj=1.0, obj_pw=1.0, iou_t=0.2, anchor_t=4.0, fl_gamma=0.0, hsv_h=0.015, hsv_s=0.7, hsv_v=0.4, degrees=0.0, translate=0.1, scale=0.5, shear=0.0, perspective=0.0, flipud=0.0, fliplr=0.5, mosaic=1.0, mixup=0.0, copy_paste=0.0\n",
            "\u001b[34m\u001b[1mWeights & Biases: \u001b[0mrun 'pip install wandb' to automatically track and visualize YOLOv5 🚀 runs (RECOMMENDED)\n",
            "\u001b[34m\u001b[1mTensorBoard: \u001b[0mStart with 'tensorboard --logdir runs/train', view at http://localhost:6006/\n",
            "\n",
            "                 from  n    params  module                                  arguments                     \n",
            "  0                -1  1      3520  models.common.Conv                      [3, 32, 6, 2, 2]              \n",
            "  1                -1  1     18560  models.common.Conv                      [32, 64, 3, 2]                \n",
            "  2                -1  1     18816  models.common.C3                        [64, 64, 1]                   \n",
            "  3                -1  1     73984  models.common.Conv                      [64, 128, 3, 2]               \n",
            "  4                -1  2    115712  models.common.C3                        [128, 128, 2]                 \n",
            "  5                -1  1    295424  models.common.Conv                      [128, 256, 3, 2]              \n",
            "  6                -1  3    625152  models.common.C3                        [256, 256, 3]                 \n",
            "  7                -1  1   1180672  models.common.Conv                      [256, 512, 3, 2]              \n",
            "  8                -1  1   1182720  models.common.C3                        [512, 512, 1]                 \n",
            "  9                -1  1    656896  models.common.SPPF                      [512, 512, 5]                 \n",
            " 10                -1  1    131584  models.common.Conv                      [512, 256, 1, 1]              \n",
            " 11                -1  1         0  torch.nn.modules.upsampling.Upsample    [None, 2, 'nearest']          \n",
            " 12           [-1, 6]  1         0  models.common.Concat                    [1]                           \n",
            " 13                -1  1    361984  models.common.C3                        [512, 256, 1, False]          \n",
            " 14                -1  1     33024  models.common.Conv                      [256, 128, 1, 1]              \n",
            " 15                -1  1         0  torch.nn.modules.upsampling.Upsample    [None, 2, 'nearest']          \n",
            " 16           [-1, 4]  1         0  models.common.Concat                    [1]                           \n",
            " 17                -1  1     90880  models.common.C3                        [256, 128, 1, False]          \n",
            " 18                -1  1    147712  models.common.Conv                      [128, 128, 3, 2]              \n",
            " 19          [-1, 14]  1         0  models.common.Concat                    [1]                           \n",
            " 20                -1  1    296448  models.common.C3                        [256, 256, 1, False]          \n",
            " 21                -1  1    590336  models.common.Conv                      [256, 256, 3, 2]              \n",
            " 22          [-1, 10]  1         0  models.common.Concat                    [1]                           \n",
            " 23                -1  1   1182720  models.common.C3                        [512, 512, 1, False]          \n",
            " 24      [17, 20, 23]  1    110577  models.yolo.Detect                      [36, [[10, 13, 16, 30, 33, 23], [30, 61, 62, 45, 59, 119], [116, 90, 156, 198, 373, 326]], [128, 256, 512]]\n",
            "Model Summary: 270 layers, 7116721 parameters, 7116721 gradients, 16.2 GFLOPs\n",
            "\n",
            "Scaled weight_decay = 0.000390625\n",
            "\u001b[34m\u001b[1moptimizer:\u001b[0m SGD with parameter groups 57 weight, 60 weight (no decay), 60 bias\n",
            "\u001b[34m\u001b[1malbumentations: \u001b[0mversion 1.0.3 required by YOLOv5, but version 0.1.12 is currently installed\n",
            "\u001b[34m\u001b[1mtrain: \u001b[0mScanning '/content/drive/MyDrive/traffic/TrafficSignLocalizationandDetection/train/labels.cache' images and labels... 1392 found, 0 missing, 0 empty, 0 corrupted: 100% 1392/1392 [00:00<?, ?it/s]\n",
            "\u001b[34m\u001b[1mval: \u001b[0mScanning '/content/drive/MyDrive/traffic/TrafficSignLocalizationandDetection/valid/labels.cache' images and labels... 173 found, 0 missing, 0 empty, 0 corrupted: 100% 173/173 [00:00<?, ?it/s]\n",
            "Plotting labels to runs/train/traffic/labels.jpg... \n",
            "\n",
            "\u001b[34m\u001b[1mAutoAnchor: \u001b[0m5.07 anchors/target, 1.000 Best Possible Recall (BPR). Current anchors are a good fit to dataset ✅\n",
            "Image sizes 640 train, 640 val\n",
            "Using 2 dataloader workers\n",
            "Logging results to \u001b[1mruns/train/traffic\u001b[0m\n",
            "Starting training for 100 epochs...\n",
            "\n",
            "     Epoch   gpu_mem       box       obj       cls    labels  img_size\n",
            "      0/99      9.8G    0.1064   0.02497   0.09166        82       640: 100% 28/28 [01:59<00:00,  4.28s/it]\n",
            "               Class     Images     Labels          P          R     mAP@.5 mAP@.5:.95: 100% 2/2 [00:03<00:00,  1.85s/it]\n",
            "                 all        173          0          0          0          0          0\n",
            "\n",
            "     Epoch   gpu_mem       box       obj       cls    labels  img_size\n",
            "      1/99     11.3G   0.09941   0.02072   0.08783        70       640: 100% 28/28 [01:41<00:00,  3.62s/it]\n",
            "               Class     Images     Labels          P          R     mAP@.5 mAP@.5:.95: 100% 2/2 [00:03<00:00,  1.84s/it]\n",
            "                 all        173          0          0          0          0          0\n",
            "\n",
            "     Epoch   gpu_mem       box       obj       cls    labels  img_size\n",
            "      2/99     11.3G   0.09752   0.01973   0.08441        84       640: 100% 28/28 [01:41<00:00,  3.62s/it]\n",
            "               Class     Images     Labels          P          R     mAP@.5 mAP@.5:.95: 100% 2/2 [00:03<00:00,  1.82s/it]\n",
            "                 all        173          0          0          0          0          0\n",
            "\n",
            "     Epoch   gpu_mem       box       obj       cls    labels  img_size\n",
            "      3/99     11.3G   0.09612   0.01947    0.0822        74       640: 100% 28/28 [01:41<00:00,  3.62s/it]\n",
            "               Class     Images     Labels          P          R     mAP@.5 mAP@.5:.95: 100% 2/2 [00:03<00:00,  1.83s/it]\n",
            "                 all        173          0          0          0          0          0\n",
            "\n",
            "     Epoch   gpu_mem       box       obj       cls    labels  img_size\n",
            "      4/99     11.3G   0.09297   0.02013   0.08011        91       640: 100% 28/28 [01:41<00:00,  3.62s/it]\n",
            "               Class     Images     Labels          P          R     mAP@.5 mAP@.5:.95: 100% 2/2 [00:03<00:00,  1.87s/it]\n",
            "                 all        173          0          0          0          0          0\n",
            "\n",
            "     Epoch   gpu_mem       box       obj       cls    labels  img_size\n",
            "      5/99     11.3G    0.0867   0.02128   0.07761        73       640: 100% 28/28 [01:41<00:00,  3.61s/it]\n",
            "               Class     Images     Labels          P          R     mAP@.5 mAP@.5:.95: 100% 2/2 [00:03<00:00,  1.90s/it]\n",
            "                 all        173        212     0.0699     0.0233   0.000574   0.000161\n",
            "\n",
            "     Epoch   gpu_mem       box       obj       cls    labels  img_size\n",
            "      6/99     11.3G   0.08103   0.02236   0.07447        80       640: 100% 28/28 [01:40<00:00,  3.60s/it]\n",
            "               Class     Images     Labels          P          R     mAP@.5 mAP@.5:.95: 100% 2/2 [00:04<00:00,  2.05s/it]\n",
            "                 all        173        212      0.416     0.0502     0.0017   0.000319\n",
            "\n",
            "     Epoch   gpu_mem       box       obj       cls    labels  img_size\n",
            "      7/99     11.3G   0.07784   0.02273   0.07337        98       640: 100% 28/28 [01:41<00:00,  3.61s/it]\n",
            "               Class     Images     Labels          P          R     mAP@.5 mAP@.5:.95: 100% 2/2 [00:04<00:00,  2.02s/it]\n",
            "                 all        173        212      0.857     0.0114     0.0161     0.0046\n",
            "\n",
            "     Epoch   gpu_mem       box       obj       cls    labels  img_size\n",
            "      8/99     11.3G    0.0745   0.02167   0.07104        81       640: 100% 28/28 [01:41<00:00,  3.61s/it]\n",
            "               Class     Images     Labels          P          R     mAP@.5 mAP@.5:.95: 100% 2/2 [00:04<00:00,  2.10s/it]\n",
            "                 all        173        212      0.603     0.0691     0.0233    0.00717\n",
            "\n",
            "     Epoch   gpu_mem       box       obj       cls    labels  img_size\n",
            "      9/99     11.3G   0.07114   0.02033   0.06936        79       640: 100% 28/28 [01:40<00:00,  3.60s/it]\n",
            "               Class     Images     Labels          P          R     mAP@.5 mAP@.5:.95: 100% 2/2 [00:04<00:00,  2.15s/it]\n",
            "                 all        173        212      0.746     0.0569     0.0299      0.011\n",
            "\n",
            "     Epoch   gpu_mem       box       obj       cls    labels  img_size\n",
            "     10/99     11.3G   0.06581   0.02064   0.06924        94       640: 100% 28/28 [01:40<00:00,  3.60s/it]\n",
            "               Class     Images     Labels          P          R     mAP@.5 mAP@.5:.95: 100% 2/2 [00:04<00:00,  2.22s/it]\n",
            "                 all        173        212      0.829       0.05     0.0315     0.0122\n",
            "\n",
            "     Epoch   gpu_mem       box       obj       cls    labels  img_size\n",
            "     11/99     11.3G   0.06401   0.01936   0.06833        87       640: 100% 28/28 [01:40<00:00,  3.60s/it]\n",
            "               Class     Images     Labels          P          R     mAP@.5 mAP@.5:.95: 100% 2/2 [00:04<00:00,  2.13s/it]\n",
            "                 all        173        212      0.835     0.0817     0.0496     0.0192\n",
            "\n",
            "     Epoch   gpu_mem       box       obj       cls    labels  img_size\n",
            "     12/99     11.3G   0.06204   0.01885    0.0679        83       640: 100% 28/28 [01:41<00:00,  3.61s/it]\n",
            "               Class     Images     Labels          P          R     mAP@.5 mAP@.5:.95: 100% 2/2 [00:04<00:00,  2.16s/it]\n",
            "                 all        173        212      0.804     0.0821     0.0499      0.019\n",
            "\n",
            "     Epoch   gpu_mem       box       obj       cls    labels  img_size\n",
            "     13/99     11.3G   0.05974   0.01725   0.06674        81       640: 100% 28/28 [01:41<00:00,  3.61s/it]\n",
            "               Class     Images     Labels          P          R     mAP@.5 mAP@.5:.95: 100% 2/2 [00:04<00:00,  2.15s/it]\n",
            "                 all        173        212      0.768     0.0962      0.057     0.0268\n",
            "\n",
            "     Epoch   gpu_mem       box       obj       cls    labels  img_size\n",
            "     14/99     11.3G   0.05799   0.01672   0.06485        87       640: 100% 28/28 [01:41<00:00,  3.62s/it]\n",
            "               Class     Images     Labels          P          R     mAP@.5 mAP@.5:.95: 100% 2/2 [00:04<00:00,  2.19s/it]\n",
            "                 all        173        212      0.764      0.103     0.0674     0.0366\n",
            "\n",
            "     Epoch   gpu_mem       box       obj       cls    labels  img_size\n",
            "     15/99     11.3G   0.05822    0.0167   0.06461        79       640: 100% 28/28 [01:41<00:00,  3.62s/it]\n",
            "               Class     Images     Labels          P          R     mAP@.5 mAP@.5:.95: 100% 2/2 [00:04<00:00,  2.27s/it]\n",
            "                 all        173        212      0.711      0.152     0.0985     0.0495\n",
            "\n",
            "     Epoch   gpu_mem       box       obj       cls    labels  img_size\n",
            "     16/99     11.3G   0.05595   0.01644   0.06468        79       640: 100% 28/28 [01:41<00:00,  3.63s/it]\n",
            "               Class     Images     Labels          P          R     mAP@.5 mAP@.5:.95: 100% 2/2 [00:04<00:00,  2.16s/it]\n",
            "                 all        173        212      0.644      0.181     0.0966     0.0521\n",
            "\n",
            "     Epoch   gpu_mem       box       obj       cls    labels  img_size\n",
            "     17/99     11.3G    0.0552   0.01596    0.0634        79       640: 100% 28/28 [01:41<00:00,  3.63s/it]\n",
            "               Class     Images     Labels          P          R     mAP@.5 mAP@.5:.95: 100% 2/2 [00:04<00:00,  2.19s/it]\n",
            "                 all        173        212      0.578      0.196      0.118     0.0618\n",
            "\n",
            "     Epoch   gpu_mem       box       obj       cls    labels  img_size\n",
            "     18/99     11.3G   0.05424    0.0154   0.06269        79       640: 100% 28/28 [01:41<00:00,  3.63s/it]\n",
            "               Class     Images     Labels          P          R     mAP@.5 mAP@.5:.95: 100% 2/2 [00:04<00:00,  2.30s/it]\n",
            "                 all        173        212      0.617      0.158      0.116     0.0673\n",
            "\n",
            "     Epoch   gpu_mem       box       obj       cls    labels  img_size\n",
            "     19/99     11.3G   0.05298   0.01505   0.06147        76       640: 100% 28/28 [01:41<00:00,  3.62s/it]\n",
            "               Class     Images     Labels          P          R     mAP@.5 mAP@.5:.95: 100% 2/2 [00:04<00:00,  2.24s/it]\n",
            "                 all        173        212      0.719       0.14      0.119     0.0655\n",
            "\n",
            "     Epoch   gpu_mem       box       obj       cls    labels  img_size\n",
            "     20/99     11.3G    0.0519   0.01522   0.06224        82       640: 100% 28/28 [01:41<00:00,  3.63s/it]\n",
            "               Class     Images     Labels          P          R     mAP@.5 mAP@.5:.95: 100% 2/2 [00:04<00:00,  2.20s/it]\n",
            "                 all        173        212      0.689      0.203      0.118     0.0652\n",
            "\n",
            "     Epoch   gpu_mem       box       obj       cls    labels  img_size\n",
            "     21/99     11.3G   0.05046   0.01476   0.06054        67       640: 100% 28/28 [01:41<00:00,  3.63s/it]\n",
            "               Class     Images     Labels          P          R     mAP@.5 mAP@.5:.95: 100% 2/2 [00:04<00:00,  2.18s/it]\n",
            "                 all        173        212      0.664      0.174      0.116     0.0639\n",
            "\n",
            "     Epoch   gpu_mem       box       obj       cls    labels  img_size\n",
            "     22/99     11.3G   0.05044   0.01464   0.05946        84       640: 100% 28/28 [01:41<00:00,  3.63s/it]\n",
            "               Class     Images     Labels          P          R     mAP@.5 mAP@.5:.95: 100% 2/2 [00:04<00:00,  2.22s/it]\n",
            "                 all        173        212      0.609      0.187      0.112     0.0642\n",
            "\n",
            "     Epoch   gpu_mem       box       obj       cls    labels  img_size\n",
            "     23/99     11.3G   0.04936    0.0142   0.05931        83       640: 100% 28/28 [01:41<00:00,  3.63s/it]\n",
            "               Class     Images     Labels          P          R     mAP@.5 mAP@.5:.95: 100% 2/2 [00:04<00:00,  2.22s/it]\n",
            "                 all        173        212      0.597      0.225      0.121     0.0656\n",
            "\n",
            "     Epoch   gpu_mem       box       obj       cls    labels  img_size\n",
            "     24/99     11.3G   0.04867   0.01392   0.05892        72       640: 100% 28/28 [01:41<00:00,  3.63s/it]\n",
            "               Class     Images     Labels          P          R     mAP@.5 mAP@.5:.95: 100% 2/2 [00:04<00:00,  2.21s/it]\n",
            "                 all        173        212      0.558      0.197      0.142     0.0767\n",
            "\n",
            "     Epoch   gpu_mem       box       obj       cls    labels  img_size\n",
            "     25/99     11.3G   0.04732   0.01351   0.05745        74       640: 100% 28/28 [01:41<00:00,  3.62s/it]\n",
            "               Class     Images     Labels          P          R     mAP@.5 mAP@.5:.95: 100% 2/2 [00:04<00:00,  2.16s/it]\n",
            "                 all        173        212      0.668      0.163      0.126      0.065\n",
            "\n",
            "     Epoch   gpu_mem       box       obj       cls    labels  img_size\n",
            "     26/99     11.3G   0.04593   0.01399   0.05727        82       640: 100% 28/28 [01:41<00:00,  3.63s/it]\n",
            "               Class     Images     Labels          P          R     mAP@.5 mAP@.5:.95: 100% 2/2 [00:04<00:00,  2.13s/it]\n",
            "                 all        173        212      0.675       0.19      0.128     0.0787\n",
            "\n",
            "     Epoch   gpu_mem       box       obj       cls    labels  img_size\n",
            "     27/99     11.3G   0.04521   0.01298   0.05721        93       640: 100% 28/28 [01:41<00:00,  3.63s/it]\n",
            "               Class     Images     Labels          P          R     mAP@.5 mAP@.5:.95: 100% 2/2 [00:04<00:00,  2.16s/it]\n",
            "                 all        173        212      0.696      0.177      0.125     0.0696\n",
            "\n",
            "     Epoch   gpu_mem       box       obj       cls    labels  img_size\n",
            "     28/99     11.3G   0.04472   0.01277   0.05593        90       640: 100% 28/28 [01:41<00:00,  3.64s/it]\n",
            "               Class     Images     Labels          P          R     mAP@.5 mAP@.5:.95: 100% 2/2 [00:04<00:00,  2.20s/it]\n",
            "                 all        173        212       0.65      0.229       0.15     0.0823\n",
            "\n",
            "     Epoch   gpu_mem       box       obj       cls    labels  img_size\n",
            "     29/99     11.3G    0.0436   0.01269   0.05656        59       640: 100% 28/28 [01:41<00:00,  3.64s/it]\n",
            "               Class     Images     Labels          P          R     mAP@.5 mAP@.5:.95: 100% 2/2 [00:04<00:00,  2.14s/it]\n",
            "                 all        173        212      0.659      0.212       0.13     0.0811\n",
            "\n",
            "     Epoch   gpu_mem       box       obj       cls    labels  img_size\n",
            "     30/99     11.3G   0.04478   0.01264    0.0567        95       640: 100% 28/28 [01:41<00:00,  3.64s/it]\n",
            "               Class     Images     Labels          P          R     mAP@.5 mAP@.5:.95: 100% 2/2 [00:04<00:00,  2.17s/it]\n",
            "                 all        173        212      0.544      0.265      0.116     0.0555\n",
            "\n",
            "     Epoch   gpu_mem       box       obj       cls    labels  img_size\n",
            "     31/99     11.3G   0.04226   0.01266   0.05554        67       640: 100% 28/28 [01:41<00:00,  3.64s/it]\n",
            "               Class     Images     Labels          P          R     mAP@.5 mAP@.5:.95: 100% 2/2 [00:04<00:00,  2.22s/it]\n",
            "                 all        173        212      0.619      0.185      0.161     0.0807\n",
            "\n",
            "     Epoch   gpu_mem       box       obj       cls    labels  img_size\n",
            "     32/99     11.3G   0.04171    0.0127   0.05435        87       640: 100% 28/28 [01:42<00:00,  3.65s/it]\n",
            "               Class     Images     Labels          P          R     mAP@.5 mAP@.5:.95: 100% 2/2 [00:04<00:00,  2.32s/it]\n",
            "                 all        173        212      0.512      0.306      0.177     0.0944\n",
            "\n",
            "     Epoch   gpu_mem       box       obj       cls    labels  img_size\n",
            "     33/99     11.3G   0.04077   0.01224   0.05471        92       640: 100% 28/28 [01:42<00:00,  3.65s/it]\n",
            "               Class     Images     Labels          P          R     mAP@.5 mAP@.5:.95: 100% 2/2 [00:04<00:00,  2.20s/it]\n",
            "                 all        173        212      0.641       0.22      0.167     0.0824\n",
            "\n",
            "     Epoch   gpu_mem       box       obj       cls    labels  img_size\n",
            "     34/99     11.3G   0.04081   0.01195   0.05456        92       640: 100% 28/28 [01:42<00:00,  3.65s/it]\n",
            "               Class     Images     Labels          P          R     mAP@.5 mAP@.5:.95: 100% 2/2 [00:04<00:00,  2.15s/it]\n",
            "                 all        173        212      0.385      0.356      0.182     0.0959\n",
            "\n",
            "     Epoch   gpu_mem       box       obj       cls    labels  img_size\n",
            "     35/99     11.3G   0.04013   0.01177   0.05393        92       640: 100% 28/28 [01:42<00:00,  3.65s/it]\n",
            "               Class     Images     Labels          P          R     mAP@.5 mAP@.5:.95: 100% 2/2 [00:04<00:00,  2.19s/it]\n",
            "                 all        173        212      0.412      0.318      0.176      0.106\n",
            "\n",
            "     Epoch   gpu_mem       box       obj       cls    labels  img_size\n",
            "     36/99     11.3G   0.04022   0.01181   0.05311        82       640: 100% 28/28 [01:42<00:00,  3.65s/it]\n",
            "               Class     Images     Labels          P          R     mAP@.5 mAP@.5:.95: 100% 2/2 [00:04<00:00,  2.17s/it]\n",
            "                 all        173        212       0.44       0.29      0.151     0.0771\n",
            "\n",
            "     Epoch   gpu_mem       box       obj       cls    labels  img_size\n",
            "     37/99     11.3G   0.03865   0.01221   0.05437       100       640: 100% 28/28 [01:42<00:00,  3.65s/it]\n",
            "               Class     Images     Labels          P          R     mAP@.5 mAP@.5:.95: 100% 2/2 [00:04<00:00,  2.24s/it]\n",
            "                 all        173        212       0.36      0.382      0.163     0.0926\n",
            "\n",
            "     Epoch   gpu_mem       box       obj       cls    labels  img_size\n",
            "     38/99     11.3G   0.03772   0.01108   0.05191        66       640: 100% 28/28 [01:42<00:00,  3.65s/it]\n",
            "               Class     Images     Labels          P          R     mAP@.5 mAP@.5:.95: 100% 2/2 [00:04<00:00,  2.28s/it]\n",
            "                 all        173        212      0.382      0.344      0.194      0.106\n",
            "\n",
            "     Epoch   gpu_mem       box       obj       cls    labels  img_size\n",
            "     39/99     11.3G   0.03732   0.01099   0.05231        71       640: 100% 28/28 [01:42<00:00,  3.64s/it]\n",
            "               Class     Images     Labels          P          R     mAP@.5 mAP@.5:.95: 100% 2/2 [00:04<00:00,  2.16s/it]\n",
            "                 all        173        212      0.756      0.198      0.159      0.103\n",
            "\n",
            "     Epoch   gpu_mem       box       obj       cls    labels  img_size\n",
            "     40/99     11.3G   0.03678   0.01072   0.05127        96       640: 100% 28/28 [01:42<00:00,  3.66s/it]\n",
            "               Class     Images     Labels          P          R     mAP@.5 mAP@.5:.95: 100% 2/2 [00:04<00:00,  2.16s/it]\n",
            "                 all        173        212      0.679      0.192       0.18       0.11\n",
            "\n",
            "     Epoch   gpu_mem       box       obj       cls    labels  img_size\n",
            "     41/99     11.3G   0.03682   0.01107   0.05229        79       640: 100% 28/28 [01:41<00:00,  3.64s/it]\n",
            "               Class     Images     Labels          P          R     mAP@.5 mAP@.5:.95: 100% 2/2 [00:04<00:00,  2.14s/it]\n",
            "                 all        173        212      0.367      0.395      0.199      0.126\n",
            "\n",
            "     Epoch   gpu_mem       box       obj       cls    labels  img_size\n",
            "     42/99     11.3G   0.03606   0.01077   0.05223        79       640: 100% 28/28 [01:42<00:00,  3.65s/it]\n",
            "               Class     Images     Labels          P          R     mAP@.5 mAP@.5:.95: 100% 2/2 [00:04<00:00,  2.16s/it]\n",
            "                 all        173        212      0.419       0.37      0.188      0.117\n",
            "\n",
            "     Epoch   gpu_mem       box       obj       cls    labels  img_size\n",
            "     43/99     11.3G   0.03437   0.01097   0.05163        77       640: 100% 28/28 [01:42<00:00,  3.65s/it]\n",
            "               Class     Images     Labels          P          R     mAP@.5 mAP@.5:.95: 100% 2/2 [00:04<00:00,  2.18s/it]\n",
            "                 all        173        212      0.481      0.382      0.211      0.131\n",
            "\n",
            "     Epoch   gpu_mem       box       obj       cls    labels  img_size\n",
            "     44/99     11.3G     0.035   0.01056   0.05078        71       640: 100% 28/28 [01:42<00:00,  3.65s/it]\n",
            "               Class     Images     Labels          P          R     mAP@.5 mAP@.5:.95: 100% 2/2 [00:04<00:00,  2.15s/it]\n",
            "                 all        173        212      0.604      0.262       0.21      0.127\n",
            "\n",
            "     Epoch   gpu_mem       box       obj       cls    labels  img_size\n",
            "     45/99     11.3G   0.03458   0.01072   0.05172        89       640: 100% 28/28 [01:42<00:00,  3.67s/it]\n",
            "               Class     Images     Labels          P          R     mAP@.5 mAP@.5:.95: 100% 2/2 [00:04<00:00,  2.18s/it]\n",
            "                 all        173        212      0.466      0.367      0.235       0.15\n",
            "\n",
            "     Epoch   gpu_mem       box       obj       cls    labels  img_size\n",
            "     46/99     11.3G   0.03354   0.01026   0.04986        65       640: 100% 28/28 [01:43<00:00,  3.70s/it]\n",
            "               Class     Images     Labels          P          R     mAP@.5 mAP@.5:.95: 100% 2/2 [00:04<00:00,  2.20s/it]\n",
            "                 all        173        212      0.321      0.438      0.212      0.129\n",
            "\n",
            "     Epoch   gpu_mem       box       obj       cls    labels  img_size\n",
            "     47/99     11.3G    0.0339   0.01016      0.05        73       640: 100% 28/28 [01:43<00:00,  3.70s/it]\n",
            "               Class     Images     Labels          P          R     mAP@.5 mAP@.5:.95: 100% 2/2 [00:04<00:00,  2.17s/it]\n",
            "                 all        173        212      0.339       0.48      0.236      0.141\n",
            "\n",
            "     Epoch   gpu_mem       box       obj       cls    labels  img_size\n",
            "     48/99     11.3G   0.03334   0.01023   0.05055        82       640: 100% 28/28 [01:43<00:00,  3.70s/it]\n",
            "               Class     Images     Labels          P          R     mAP@.5 mAP@.5:.95: 100% 2/2 [00:04<00:00,  2.19s/it]\n",
            "                 all        173        212      0.359      0.362      0.216      0.142\n",
            "\n",
            "     Epoch   gpu_mem       box       obj       cls    labels  img_size\n",
            "     49/99     11.3G    0.0321   0.01018   0.05125        93       640: 100% 28/28 [01:43<00:00,  3.69s/it]\n",
            "               Class     Images     Labels          P          R     mAP@.5 mAP@.5:.95: 100% 2/2 [00:04<00:00,  2.20s/it]\n",
            "                 all        173        212      0.373      0.367      0.236      0.146\n",
            "\n",
            "     Epoch   gpu_mem       box       obj       cls    labels  img_size\n",
            "     50/99     11.3G   0.03283   0.01037   0.05011        77       640: 100% 28/28 [01:43<00:00,  3.70s/it]\n",
            "               Class     Images     Labels          P          R     mAP@.5 mAP@.5:.95: 100% 2/2 [00:04<00:00,  2.21s/it]\n",
            "                 all        173        212      0.424      0.377       0.26      0.156\n",
            "\n",
            "     Epoch   gpu_mem       box       obj       cls    labels  img_size\n",
            "     51/99     11.3G   0.03169   0.01011   0.04942        79       640: 100% 28/28 [01:43<00:00,  3.69s/it]\n",
            "               Class     Images     Labels          P          R     mAP@.5 mAP@.5:.95: 100% 2/2 [00:04<00:00,  2.20s/it]\n",
            "                 all        173        212      0.617      0.276      0.234      0.149\n",
            "\n",
            "     Epoch   gpu_mem       box       obj       cls    labels  img_size\n",
            "     52/99     11.3G   0.03174   0.01003   0.04879        77       640: 100% 28/28 [01:42<00:00,  3.67s/it]\n",
            "               Class     Images     Labels          P          R     mAP@.5 mAP@.5:.95: 100% 2/2 [00:04<00:00,  2.19s/it]\n",
            "                 all        173        212      0.533      0.281      0.227      0.143\n",
            "\n",
            "     Epoch   gpu_mem       box       obj       cls    labels  img_size\n",
            "     53/99     11.3G   0.03116  0.009727   0.04822        88       640: 100% 28/28 [01:42<00:00,  3.67s/it]\n",
            "               Class     Images     Labels          P          R     mAP@.5 mAP@.5:.95: 100% 2/2 [00:04<00:00,  2.18s/it]\n",
            "                 all        173        212      0.532      0.295      0.264      0.171\n",
            "\n",
            "     Epoch   gpu_mem       box       obj       cls    labels  img_size\n",
            "     54/99     11.3G   0.03144  0.009761   0.04727        68       640: 100% 28/28 [01:42<00:00,  3.67s/it]\n",
            "               Class     Images     Labels          P          R     mAP@.5 mAP@.5:.95: 100% 2/2 [00:04<00:00,  2.19s/it]\n",
            "                 all        173        212      0.401       0.42       0.25      0.169\n",
            "\n",
            "     Epoch   gpu_mem       box       obj       cls    labels  img_size\n",
            "     55/99     11.3G   0.03072  0.009617   0.04752        95       640: 100% 28/28 [01:42<00:00,  3.67s/it]\n",
            "               Class     Images     Labels          P          R     mAP@.5 mAP@.5:.95: 100% 2/2 [00:04<00:00,  2.16s/it]\n",
            "                 all        173        212      0.306      0.495       0.26      0.163\n",
            "\n",
            "     Epoch   gpu_mem       box       obj       cls    labels  img_size\n",
            "     56/99     11.3G   0.03023  0.009574   0.04814        75       640: 100% 28/28 [01:42<00:00,  3.67s/it]\n",
            "               Class     Images     Labels          P          R     mAP@.5 mAP@.5:.95: 100% 2/2 [00:04<00:00,  2.14s/it]\n",
            "                 all        173        212       0.29      0.485      0.266      0.174\n",
            "\n",
            "     Epoch   gpu_mem       box       obj       cls    labels  img_size\n",
            "     57/99     11.3G   0.02961  0.009524   0.04656        73       640: 100% 28/28 [01:42<00:00,  3.67s/it]\n",
            "               Class     Images     Labels          P          R     mAP@.5 mAP@.5:.95: 100% 2/2 [00:04<00:00,  2.16s/it]\n",
            "                 all        173        212      0.426      0.366       0.27      0.178\n",
            "\n",
            "     Epoch   gpu_mem       box       obj       cls    labels  img_size\n",
            "     58/99     11.3G   0.03027  0.009493   0.04789        90       640: 100% 28/28 [01:42<00:00,  3.67s/it]\n",
            "               Class     Images     Labels          P          R     mAP@.5 mAP@.5:.95: 100% 2/2 [00:04<00:00,  2.17s/it]\n",
            "                 all        173        212      0.467      0.334       0.26       0.17\n",
            "\n",
            "     Epoch   gpu_mem       box       obj       cls    labels  img_size\n",
            "     59/99     11.3G   0.02879  0.009416    0.0468        85       640: 100% 28/28 [01:42<00:00,  3.67s/it]\n",
            "               Class     Images     Labels          P          R     mAP@.5 mAP@.5:.95: 100% 2/2 [00:04<00:00,  2.16s/it]\n",
            "                 all        173        212      0.414      0.387       0.28      0.171\n",
            "\n",
            "     Epoch   gpu_mem       box       obj       cls    labels  img_size\n",
            "     60/99     11.3G   0.02996  0.009538   0.04817        70       640: 100% 28/28 [01:42<00:00,  3.67s/it]\n",
            "               Class     Images     Labels          P          R     mAP@.5 mAP@.5:.95: 100% 2/2 [00:04<00:00,  2.17s/it]\n",
            "                 all        173        212      0.405      0.433      0.283       0.18\n",
            "\n",
            "     Epoch   gpu_mem       box       obj       cls    labels  img_size\n",
            "     61/99     11.3G   0.02898  0.009745   0.04647        84       640: 100% 28/28 [01:42<00:00,  3.66s/it]\n",
            "               Class     Images     Labels          P          R     mAP@.5 mAP@.5:.95: 100% 2/2 [00:04<00:00,  2.22s/it]\n",
            "                 all        173        212      0.303      0.502      0.268      0.176\n",
            "\n",
            "     Epoch   gpu_mem       box       obj       cls    labels  img_size\n",
            "     62/99     11.3G   0.02933  0.009288   0.04634        95       640: 100% 28/28 [01:42<00:00,  3.66s/it]\n",
            "               Class     Images     Labels          P          R     mAP@.5 mAP@.5:.95: 100% 2/2 [00:04<00:00,  2.15s/it]\n",
            "                 all        173        212      0.322      0.473      0.272       0.17\n",
            "\n",
            "     Epoch   gpu_mem       box       obj       cls    labels  img_size\n",
            "     63/99     11.3G   0.02836  0.009413   0.04636        88       640: 100% 28/28 [01:42<00:00,  3.66s/it]\n",
            "               Class     Images     Labels          P          R     mAP@.5 mAP@.5:.95: 100% 2/2 [00:04<00:00,  2.22s/it]\n",
            "                 all        173        212      0.365      0.468      0.272      0.181\n",
            "\n",
            "     Epoch   gpu_mem       box       obj       cls    labels  img_size\n",
            "     64/99     11.3G   0.02844  0.009005    0.0458        78       640: 100% 28/28 [01:42<00:00,  3.66s/it]\n",
            "               Class     Images     Labels          P          R     mAP@.5 mAP@.5:.95: 100% 2/2 [00:04<00:00,  2.19s/it]\n",
            "                 all        173        212      0.416      0.424      0.285      0.185\n",
            "\n",
            "     Epoch   gpu_mem       box       obj       cls    labels  img_size\n",
            "     65/99     11.3G   0.02828  0.008939   0.04541        90       640: 100% 28/28 [01:42<00:00,  3.67s/it]\n",
            "               Class     Images     Labels          P          R     mAP@.5 mAP@.5:.95: 100% 2/2 [00:04<00:00,  2.14s/it]\n",
            "                 all        173        212      0.376      0.467      0.296      0.193\n",
            "\n",
            "     Epoch   gpu_mem       box       obj       cls    labels  img_size\n",
            "     66/99     11.3G   0.02811   0.00912   0.04523        70       640: 100% 28/28 [01:43<00:00,  3.68s/it]\n",
            "               Class     Images     Labels          P          R     mAP@.5 mAP@.5:.95: 100% 2/2 [00:04<00:00,  2.14s/it]\n",
            "                 all        173        212      0.391      0.386        0.3      0.197\n",
            "\n",
            "     Epoch   gpu_mem       box       obj       cls    labels  img_size\n",
            "     67/99     11.3G   0.02881  0.008927   0.04541        79       640: 100% 28/28 [01:42<00:00,  3.67s/it]\n",
            "               Class     Images     Labels          P          R     mAP@.5 mAP@.5:.95: 100% 2/2 [00:04<00:00,  2.22s/it]\n",
            "                 all        173        212      0.577      0.315      0.302      0.199\n",
            "\n",
            "     Epoch   gpu_mem       box       obj       cls    labels  img_size\n",
            "     68/99     11.3G   0.02742  0.008535   0.04418        78       640: 100% 28/28 [01:42<00:00,  3.67s/it]\n",
            "               Class     Images     Labels          P          R     mAP@.5 mAP@.5:.95: 100% 2/2 [00:04<00:00,  2.18s/it]\n",
            "                 all        173        212      0.649      0.296      0.302      0.203\n",
            "\n",
            "     Epoch   gpu_mem       box       obj       cls    labels  img_size\n",
            "     69/99     11.3G   0.02788  0.009266   0.04497        80       640: 100% 28/28 [01:42<00:00,  3.67s/it]\n",
            "               Class     Images     Labels          P          R     mAP@.5 mAP@.5:.95: 100% 2/2 [00:04<00:00,  2.22s/it]\n",
            "                 all        173        212      0.443      0.382      0.309      0.204\n",
            "\n",
            "     Epoch   gpu_mem       box       obj       cls    labels  img_size\n",
            "     70/99     11.3G   0.02815  0.008628   0.04401        77       640: 100% 28/28 [01:42<00:00,  3.67s/it]\n",
            "               Class     Images     Labels          P          R     mAP@.5 mAP@.5:.95: 100% 2/2 [00:04<00:00,  2.20s/it]\n",
            "                 all        173        212      0.305      0.568      0.306      0.201\n",
            "\n",
            "     Epoch   gpu_mem       box       obj       cls    labels  img_size\n",
            "     71/99     11.3G   0.02727   0.00875   0.04422        62       640: 100% 28/28 [01:42<00:00,  3.67s/it]\n",
            "               Class     Images     Labels          P          R     mAP@.5 mAP@.5:.95: 100% 2/2 [00:04<00:00,  2.20s/it]\n",
            "                 all        173        212      0.335      0.573      0.287      0.192\n",
            "\n",
            "     Epoch   gpu_mem       box       obj       cls    labels  img_size\n",
            "     72/99     11.3G   0.02678  0.008842   0.04363        91       640: 100% 28/28 [01:42<00:00,  3.68s/it]\n",
            "               Class     Images     Labels          P          R     mAP@.5 mAP@.5:.95: 100% 2/2 [00:04<00:00,  2.12s/it]\n",
            "                 all        173        212      0.349      0.535      0.332      0.222\n",
            "\n",
            "     Epoch   gpu_mem       box       obj       cls    labels  img_size\n",
            "     73/99     11.3G   0.02683  0.008839   0.04396        89       640: 100% 28/28 [01:42<00:00,  3.67s/it]\n",
            "               Class     Images     Labels          P          R     mAP@.5 mAP@.5:.95: 100% 2/2 [00:04<00:00,  2.11s/it]\n",
            "                 all        173        212      0.399      0.406      0.292      0.202\n",
            "\n",
            "     Epoch   gpu_mem       box       obj       cls    labels  img_size\n",
            "     74/99     11.3G   0.02699  0.008781   0.04325        68       640: 100% 28/28 [01:42<00:00,  3.67s/it]\n",
            "               Class     Images     Labels          P          R     mAP@.5 mAP@.5:.95: 100% 2/2 [00:04<00:00,  2.19s/it]\n",
            "                 all        173        212       0.36      0.569       0.33      0.222\n",
            "\n",
            "     Epoch   gpu_mem       box       obj       cls    labels  img_size\n",
            "     75/99     11.3G   0.02667  0.008698   0.04265        84       640: 100% 28/28 [01:42<00:00,  3.65s/it]\n",
            "               Class     Images     Labels          P          R     mAP@.5 mAP@.5:.95: 100% 2/2 [00:04<00:00,  2.19s/it]\n",
            "                 all        173        212      0.433      0.377      0.305       0.21\n",
            "\n",
            "     Epoch   gpu_mem       box       obj       cls    labels  img_size\n",
            "     76/99     11.3G   0.02728  0.008544   0.04279        76       640: 100% 28/28 [01:42<00:00,  3.65s/it]\n",
            "               Class     Images     Labels          P          R     mAP@.5 mAP@.5:.95: 100% 2/2 [00:04<00:00,  2.13s/it]\n",
            "                 all        173        212       0.35      0.646      0.327      0.223\n",
            "\n",
            "     Epoch   gpu_mem       box       obj       cls    labels  img_size\n",
            "     77/99     11.3G   0.02696  0.008506   0.04252        84       640: 100% 28/28 [01:42<00:00,  3.65s/it]\n",
            "               Class     Images     Labels          P          R     mAP@.5 mAP@.5:.95: 100% 2/2 [00:04<00:00,  2.21s/it]\n",
            "                 all        173        212      0.335      0.583      0.327       0.23\n",
            "\n",
            "     Epoch   gpu_mem       box       obj       cls    labels  img_size\n",
            "     78/99     11.3G   0.02627  0.008781    0.0422        84       640: 100% 28/28 [01:43<00:00,  3.69s/it]\n",
            "               Class     Images     Labels          P          R     mAP@.5 mAP@.5:.95: 100% 2/2 [00:04<00:00,  2.18s/it]\n",
            "                 all        173        212      0.455      0.422      0.337      0.222\n",
            "\n",
            "     Epoch   gpu_mem       box       obj       cls    labels  img_size\n",
            "     79/99     11.3G   0.02631  0.008573   0.04119        77       640: 100% 28/28 [01:43<00:00,  3.69s/it]\n",
            "               Class     Images     Labels          P          R     mAP@.5 mAP@.5:.95: 100% 2/2 [00:04<00:00,  2.16s/it]\n",
            "                 all        173        212       0.45      0.388      0.337      0.235\n",
            "\n",
            "     Epoch   gpu_mem       box       obj       cls    labels  img_size\n",
            "     80/99     11.3G   0.02614  0.008783   0.04138        87       640: 100% 28/28 [01:42<00:00,  3.67s/it]\n",
            "               Class     Images     Labels          P          R     mAP@.5 mAP@.5:.95: 100% 2/2 [00:04<00:00,  2.14s/it]\n",
            "                 all        173        212      0.646      0.312      0.352      0.243\n",
            "\n",
            "     Epoch   gpu_mem       box       obj       cls    labels  img_size\n",
            "     81/99     11.3G    0.0258  0.008333   0.04208        67       640: 100% 28/28 [01:43<00:00,  3.68s/it]\n",
            "               Class     Images     Labels          P          R     mAP@.5 mAP@.5:.95: 100% 2/2 [00:04<00:00,  2.15s/it]\n",
            "                 all        173        212      0.626      0.317      0.343       0.24\n",
            "\n",
            "     Epoch   gpu_mem       box       obj       cls    labels  img_size\n",
            "     82/99     11.3G   0.02522  0.008447   0.04067        81       640: 100% 28/28 [01:43<00:00,  3.69s/it]\n",
            "               Class     Images     Labels          P          R     mAP@.5 mAP@.5:.95: 100% 2/2 [00:04<00:00,  2.13s/it]\n",
            "                 all        173        212      0.356      0.572      0.327      0.221\n",
            "\n",
            "     Epoch   gpu_mem       box       obj       cls    labels  img_size\n",
            "     83/99     11.3G   0.02559  0.008558   0.04144        89       640: 100% 28/28 [01:43<00:00,  3.69s/it]\n",
            "               Class     Images     Labels          P          R     mAP@.5 mAP@.5:.95: 100% 2/2 [00:04<00:00,  2.14s/it]\n",
            "                 all        173        212      0.431      0.489      0.348       0.24\n",
            "\n",
            "     Epoch   gpu_mem       box       obj       cls    labels  img_size\n",
            "     84/99     11.3G   0.02532  0.008525   0.04083        98       640: 100% 28/28 [01:43<00:00,  3.69s/it]\n",
            "               Class     Images     Labels          P          R     mAP@.5 mAP@.5:.95: 100% 2/2 [00:04<00:00,  2.16s/it]\n",
            "                 all        173        212      0.434      0.461      0.336      0.228\n",
            "\n",
            "     Epoch   gpu_mem       box       obj       cls    labels  img_size\n",
            "     85/99     11.3G    0.0254  0.008544   0.04017        85       640: 100% 28/28 [01:43<00:00,  3.69s/it]\n",
            "               Class     Images     Labels          P          R     mAP@.5 mAP@.5:.95: 100% 2/2 [00:04<00:00,  2.12s/it]\n",
            "                 all        173        212      0.375      0.548      0.354      0.233\n",
            "\n",
            "     Epoch   gpu_mem       box       obj       cls    labels  img_size\n",
            "     86/99     11.3G   0.02502  0.008266   0.04055        81       640: 100% 28/28 [01:42<00:00,  3.68s/it]\n",
            "               Class     Images     Labels          P          R     mAP@.5 mAP@.5:.95: 100% 2/2 [00:04<00:00,  2.13s/it]\n",
            "                 all        173        212      0.567      0.419      0.379       0.27\n",
            "\n",
            "     Epoch   gpu_mem       box       obj       cls    labels  img_size\n",
            "     87/99     11.3G   0.02469  0.008254   0.04015        69       640: 100% 28/28 [01:42<00:00,  3.67s/it]\n",
            "               Class     Images     Labels          P          R     mAP@.5 mAP@.5:.95: 100% 2/2 [00:04<00:00,  2.14s/it]\n",
            "                 all        173        212      0.481      0.487      0.381      0.265\n",
            "\n",
            "     Epoch   gpu_mem       box       obj       cls    labels  img_size\n",
            "     88/99     11.3G   0.02457  0.008439   0.04068        84       640: 100% 28/28 [01:42<00:00,  3.67s/it]\n",
            "               Class     Images     Labels          P          R     mAP@.5 mAP@.5:.95: 100% 2/2 [00:04<00:00,  2.16s/it]\n",
            "                 all        173        212      0.527      0.409      0.355      0.245\n",
            "\n",
            "     Epoch   gpu_mem       box       obj       cls    labels  img_size\n",
            "     89/99     11.3G   0.02447  0.008408      0.04        61       640: 100% 28/28 [01:42<00:00,  3.67s/it]\n",
            "               Class     Images     Labels          P          R     mAP@.5 mAP@.5:.95: 100% 2/2 [00:04<00:00,  2.14s/it]\n",
            "                 all        173        212      0.388      0.488      0.378      0.263\n",
            "\n",
            "     Epoch   gpu_mem       box       obj       cls    labels  img_size\n",
            "     90/99     11.3G   0.02461  0.008158   0.03946        82       640: 100% 28/28 [01:42<00:00,  3.66s/it]\n",
            "               Class     Images     Labels          P          R     mAP@.5 mAP@.5:.95: 100% 2/2 [00:04<00:00,  2.14s/it]\n",
            "                 all        173        212      0.363      0.444      0.355       0.25\n",
            "\n",
            "     Epoch   gpu_mem       box       obj       cls    labels  img_size\n",
            "     91/99     11.3G   0.02466  0.008465   0.03883        69       640: 100% 28/28 [01:42<00:00,  3.67s/it]\n",
            "               Class     Images     Labels          P          R     mAP@.5 mAP@.5:.95: 100% 2/2 [00:04<00:00,  2.13s/it]\n",
            "                 all        173        212      0.372      0.492      0.366      0.258\n",
            "\n",
            "     Epoch   gpu_mem       box       obj       cls    labels  img_size\n",
            "     92/99     11.3G    0.0248   0.00842   0.03926        83       640: 100% 28/28 [01:42<00:00,  3.67s/it]\n",
            "               Class     Images     Labels          P          R     mAP@.5 mAP@.5:.95: 100% 2/2 [00:04<00:00,  2.16s/it]\n",
            "                 all        173        212      0.426      0.512      0.351      0.244\n",
            "\n",
            "     Epoch   gpu_mem       box       obj       cls    labels  img_size\n",
            "     93/99     11.3G   0.02427  0.008622   0.03793        80       640: 100% 28/28 [01:43<00:00,  3.69s/it]\n",
            "               Class     Images     Labels          P          R     mAP@.5 mAP@.5:.95: 100% 2/2 [00:04<00:00,  2.13s/it]\n",
            "                 all        173        212      0.569      0.415      0.372      0.264\n",
            "\n",
            "     Epoch   gpu_mem       box       obj       cls    labels  img_size\n",
            "     94/99     11.3G   0.02518  0.008059   0.03806        70       640: 100% 28/28 [01:43<00:00,  3.70s/it]\n",
            "               Class     Images     Labels          P          R     mAP@.5 mAP@.5:.95: 100% 2/2 [00:04<00:00,  2.17s/it]\n",
            "                 all        173        212      0.575      0.387      0.407      0.281\n",
            "\n",
            "     Epoch   gpu_mem       box       obj       cls    labels  img_size\n",
            "     95/99     11.3G   0.02458  0.008288   0.03798        77       640: 100% 28/28 [01:43<00:00,  3.68s/it]\n",
            "               Class     Images     Labels          P          R     mAP@.5 mAP@.5:.95: 100% 2/2 [00:04<00:00,  2.14s/it]\n",
            "                 all        173        212      0.547      0.402      0.385      0.273\n",
            "\n",
            "     Epoch   gpu_mem       box       obj       cls    labels  img_size\n",
            "     96/99     11.3G   0.02473  0.008354   0.03855        72       640: 100% 28/28 [01:43<00:00,  3.68s/it]\n",
            "               Class     Images     Labels          P          R     mAP@.5 mAP@.5:.95: 100% 2/2 [00:04<00:00,  2.17s/it]\n",
            "                 all        173        212      0.559      0.462       0.39      0.276\n",
            "\n",
            "     Epoch   gpu_mem       box       obj       cls    labels  img_size\n",
            "     97/99     11.3G   0.02442  0.008306   0.03838        76       640: 100% 28/28 [01:43<00:00,  3.69s/it]\n",
            "               Class     Images     Labels          P          R     mAP@.5 mAP@.5:.95: 100% 2/2 [00:04<00:00,  2.19s/it]\n",
            "                 all        173        212       0.53      0.413      0.396      0.276\n",
            "\n",
            "     Epoch   gpu_mem       box       obj       cls    labels  img_size\n",
            "     98/99     11.3G   0.02481  0.008378   0.03853        88       640: 100% 28/28 [01:42<00:00,  3.68s/it]\n",
            "               Class     Images     Labels          P          R     mAP@.5 mAP@.5:.95: 100% 2/2 [00:04<00:00,  2.19s/it]\n",
            "                 all        173        212      0.612      0.432      0.391      0.273\n",
            "\n",
            "     Epoch   gpu_mem       box       obj       cls    labels  img_size\n",
            "     99/99     11.3G    0.0241  0.008227   0.03779        87       640: 100% 28/28 [01:42<00:00,  3.67s/it]\n",
            "               Class     Images     Labels          P          R     mAP@.5 mAP@.5:.95: 100% 2/2 [00:04<00:00,  2.13s/it]\n",
            "                 all        173        212      0.548      0.417      0.365      0.251\n",
            "\n",
            "100 epochs completed in 2.986 hours.\n",
            "Optimizer stripped from runs/train/traffic/weights/last.pt, 14.6MB\n",
            "Optimizer stripped from runs/train/traffic/weights/best.pt, 14.6MB\n",
            "\n",
            "Validating runs/train/traffic/weights/best.pt...\n",
            "Fusing layers... \n",
            "Model Summary: 213 layers, 7107217 parameters, 0 gradients, 16.1 GFLOPs\n",
            "               Class     Images     Labels          P          R     mAP@.5 mAP@.5:.95: 100% 2/2 [00:06<00:00,  3.29s/it]\n",
            "                 all        173        212      0.575      0.387      0.407      0.281\n",
            "        Danger Ahead        173          7      0.352      0.571      0.356      0.211\n",
            "            Give Way        173          6      0.834      0.833      0.836      0.385\n",
            "Go Right or Straight        173          1          1          0     0.0369     0.0258\n",
            "         Go Straight        173          1          0          0    0.00343    0.00172\n",
            "         Huddle Road        173          2          1          0     0.0929       0.05\n",
            "    Left Sharp Curve        173          3      0.261      0.667      0.409      0.349\n",
            "            No Entry        173         11      0.875      0.634      0.667      0.415\n",
            "No Over Taking Trucks        173          1          1          0      0.111     0.0884\n",
            "      No Over Taking        173          5      0.279        0.4      0.517      0.297\n",
            "         No Stopping        173          1          1          0          0          0\n",
            "          No Waiting        173          2          1          0          0          0\n",
            "          Pedestrian        173          2      0.446          1      0.995      0.696\n",
            "   Right Curve Ahead        173          6          1          0      0.476      0.289\n",
            "   Right Sharp Curve        173          3      0.506          1      0.746      0.564\n",
            "           Road Work        173          8      0.641      0.231      0.353      0.266\n",
            "          RoundAbout        173          1          1          0      0.199      0.119\n",
            "       Slippery Road        173          2          0          0     0.0572     0.0286\n",
            "   Snow Warning Sign        173          1          0          0     0.0452     0.0362\n",
            "     Speed Limit 100        173         12      0.503      0.167      0.332      0.224\n",
            "     Speed Limit 120        173          3      0.302          1      0.775      0.617\n",
            "      Speed Limit 30        173         23       0.48      0.826      0.629      0.509\n",
            "      Speed Limit 50        173         20       0.19       0.25      0.285        0.2\n",
            "      Speed Limit 60        173         14      0.504      0.286      0.352      0.269\n",
            "      Speed Limit 70        173         14      0.273     0.0714      0.346      0.214\n",
            "      Speed Limit 80        173         14      0.366      0.786      0.671      0.461\n",
            "                Stop        173         33      0.917          1      0.992      0.698\n",
            "          Truck Sign        173          1          1          0     0.0178      0.016\n",
            "           Turn Left        173          1      0.437          1      0.995      0.796\n",
            "          Turn Right        173         14      0.499        0.5      0.498      0.322\n",
            "Results saved to \u001b[1mruns/train/traffic\u001b[0m\n",
            "CPU times: user 1min 16s, sys: 10.8 s, total: 1min 27s\n",
            "Wall time: 3h 18s\n"
          ]
        }
      ],
      "source": [
        "%%time\n",
        "%cd /content/yolov5/\n",
        "\n",
        "!python train.py --img 640 --batch 50 --epochs 100 --data /content/drive/MyDrive/traffic/Custom_data.yaml --cfg /content/drive/MyDrive/traffic/custom_config.yaml --weights '' --name traffic"
      ]
    },
    {
      "cell_type": "markdown",
      "metadata": {
        "id": "Cy7GqF41Nvyj"
      },
      "source": [
        "## 8. Inference with trained weight:\n"
      ]
    },
    {
      "cell_type": "markdown",
      "metadata": {
        "id": "Ihaw9CaBO3_3"
      },
      "source": [
        "> ⚠️ Warning: Don't use a youtube link to detect. Because, Youtube recently removed the dislike features, which makes the library used by YOLOv5 broken."
      ]
    },
    {
      "cell_type": "markdown",
      "metadata": {
        "id": "W-LYBtlJn0TI"
      },
      "source": [
        "For each model and dataset, adjust an appropriate confidence score. The **image size** we want to detect **SHOULD equal the size we trained the model**."
      ]
    },
    {
      "cell_type": "code",
      "execution_count": null,
      "metadata": {
        "id": "ptWWEcnAzGR7"
      },
      "outputs": [],
      "source": [
        "%cd /content/yolov5/\n",
        "!python detect.py --weight '/content/yolov5/runs/train/traffic/weights/best.pt' --save-txt --save-conf --exist-ok --img 416 --conf 0.03 --source '/content/drive/MyDrive/traffic/TrafficSignLocalizationandDetection/test'"
      ]
    },
    {
      "cell_type": "markdown",
      "source": [
        "## 9. Zip result:"
      ],
      "metadata": {
        "id": "NWJRjXxes8xS"
      }
    },
    {
      "cell_type": "markdown",
      "source": [
        "Run this commend to zip the entire train folder, then we can download it easily"
      ],
      "metadata": {
        "id": "uJep7NiotIem"
      }
    },
    {
      "cell_type": "code",
      "source": [
        "!zip -r /content/train.zip /content/yolov5/runs/train/traffic/"
      ],
      "metadata": {
        "id": "tGV171fQs3bz"
      },
      "execution_count": null,
      "outputs": []
    },
    {
      "cell_type": "code",
      "source": [
        "!python detect.py --source 'https://cdn.britannica.com/63/82563-050-3FCFC72A/Family-country-road.jpg'"
      ],
      "metadata": {
        "colab": {
          "base_uri": "https://localhost:8080/"
        },
        "id": "YPUsslU-Nkij",
        "outputId": "739a4b20-6815-4e3e-e5d2-5805fbfabdef"
      },
      "execution_count": null,
      "outputs": [
        {
          "output_type": "stream",
          "name": "stdout",
          "text": [
            "\u001b[34m\u001b[1mdetect: \u001b[0mweights=yolov5s.pt, source=https://cdn.britannica.com/63/82563-050-3FCFC72A/Family-country-road.jpg, data=data/coco128.yaml, imgsz=[640, 640], conf_thres=0.25, iou_thres=0.45, max_det=1000, device=, view_img=False, save_txt=False, save_conf=False, save_crop=False, nosave=False, classes=None, agnostic_nms=False, augment=False, visualize=False, update=False, project=runs/detect, name=exp, exist_ok=False, line_thickness=3, hide_labels=False, hide_conf=False, half=False, dnn=False\n",
            "Found https://cdn.britannica.com/63/82563-050-3FCFC72A/Family-country-road.jpg locally at Family-country-road.jpg\n",
            "YOLOv5 🚀 v6.0-175-gb5b56a3 torch 1.10.0+cu111 CUDA:0 (Tesla K80, 11441MiB)\n",
            "\n",
            "Fusing layers... \n",
            "Model Summary: 213 layers, 7225885 parameters, 0 gradients\n",
            "image 1/1 /content/yolov5/Family-country-road.jpg: 448x640 4 persons, 4 bicycles, 1 sports ball, Done. (0.030s)\n",
            "Speed: 0.6ms pre-process, 29.9ms inference, 17.5ms NMS per image at shape (1, 3, 640, 640)\n",
            "Results saved to \u001b[1mruns/detect/exp3\u001b[0m\n"
          ]
        }
      ]
    }
  ],
  "metadata": {
    "colab": {
      "collapsed_sections": [],
      "name": "YOLOv5 traffic.ipynb",
      "provenance": []
    },
    "kernelspec": {
      "display_name": "Python 3",
      "name": "python3"
    },
    "language_info": {
      "name": "python"
    },
    "accelerator": "GPU"
  },
  "nbformat": 4,
  "nbformat_minor": 0
}