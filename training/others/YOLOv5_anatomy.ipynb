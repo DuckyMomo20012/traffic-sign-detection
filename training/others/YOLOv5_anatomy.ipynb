{
  "nbformat": 4,
  "nbformat_minor": 0,
  "metadata": {
    "colab": {
      "name": "YOLOv5 anatomy.ipynb",
      "provenance": [],
      "collapsed_sections": []
    },
    "kernelspec": {
      "name": "python3",
      "display_name": "Python 3"
    },
    "language_info": {
      "name": "python"
    },
    "accelerator": "GPU"
  },
  "cells": [
    {
      "cell_type": "markdown",
      "source": [
        "# YOLOv5 implementation\n",
        "\n",
        "Dataset link: [chest-anatomy-yolov5-train-set](https://www.kaggle.com/davidbroberts/chest-anatomy-yolov5-train-set)\n",
        "\n",
        "Ref: [Do_Thuan.pdf](https://www.theseus.fi/bitstream/handle/10024/452552/Do_Thuan.pdf)"
      ],
      "metadata": {
        "id": "UsgwQGNwVf8J"
      }
    },
    {
      "cell_type": "markdown",
      "source": [
        "## 1. Check GPU usage status:\n",
        "To use GPU: Go to Edit -> Notebook settings -> Hardware accelerator: GPU.\n",
        "If we don't use GPU, we can skip this step."
      ],
      "metadata": {
        "id": "q-qCfo7VK_Mx"
      }
    },
    {
      "cell_type": "code",
      "execution_count": null,
      "metadata": {
        "id": "V37ASONZTkPc"
      },
      "outputs": [],
      "source": [
        "!nvidia-smi"
      ]
    },
    {
      "cell_type": "markdown",
      "source": [
        "## 2. Clone yolov5 repository:"
      ],
      "metadata": {
        "id": "1UXwdlHWLddp"
      }
    },
    {
      "cell_type": "code",
      "source": [
        "# !pip3 install torch==1.9.1+cu102 torchvision==0.10.1+cu102 torchaudio===0.9.1 -f https://download.pytorch.org/whl/torch_stable.html"
      ],
      "metadata": {
        "id": "Vh-N7Hx2X5QN"
      },
      "execution_count": null,
      "outputs": []
    },
    {
      "cell_type": "markdown",
      "source": [
        "> Install torch with stable version to be able to run code with CPU. But the training is VERY slow 😭. \n",
        "\n",
        "> After we use GPU a period of time, we will exceed usage limit, then we will have to wait a long time for usage limit to be reseted."
      ],
      "metadata": {
        "id": "ryEDmIPFen4T"
      }
    },
    {
      "cell_type": "code",
      "source": [
        "!git clone https://github.com/ultralytics/yolov5.git"
      ],
      "metadata": {
        "id": "afsFgSYXU0ly",
        "colab": {
          "base_uri": "https://localhost:8080/"
        },
        "outputId": "2edfe5d0-8d5a-4279-87cd-3298fd6b16f2"
      },
      "execution_count": null,
      "outputs": [
        {
          "output_type": "stream",
          "name": "stdout",
          "text": [
            "Cloning into 'yolov5'...\n",
            "remote: Enumerating objects: 10382, done.\u001b[K\n",
            "remote: Counting objects: 100% (3/3), done.\u001b[K\n",
            "remote: Compressing objects: 100% (3/3), done.\u001b[K\n",
            "remote: Total 10382 (delta 0), reused 3 (delta 0), pack-reused 10379\u001b[K\n",
            "Receiving objects: 100% (10382/10382), 10.59 MiB | 14.05 MiB/s, done.\n",
            "Resolving deltas: 100% (7165/7165), done.\n"
          ]
        }
      ]
    },
    {
      "cell_type": "code",
      "source": [
        "# If we use GPU then use default requirement file\n",
        "!pip3 install -r /content/yolov5/requirements.txt\n",
        "# !pip3 install -r requirements.txt\n",
        "%cd /content/yolov5"
      ],
      "metadata": {
        "id": "LlClLONJ7FSh"
      },
      "execution_count": null,
      "outputs": []
    },
    {
      "cell_type": "markdown",
      "source": [
        "## 3. Import neccessary libraries:"
      ],
      "metadata": {
        "id": "j6hYAbuVLm9Q"
      }
    },
    {
      "cell_type": "code",
      "source": [
        "import torch\n",
        "import os\n",
        "import shutil\n",
        "import numpy as np\n",
        "from IPython.display import Image, clear_output\n",
        "\n",
        "clear_output()\n",
        "print('Setup complete')"
      ],
      "metadata": {
        "id": "dfUw1zoj5FE-",
        "colab": {
          "base_uri": "https://localhost:8080/"
        },
        "outputId": "b6ce437d-cf07-449a-f837-97e7a04c3e1e"
      },
      "execution_count": null,
      "outputs": [
        {
          "output_type": "stream",
          "name": "stdout",
          "text": [
            "Setup complete\n"
          ]
        }
      ]
    },
    {
      "cell_type": "markdown",
      "source": [
        "> If you have clone the repo twice, you can't delete folder directly. Insteads, use this code to delete the folder.\n",
        "\n",
        "> ⚠️ Note: Use this code wisely."
      ],
      "metadata": {
        "id": "3lfH0PSeLuMM"
      }
    },
    {
      "cell_type": "code",
      "source": [
        "import shutil\n",
        "\n",
        "# shutil.rmtree('/content/yolov5/runs/')"
      ],
      "metadata": {
        "id": "HhhdPImt1LFc"
      },
      "execution_count": null,
      "outputs": []
    },
    {
      "cell_type": "markdown",
      "source": [
        "## 4. Mount your drive for uploaded data:"
      ],
      "metadata": {
        "id": "5qmKO7PSLuOB"
      }
    },
    {
      "cell_type": "code",
      "source": [
        "from google.colab import drive\n",
        "drive.mount('/content/drive')\n"
      ],
      "metadata": {
        "id": "nXKUDqA1XbJB",
        "colab": {
          "base_uri": "https://localhost:8080/"
        },
        "outputId": "34fc11fe-5289-412f-98a7-69ffb9ca42a2"
      },
      "execution_count": null,
      "outputs": [
        {
          "output_type": "stream",
          "name": "stdout",
          "text": [
            "Mounted at /content/drive\n"
          ]
        }
      ]
    },
    {
      "cell_type": "markdown",
      "source": [
        "## 5. Edit data.yaml file:"
      ],
      "metadata": {
        "id": "NmYmPD8jNS5i"
      }
    },
    {
      "cell_type": "code",
      "source": [
        "root_dir = '/content/drive/MyDrive/anatomy/'\n",
        "num_classes = 10\n",
        "data_dir = root_dir + 'chest_anatomy_data.yaml'\n",
        "with open(data_dir, \"w\") as dataFile:\n",
        "  dataFile.write(f\"\"\"\n",
        "path: {root_dir}\n",
        "train: images/train\n",
        "val: images/test\n",
        "\n",
        "# Classes\n",
        "nc: {num_classes}\n",
        "names: ['lung_left','lung_right','clavicle_left','clavicle_right','humeral_head_left','humeral_head_right','heart','gastric_bubble','carina','trachea']\n",
        "\"\"\")"
      ],
      "metadata": {
        "id": "OejrghDQ_YwN"
      },
      "execution_count": null,
      "outputs": []
    },
    {
      "cell_type": "code",
      "source": [
        "%cat /content/drive/MyDrive/anatomy/chest_anatomy_data.yaml"
      ],
      "metadata": {
        "id": "J_iirsv4IY1m"
      },
      "execution_count": null,
      "outputs": []
    },
    {
      "cell_type": "markdown",
      "source": [
        "## 6. Create a config file:"
      ],
      "metadata": {
        "id": "cAMZw5DUNaSR"
      }
    },
    {
      "cell_type": "code",
      "source": [
        "root_dir = '/content/drive/MyDrive/anatomy/'\n",
        "config_dir = root_dir + 'custom_config.yaml'\n",
        "with open(config_dir, \"w\") as dataFile:\n",
        "  dataFile.write(f\"\"\"\n",
        "# YOLOv5 🚀 by Ultralytics, GPL-3.0 license\n",
        "\n",
        "# Parameters\n",
        "nc: {num_classes}  # number of classes\n",
        "depth_multiple: 1.0  # model depth multiple\n",
        "width_multiple: 1.0  # layer channel multiple\n",
        "anchors:\n",
        "  - [10,13, 16,30, 33,23]  # P3/8\n",
        "  - [30,61, 62,45, 59,119]  # P4/16\n",
        "  - [116,90, 156,198, 373,326]  # P5/32\n",
        "\n",
        "# YOLOv5 v6.0 backbone\n",
        "backbone:\n",
        "  # [from, number, module, args]\n",
        "  [[-1, 1, Conv, [64, 6, 2, 2]],  # 0-P1/2\n",
        "   [-1, 1, Conv, [128, 3, 2]],  # 1-P2/4\n",
        "   [-1, 3, C3, [128]],\n",
        "   [-1, 1, Conv, [256, 3, 2]],  # 3-P3/8\n",
        "   [-1, 6, C3, [256]],\n",
        "   [-1, 1, Conv, [512, 3, 2]],  # 5-P4/16\n",
        "   [-1, 9, C3, [512]],\n",
        "   [-1, 1, Conv, [1024, 3, 2]],  # 7-P5/32\n",
        "   [-1, 3, C3, [1024]],\n",
        "   [-1, 1, SPPF, [1024, 5]],  # 9\n",
        "  ]\n",
        "\n",
        "# YOLOv5 v6.0 head\n",
        "head:\n",
        "  [[-1, 1, Conv, [512, 1, 1]],\n",
        "   [-1, 1, nn.Upsample, [None, 2, 'nearest']],\n",
        "   [[-1, 6], 1, Concat, [1]],  # cat backbone P4\n",
        "   [-1, 3, C3, [512, False]],  # 13\n",
        "\n",
        "   [-1, 1, Conv, [256, 1, 1]],\n",
        "   [-1, 1, nn.Upsample, [None, 2, 'nearest']],\n",
        "   [[-1, 4], 1, Concat, [1]],  # cat backbone P3\n",
        "   [-1, 3, C3, [256, False]],  # 17 (P3/8-small)\n",
        "\n",
        "   [-1, 1, Conv, [256, 3, 2]],\n",
        "   [[-1, 14], 1, Concat, [1]],  # cat head P4\n",
        "   [-1, 3, C3, [512, False]],  # 20 (P4/16-medium)\n",
        "\n",
        "   [-1, 1, Conv, [512, 3, 2]],\n",
        "   [[-1, 10], 1, Concat, [1]],  # cat head P5\n",
        "   [-1, 3, C3, [1024, False]],  # 23 (P5/32-large)\n",
        "\n",
        "   [[17, 20, 23], 1, Detect, [nc, anchors]],  # Detect(P3, P4, P5)\n",
        "  ]\n",
        "\"\"\")"
      ],
      "metadata": {
        "id": "T9XVTQAfJl28"
      },
      "execution_count": null,
      "outputs": []
    },
    {
      "cell_type": "code",
      "source": [
        "%cat /content/drive/MyDrive/anatomy/custom_config.yaml"
      ],
      "metadata": {
        "id": "_WqQ-wIrOJH9"
      },
      "execution_count": null,
      "outputs": []
    },
    {
      "cell_type": "markdown",
      "source": [
        "## 7. Train model:"
      ],
      "metadata": {
        "id": "wAwRytv5bOMw"
      }
    },
    {
      "cell_type": "markdown",
      "source": [
        "> Since we don't train model with pre-trained model, the training process is very slow."
      ],
      "metadata": {
        "id": "AnZka7m1e_Ee"
      }
    },
    {
      "cell_type": "code",
      "source": [
        "%%time\n",
        "%cd /content/yolov5/\n",
        "\n",
        "!python train.py --img 416 --batch 32 --epochs 100 --data /content/drive/MyDrive/anatomy/chest_anatomy_data.yaml --cfg /content/drive/MyDrive/anatomy/custom_config.yaml --weights '' --name anatomy"
      ],
      "metadata": {
        "id": "6k5rcUXoY4iG",
        "colab": {
          "base_uri": "https://localhost:8080/"
        },
        "outputId": "e1371a51-bb41-43b8-fde2-c2a094c7fc9f"
      },
      "execution_count": null,
      "outputs": [
        {
          "output_type": "stream",
          "name": "stdout",
          "text": [
            "/content/yolov5\n",
            "\u001b[34m\u001b[1mtrain: \u001b[0mweights=, cfg=/content/drive/MyDrive/anatomy/custom_config.yaml, data=/content/drive/MyDrive/anatomy/chest_anatomy_data.yaml, hyp=data/hyps/hyp.scratch.yaml, epochs=100, batch_size=32, imgsz=416, rect=False, resume=False, nosave=False, noval=False, noautoanchor=False, evolve=None, bucket=, cache=None, image_weights=False, device=, multi_scale=False, single_cls=False, adam=False, sync_bn=False, workers=8, project=runs/train, name=anatomy, exist_ok=False, quad=False, linear_lr=False, label_smoothing=0.0, patience=100, freeze=[0], save_period=-1, local_rank=-1, entity=None, upload_dataset=False, bbox_interval=-1, artifact_alias=latest\n",
            "\u001b[34m\u001b[1mgithub: \u001b[0mup to date with https://github.com/ultralytics/yolov5 ✅\n",
            "YOLOv5 🚀 v6.0-163-gd95978a torch 1.10.0+cu111 CUDA:0 (Tesla K80, 11441MiB)\n",
            "\n",
            "\u001b[34m\u001b[1mhyperparameters: \u001b[0mlr0=0.01, lrf=0.1, momentum=0.937, weight_decay=0.0005, warmup_epochs=3.0, warmup_momentum=0.8, warmup_bias_lr=0.1, box=0.05, cls=0.5, cls_pw=1.0, obj=1.0, obj_pw=1.0, iou_t=0.2, anchor_t=4.0, fl_gamma=0.0, hsv_h=0.015, hsv_s=0.7, hsv_v=0.4, degrees=0.0, translate=0.1, scale=0.5, shear=0.0, perspective=0.0, flipud=0.0, fliplr=0.5, mosaic=1.0, mixup=0.0, copy_paste=0.0\n",
            "\u001b[34m\u001b[1mWeights & Biases: \u001b[0mrun 'pip install wandb' to automatically track and visualize YOLOv5 🚀 runs (RECOMMENDED)\n",
            "\u001b[34m\u001b[1mTensorBoard: \u001b[0mStart with 'tensorboard --logdir runs/train', view at http://localhost:6006/\n",
            "\n",
            "                 from  n    params  module                                  arguments                     \n",
            "  0                -1  1      7040  models.common.Conv                      [3, 64, 6, 2, 2]              \n",
            "  1                -1  1     73984  models.common.Conv                      [64, 128, 3, 2]               \n",
            "  2                -1  3    156928  models.common.C3                        [128, 128, 3]                 \n",
            "  3                -1  1    295424  models.common.Conv                      [128, 256, 3, 2]              \n",
            "  4                -1  6   1118208  models.common.C3                        [256, 256, 6]                 \n",
            "  5                -1  1   1180672  models.common.Conv                      [256, 512, 3, 2]              \n",
            "  6                -1  9   6433792  models.common.C3                        [512, 512, 9]                 \n",
            "  7                -1  1   4720640  models.common.Conv                      [512, 1024, 3, 2]             \n",
            "  8                -1  3   9971712  models.common.C3                        [1024, 1024, 3]               \n",
            "  9                -1  1   2624512  models.common.SPPF                      [1024, 1024, 5]               \n",
            " 10                -1  1    525312  models.common.Conv                      [1024, 512, 1, 1]             \n",
            " 11                -1  1         0  torch.nn.modules.upsampling.Upsample    [None, 2, 'nearest']          \n",
            " 12           [-1, 6]  1         0  models.common.Concat                    [1]                           \n",
            " 13                -1  3   2757632  models.common.C3                        [1024, 512, 3, False]         \n",
            " 14                -1  1    131584  models.common.Conv                      [512, 256, 1, 1]              \n",
            " 15                -1  1         0  torch.nn.modules.upsampling.Upsample    [None, 2, 'nearest']          \n",
            " 16           [-1, 4]  1         0  models.common.Concat                    [1]                           \n",
            " 17                -1  3    690688  models.common.C3                        [512, 256, 3, False]          \n",
            " 18                -1  1    590336  models.common.Conv                      [256, 256, 3, 2]              \n",
            " 19          [-1, 14]  1         0  models.common.Concat                    [1]                           \n",
            " 20                -1  3   2495488  models.common.C3                        [512, 512, 3, False]          \n",
            " 21                -1  1   2360320  models.common.Conv                      [512, 512, 3, 2]              \n",
            " 22          [-1, 10]  1         0  models.common.Concat                    [1]                           \n",
            " 23                -1  3   9971712  models.common.C3                        [1024, 1024, 3, False]        \n",
            " 24      [17, 20, 23]  1     80775  models.yolo.Detect                      [10, [[10, 13, 16, 30, 33, 23], [30, 61, 62, 45, 59, 119], [116, 90, 156, 198, 373, 326]], [256, 512, 1024]]\n",
            "Model Summary: 468 layers, 46186759 parameters, 46186759 gradients, 108.1 GFLOPs\n",
            "\n",
            "Scaled weight_decay = 0.0005\n",
            "\u001b[34m\u001b[1moptimizer:\u001b[0m SGD with parameter groups 101 weight, 104 weight (no decay), 104 bias\n",
            "\u001b[34m\u001b[1malbumentations: \u001b[0mversion 1.0.3 required by YOLOv5, but version 0.1.12 is currently installed\n",
            "\u001b[34m\u001b[1mtrain: \u001b[0mScanning '/content/drive/MyDrive/anatomy/labels/train.cache' images and labels... 80 found, 0 missing, 0 empty, 0 corrupted: 100% 80/80 [00:00<?, ?it/s]\n",
            "\u001b[34m\u001b[1mval: \u001b[0mScanning '/content/drive/MyDrive/anatomy/labels/test.cache' images and labels... 20 found, 0 missing, 0 empty, 0 corrupted: 100% 20/20 [00:00<?, ?it/s]\n",
            "Plotting labels to runs/train/anatomy7/labels.jpg... \n",
            "\n",
            "\u001b[34m\u001b[1mAutoAnchor: \u001b[0m4.96 anchors/target, 0.998 Best Possible Recall (BPR). Current anchors are a good fit to dataset ✅\n",
            "Image sizes 416 train, 416 val\n",
            "Using 2 dataloader workers\n",
            "Logging results to \u001b[1mruns/train/anatomy7\u001b[0m\n",
            "Starting training for 100 epochs...\n",
            "\n",
            "     Epoch   gpu_mem       box       obj       cls    labels  img_size\n",
            "      0/99     7.81G     0.108   0.08472   0.06381       245       416: 100% 3/3 [00:14<00:00,  4.84s/it]\n",
            "               Class     Images     Labels          P          R     mAP@.5 mAP@.5:.95: 100% 1/1 [00:01<00:00,  1.13s/it]\n",
            "                 all         20        169   6.71e-05       0.01    0.00154   0.000154\n",
            "\n",
            "     Epoch   gpu_mem       box       obj       cls    labels  img_size\n",
            "      1/99     7.99G    0.1073   0.08291   0.06378       253       416: 100% 3/3 [00:10<00:00,  3.58s/it]\n",
            "               Class     Images     Labels          P          R     mAP@.5 mAP@.5:.95: 100% 1/1 [00:00<00:00,  1.05it/s]\n",
            "                 all         20        169   0.000147       0.02   8.81e-05   1.41e-05\n",
            "\n",
            "     Epoch   gpu_mem       box       obj       cls    labels  img_size\n",
            "      2/99     7.99G     0.105   0.08737   0.06367       221       416: 100% 3/3 [00:10<00:00,  3.56s/it]\n",
            "               Class     Images     Labels          P          R     mAP@.5 mAP@.5:.95: 100% 1/1 [00:00<00:00,  1.03it/s]\n",
            "                 all         20        169   0.000195      0.025   0.000124   2.42e-05\n",
            "\n",
            "     Epoch   gpu_mem       box       obj       cls    labels  img_size\n",
            "      3/99     7.99G     0.102   0.09041   0.06361       245       416: 100% 3/3 [00:10<00:00,  3.57s/it]\n",
            "               Class     Images     Labels          P          R     mAP@.5 mAP@.5:.95: 100% 1/1 [00:00<00:00,  1.01it/s]\n",
            "                 all         20        169    0.00082       0.09   0.000919    0.00016\n",
            "\n",
            "     Epoch   gpu_mem       box       obj       cls    labels  img_size\n",
            "      4/99     7.99G   0.09979   0.09244   0.06353       248       416: 100% 3/3 [00:10<00:00,  3.56s/it]\n",
            "               Class     Images     Labels          P          R     mAP@.5 mAP@.5:.95: 100% 1/1 [00:01<00:00,  1.07s/it]\n",
            "                 all         20        169    0.00082       0.09   0.000925   0.000181\n",
            "\n",
            "     Epoch   gpu_mem       box       obj       cls    labels  img_size\n",
            "      5/99     7.99G    0.0981   0.09331    0.0634       227       416: 100% 3/3 [00:10<00:00,  3.61s/it]\n",
            "               Class     Images     Labels          P          R     mAP@.5 mAP@.5:.95: 100% 1/1 [00:00<00:00,  1.02it/s]\n",
            "                 all         20        169   0.000628       0.07    0.00102   0.000212\n",
            "\n",
            "     Epoch   gpu_mem       box       obj       cls    labels  img_size\n",
            "      6/99     7.99G   0.09539   0.08905    0.0633       203       416: 100% 3/3 [00:10<00:00,  3.63s/it]\n",
            "               Class     Images     Labels          P          R     mAP@.5 mAP@.5:.95: 100% 1/1 [00:00<00:00,  1.03it/s]\n",
            "                 all         20        169   0.000868      0.095   0.000949   0.000196\n",
            "\n",
            "     Epoch   gpu_mem       box       obj       cls    labels  img_size\n",
            "      7/99     7.99G   0.09523   0.09583   0.06321       260       416: 100% 3/3 [00:10<00:00,  3.57s/it]\n",
            "               Class     Images     Labels          P          R     mAP@.5 mAP@.5:.95: 100% 1/1 [00:00<00:00,  1.03it/s]\n",
            "                 all         20        169   0.000147       0.02   8.72e-05   2.89e-05\n",
            "\n",
            "     Epoch   gpu_mem       box       obj       cls    labels  img_size\n",
            "      8/99     7.99G   0.09618    0.1018   0.06314       275       416: 100% 3/3 [00:10<00:00,  3.58s/it]\n",
            "               Class     Images     Labels          P          R     mAP@.5 mAP@.5:.95: 100% 1/1 [00:00<00:00,  1.02it/s]\n",
            "                 all         20        169    0.00082       0.09    0.00119   0.000269\n",
            "\n",
            "     Epoch   gpu_mem       box       obj       cls    labels  img_size\n",
            "      9/99     7.99G   0.09431   0.09307    0.0634       222       416: 100% 3/3 [00:10<00:00,  3.62s/it]\n",
            "               Class     Images     Labels          P          R     mAP@.5 mAP@.5:.95: 100% 1/1 [00:00<00:00,  1.02it/s]\n",
            "                 all         20        169   0.000772      0.085   0.000734   0.000151\n",
            "\n",
            "     Epoch   gpu_mem       box       obj       cls    labels  img_size\n",
            "     10/99     7.99G   0.09427   0.09797   0.06273       212       416: 100% 3/3 [00:10<00:00,  3.58s/it]\n",
            "               Class     Images     Labels          P          R     mAP@.5 mAP@.5:.95: 100% 1/1 [00:01<00:00,  1.06s/it]\n",
            "                 all         20        169   0.000628       0.07   0.000498   9.51e-05\n",
            "\n",
            "     Epoch   gpu_mem       box       obj       cls    labels  img_size\n",
            "     11/99     7.99G   0.09384   0.09261   0.06255       166       416: 100% 3/3 [00:10<00:00,  3.58s/it]\n",
            "               Class     Images     Labels          P          R     mAP@.5 mAP@.5:.95: 100% 1/1 [00:00<00:00,  1.03it/s]\n",
            "                 all         20        169   0.000147       0.02   8.45e-05   2.56e-05\n",
            "\n",
            "     Epoch   gpu_mem       box       obj       cls    labels  img_size\n",
            "     12/99     7.99G   0.09366    0.1036   0.06288       277       416: 100% 3/3 [00:10<00:00,  3.60s/it]\n",
            "               Class     Images     Labels          P          R     mAP@.5 mAP@.5:.95: 100% 1/1 [00:00<00:00,  1.03it/s]\n",
            "                 all         20        169   0.000147       0.02   8.68e-05   2.63e-05\n",
            "\n",
            "     Epoch   gpu_mem       box       obj       cls    labels  img_size\n",
            "     13/99     7.99G   0.09386   0.09724   0.06248       236       416: 100% 3/3 [00:10<00:00,  3.57s/it]\n",
            "               Class     Images     Labels          P          R     mAP@.5 mAP@.5:.95: 100% 1/1 [00:00<00:00,  1.02it/s]\n",
            "                 all         20        169   0.000156       0.02    9.3e-05   2.83e-05\n",
            "\n",
            "     Epoch   gpu_mem       box       obj       cls    labels  img_size\n",
            "     14/99     7.99G   0.09248   0.08947   0.06245       192       416: 100% 3/3 [00:10<00:00,  3.57s/it]\n",
            "               Class     Images     Labels          P          R     mAP@.5 mAP@.5:.95: 100% 1/1 [00:00<00:00,  1.04it/s]\n",
            "                 all         20        169   0.000105      0.015   5.94e-05    1.9e-05\n",
            "\n",
            "     Epoch   gpu_mem       box       obj       cls    labels  img_size\n",
            "     15/99     7.99G   0.09268    0.1117   0.06241       310       416: 100% 3/3 [00:10<00:00,  3.58s/it]\n",
            "               Class     Images     Labels          P          R     mAP@.5 mAP@.5:.95: 100% 1/1 [00:01<00:00,  1.06s/it]\n",
            "                 all         20        169    5.1e-05       0.01   2.94e-05   4.32e-06\n",
            "\n",
            "     Epoch   gpu_mem       box       obj       cls    labels  img_size\n",
            "     16/99     7.99G   0.09262   0.09964   0.06224       220       416: 100% 3/3 [00:10<00:00,  3.58s/it]\n",
            "               Class     Images     Labels          P          R     mAP@.5 mAP@.5:.95: 100% 1/1 [00:00<00:00,  1.04it/s]\n",
            "                 all         20        169   0.000188       0.02   0.000106   1.06e-05\n",
            "\n",
            "     Epoch   gpu_mem       box       obj       cls    labels  img_size\n",
            "     17/99     7.99G   0.09282     0.106   0.06202       281       416: 100% 3/3 [00:10<00:00,  3.57s/it]\n",
            "               Class     Images     Labels          P          R     mAP@.5 mAP@.5:.95: 100% 1/1 [00:00<00:00,  1.02it/s]\n",
            "                 all         20        169   0.000147       0.02   9.13e-05   1.18e-05\n",
            "\n",
            "     Epoch   gpu_mem       box       obj       cls    labels  img_size\n",
            "     18/99     7.99G   0.09091   0.09175   0.06201       189       416: 100% 3/3 [00:10<00:00,  3.58s/it]\n",
            "               Class     Images     Labels          P          R     mAP@.5 mAP@.5:.95: 100% 1/1 [00:01<00:00,  1.02s/it]\n",
            "                 all         20        169   0.000147       0.02   8.57e-05   1.12e-05\n",
            "\n",
            "     Epoch   gpu_mem       box       obj       cls    labels  img_size\n",
            "     19/99     7.99G   0.09217   0.09315     0.062       223       416: 100% 3/3 [00:10<00:00,  3.59s/it]\n",
            "               Class     Images     Labels          P          R     mAP@.5 mAP@.5:.95: 100% 1/1 [00:01<00:00,  1.11s/it]\n",
            "                 all         20        169   0.000147       0.02   8.79e-05   1.14e-05\n",
            "\n",
            "     Epoch   gpu_mem       box       obj       cls    labels  img_size\n",
            "     20/99     7.99G   0.09062   0.09921    0.0618       228       416: 100% 3/3 [00:10<00:00,  3.57s/it]\n",
            "               Class     Images     Labels          P          R     mAP@.5 mAP@.5:.95: 100% 1/1 [00:01<00:00,  1.11s/it]\n",
            "                 all         20        169   0.000147       0.02   8.79e-05   1.14e-05\n",
            "\n",
            "     Epoch   gpu_mem       box       obj       cls    labels  img_size\n",
            "     21/99     7.99G   0.09054   0.09812    0.0616       241       416: 100% 3/3 [00:10<00:00,  3.56s/it]\n",
            "               Class     Images     Labels          P          R     mAP@.5 mAP@.5:.95: 100% 1/1 [00:01<00:00,  1.14s/it]\n",
            "                 all         20        169   0.000147       0.02   8.87e-05   1.15e-05\n",
            "\n",
            "     Epoch   gpu_mem       box       obj       cls    labels  img_size\n",
            "     22/99     7.99G    0.0912    0.1037   0.06164       224       416: 100% 3/3 [00:10<00:00,  3.57s/it]\n",
            "               Class     Images     Labels          P          R     mAP@.5 mAP@.5:.95: 100% 1/1 [00:01<00:00,  1.28s/it]\n",
            "                 all         20        169   0.000147       0.02   8.34e-05   1.09e-05\n",
            "\n",
            "     Epoch   gpu_mem       box       obj       cls    labels  img_size\n",
            "     23/99     7.99G   0.09244   0.09104   0.06146       198       416: 100% 3/3 [00:10<00:00,  3.58s/it]\n",
            "               Class     Images     Labels          P          R     mAP@.5 mAP@.5:.95: 100% 1/1 [00:01<00:00,  1.36s/it]\n",
            "                 all         20        169   9.91e-05      0.015   5.63e-05   5.63e-06\n",
            "\n",
            "     Epoch   gpu_mem       box       obj       cls    labels  img_size\n",
            "     24/99     7.99G   0.09027   0.09517   0.06121       205       416: 100% 3/3 [00:10<00:00,  3.58s/it]\n",
            "               Class     Images     Labels          P          R     mAP@.5 mAP@.5:.95: 100% 1/1 [00:01<00:00,  1.38s/it]\n",
            "                 all         20        169   0.000147       0.02   8.88e-05   1.15e-05\n",
            "\n",
            "     Epoch   gpu_mem       box       obj       cls    labels  img_size\n",
            "     25/99     7.99G   0.09295    0.1011   0.06136       239       416: 100% 3/3 [00:10<00:00,  3.56s/it]\n",
            "               Class     Images     Labels          P          R     mAP@.5 mAP@.5:.95: 100% 1/1 [00:01<00:00,  1.46s/it]\n",
            "                 all         20        169   0.000147       0.02   9.02e-05   1.18e-05\n",
            "\n",
            "     Epoch   gpu_mem       box       obj       cls    labels  img_size\n",
            "     26/99     7.99G   0.09223    0.1035   0.06122       246       416: 100% 3/3 [00:10<00:00,  3.57s/it]\n",
            "               Class     Images     Labels          P          R     mAP@.5 mAP@.5:.95: 100% 1/1 [00:01<00:00,  1.47s/it]\n",
            "                 all         20        169   0.000147       0.02   8.57e-05   1.12e-05\n",
            "\n",
            "     Epoch   gpu_mem       box       obj       cls    labels  img_size\n",
            "     27/99     7.99G   0.09071    0.1006   0.06101       225       416: 100% 3/3 [00:10<00:00,  3.56s/it]\n",
            "               Class     Images     Labels          P          R     mAP@.5 mAP@.5:.95: 100% 1/1 [00:01<00:00,  1.69s/it]\n",
            "                 all         20        169   9.91e-05      0.015   5.54e-05   5.54e-06\n",
            "\n",
            "     Epoch   gpu_mem       box       obj       cls    labels  img_size\n",
            "     28/99     7.99G   0.08944   0.09281   0.06122       178       416: 100% 3/3 [00:10<00:00,  3.58s/it]\n",
            "               Class     Images     Labels          P          R     mAP@.5 mAP@.5:.95: 100% 1/1 [00:01<00:00,  1.57s/it]\n",
            "                 all         20        169   0.000147       0.02   8.51e-05   1.11e-05\n",
            "\n",
            "     Epoch   gpu_mem       box       obj       cls    labels  img_size\n",
            "     29/99     7.99G   0.08972   0.09817     0.061       201       416: 100% 3/3 [00:10<00:00,  3.58s/it]\n",
            "               Class     Images     Labels          P          R     mAP@.5 mAP@.5:.95: 100% 1/1 [00:01<00:00,  1.61s/it]\n",
            "                 all         20        169   0.000147       0.02   8.62e-05   1.13e-05\n",
            "\n",
            "     Epoch   gpu_mem       box       obj       cls    labels  img_size\n",
            "     30/99     7.99G   0.09012   0.09874   0.06075       206       416: 100% 3/3 [00:10<00:00,  3.57s/it]\n",
            "               Class     Images     Labels          P          R     mAP@.5 mAP@.5:.95: 100% 1/1 [00:01<00:00,  1.69s/it]\n",
            "                 all         20        169   0.000147       0.02   9.34e-05   1.21e-05\n",
            "\n",
            "     Epoch   gpu_mem       box       obj       cls    labels  img_size\n",
            "     31/99     7.99G   0.09135     0.101   0.06071       258       416: 100% 3/3 [00:10<00:00,  3.58s/it]\n",
            "               Class     Images     Labels          P          R     mAP@.5 mAP@.5:.95: 100% 1/1 [00:01<00:00,  1.69s/it]\n",
            "                 all         20        169   0.000147       0.02   8.54e-05   1.11e-05\n",
            "\n",
            "     Epoch   gpu_mem       box       obj       cls    labels  img_size\n",
            "     32/99     7.99G   0.09128   0.09089   0.06084       218       416: 100% 3/3 [00:10<00:00,  3.61s/it]\n",
            "               Class     Images     Labels          P          R     mAP@.5 mAP@.5:.95: 100% 1/1 [00:01<00:00,  1.69s/it]\n",
            "                 all         20        169   0.000147       0.02   8.47e-05   1.11e-05\n",
            "\n",
            "     Epoch   gpu_mem       box       obj       cls    labels  img_size\n",
            "     33/99     7.99G   0.09147   0.09735   0.06057       180       416: 100% 3/3 [00:10<00:00,  3.59s/it]\n",
            "               Class     Images     Labels          P          R     mAP@.5 mAP@.5:.95: 100% 1/1 [00:01<00:00,  1.87s/it]\n",
            "                 all         20        169   9.91e-05      0.015   5.88e-05   8.63e-06\n",
            "\n",
            "     Epoch   gpu_mem       box       obj       cls    labels  img_size\n",
            "     34/99     7.99G   0.08922    0.1026   0.06055       214       416: 100% 3/3 [00:10<00:00,  3.58s/it]\n",
            "               Class     Images     Labels          P          R     mAP@.5 mAP@.5:.95: 100% 1/1 [00:01<00:00,  1.99s/it]\n",
            "                 all         20        169   9.91e-05      0.015   5.61e-05   5.61e-06\n",
            "\n",
            "     Epoch   gpu_mem       box       obj       cls    labels  img_size\n",
            "     35/99     7.99G   0.08982   0.08863   0.06046       188       416: 100% 3/3 [00:10<00:00,  3.58s/it]\n",
            "               Class     Images     Labels          P          R     mAP@.5 mAP@.5:.95: 100% 1/1 [00:01<00:00,  2.00s/it]\n",
            "                 all         20        169   9.91e-05      0.015   5.67e-05   5.67e-06\n",
            "\n",
            "     Epoch   gpu_mem       box       obj       cls    labels  img_size\n",
            "     36/99     7.99G   0.09076   0.09549   0.06041       214       416: 100% 3/3 [00:10<00:00,  3.57s/it]\n",
            "               Class     Images     Labels          P          R     mAP@.5 mAP@.5:.95: 100% 1/1 [00:02<00:00,  2.03s/it]\n",
            "                 all         20        169   9.91e-05      0.015   5.86e-05   8.43e-06\n",
            "\n",
            "     Epoch   gpu_mem       box       obj       cls    labels  img_size\n",
            "     37/99     7.99G   0.09004    0.1033   0.06024       243       416: 100% 3/3 [00:10<00:00,  3.60s/it]\n",
            "               Class     Images     Labels          P          R     mAP@.5 mAP@.5:.95: 100% 1/1 [00:01<00:00,  1.98s/it]\n",
            "                 all         20        169   9.91e-05      0.015   5.51e-05   5.51e-06\n",
            "\n",
            "     Epoch   gpu_mem       box       obj       cls    labels  img_size\n",
            "     38/99     7.99G   0.08803   0.09646   0.06017       216       416: 100% 3/3 [00:10<00:00,  3.58s/it]\n",
            "               Class     Images     Labels          P          R     mAP@.5 mAP@.5:.95: 100% 1/1 [00:02<00:00,  2.01s/it]\n",
            "                 all         20        169   9.91e-05      0.015    5.7e-05    5.7e-06\n",
            "\n",
            "     Epoch   gpu_mem       box       obj       cls    labels  img_size\n",
            "     39/99     7.99G   0.08881   0.09627   0.05994       177       416: 100% 3/3 [00:10<00:00,  3.59s/it]\n",
            "               Class     Images     Labels          P          R     mAP@.5 mAP@.5:.95: 100% 1/1 [00:02<00:00,  2.03s/it]\n",
            "                 all         20        169    5.1e-05       0.01   3.19e-05   3.19e-06\n",
            "\n",
            "     Epoch   gpu_mem       box       obj       cls    labels  img_size\n",
            "     40/99     7.99G    0.0903   0.09358   0.05988       239       416: 100% 3/3 [00:10<00:00,  3.59s/it]\n",
            "               Class     Images     Labels          P          R     mAP@.5 mAP@.5:.95: 100% 1/1 [00:02<00:00,  2.05s/it]\n",
            "                 all         20        169   9.91e-05      0.015   5.64e-05   8.18e-06\n",
            "\n",
            "     Epoch   gpu_mem       box       obj       cls    labels  img_size\n",
            "     41/99     7.99G    0.0902   0.09345   0.05977       214       416: 100% 3/3 [00:10<00:00,  3.63s/it]\n",
            "               Class     Images     Labels          P          R     mAP@.5 mAP@.5:.95: 100% 1/1 [00:02<00:00,  2.01s/it]\n",
            "                 all         20        169   0.000147       0.02   8.45e-05    1.1e-05\n",
            "\n",
            "     Epoch   gpu_mem       box       obj       cls    labels  img_size\n",
            "     42/99     7.99G   0.09016    0.1067   0.05976       279       416: 100% 3/3 [00:10<00:00,  3.59s/it]\n",
            "               Class     Images     Labels          P          R     mAP@.5 mAP@.5:.95: 100% 1/1 [00:02<00:00,  2.13s/it]\n",
            "                 all         20        169   0.000147       0.02   8.37e-05    1.1e-05\n",
            "\n",
            "     Epoch   gpu_mem       box       obj       cls    labels  img_size\n",
            "     43/99     7.99G    0.0885   0.09419   0.05958       200       416: 100% 3/3 [00:10<00:00,  3.61s/it]\n",
            "               Class     Images     Labels          P          R     mAP@.5 mAP@.5:.95: 100% 1/1 [00:02<00:00,  2.02s/it]\n",
            "                 all         20        169   0.000146       0.02   8.39e-05   1.09e-05\n",
            "\n",
            "     Epoch   gpu_mem       box       obj       cls    labels  img_size\n",
            "     44/99     7.99G   0.08977    0.1066   0.05955       278       416: 100% 3/3 [00:10<00:00,  3.61s/it]\n",
            "               Class     Images     Labels          P          R     mAP@.5 mAP@.5:.95: 100% 1/1 [00:02<00:00,  2.01s/it]\n",
            "                 all         20        169   9.72e-05      0.015   5.43e-05   7.52e-06\n",
            "\n",
            "     Epoch   gpu_mem       box       obj       cls    labels  img_size\n",
            "     45/99     7.99G   0.08933    0.1026   0.05963       225       416: 100% 3/3 [00:10<00:00,  3.58s/it]\n",
            "               Class     Images     Labels          P          R     mAP@.5 mAP@.5:.95: 100% 1/1 [00:02<00:00,  2.02s/it]\n",
            "                 all         20        169   9.82e-05      0.015   5.47e-05   7.36e-06\n",
            "\n",
            "     Epoch   gpu_mem       box       obj       cls    labels  img_size\n",
            "     46/99     7.99G   0.08931    0.1007   0.05925       211       416: 100% 3/3 [00:10<00:00,  3.56s/it]\n",
            "               Class     Images     Labels          P          R     mAP@.5 mAP@.5:.95: 100% 1/1 [00:02<00:00,  2.04s/it]\n",
            "                 all         20        169   9.87e-05      0.015   5.59e-05   7.54e-06\n",
            "\n",
            "     Epoch   gpu_mem       box       obj       cls    labels  img_size\n",
            "     47/99     7.99G   0.08888    0.1042   0.05936       217       416: 100% 3/3 [00:10<00:00,  3.59s/it]\n",
            "               Class     Images     Labels          P          R     mAP@.5 mAP@.5:.95: 100% 1/1 [00:02<00:00,  2.04s/it]\n",
            "                 all         20        169   0.000102      0.015   5.72e-05   7.46e-06\n",
            "\n",
            "     Epoch   gpu_mem       box       obj       cls    labels  img_size\n",
            "     48/99     7.99G   0.09022    0.1001   0.05935       212       416: 100% 3/3 [00:10<00:00,  3.59s/it]\n",
            "               Class     Images     Labels          P          R     mAP@.5 mAP@.5:.95: 100% 1/1 [00:02<00:00,  2.07s/it]\n",
            "                 all         20        169   6.68e-05       0.01   3.57e-05   3.57e-06\n",
            "\n",
            "     Epoch   gpu_mem       box       obj       cls    labels  img_size\n",
            "     49/99     7.99G   0.09049    0.1055   0.05911       277       416: 100% 3/3 [00:10<00:00,  3.60s/it]\n",
            "               Class     Images     Labels          P          R     mAP@.5 mAP@.5:.95: 100% 1/1 [00:02<00:00,  2.15s/it]\n",
            "                 all         20        169   0.000102      0.015   5.66e-05   7.36e-06\n",
            "\n",
            "     Epoch   gpu_mem       box       obj       cls    labels  img_size\n",
            "     50/99     7.99G   0.08945    0.1004   0.05913       210       416: 100% 3/3 [00:10<00:00,  3.58s/it]\n",
            "               Class     Images     Labels          P          R     mAP@.5 mAP@.5:.95: 100% 1/1 [00:02<00:00,  2.06s/it]\n",
            "                 all         20        169   3.15e-05      0.005   1.82e-05   1.82e-06\n",
            "\n",
            "     Epoch   gpu_mem       box       obj       cls    labels  img_size\n",
            "     51/99     7.99G    0.0892   0.09987   0.05897       253       416: 100% 3/3 [00:10<00:00,  3.58s/it]\n",
            "               Class     Images     Labels          P          R     mAP@.5 mAP@.5:.95: 100% 1/1 [00:02<00:00,  2.05s/it]\n",
            "                 all         20        169   6.69e-05       0.01   3.61e-05   5.31e-06\n",
            "\n",
            "     Epoch   gpu_mem       box       obj       cls    labels  img_size\n",
            "     52/99     7.99G   0.08951    0.1026   0.05899       231       416: 100% 3/3 [00:10<00:00,  3.60s/it]\n",
            "               Class     Images     Labels          P          R     mAP@.5 mAP@.5:.95: 100% 1/1 [00:02<00:00,  2.06s/it]\n",
            "                 all         20        169   0.000102      0.015   5.61e-05    7.3e-06\n",
            "\n",
            "     Epoch   gpu_mem       box       obj       cls    labels  img_size\n",
            "     53/99     7.99G   0.08894   0.09509    0.0592       205       416: 100% 3/3 [00:10<00:00,  3.57s/it]\n",
            "               Class     Images     Labels          P          R     mAP@.5 mAP@.5:.95: 100% 1/1 [00:02<00:00,  2.08s/it]\n",
            "                 all         20        169    6.7e-05       0.01   3.62e-05   5.33e-06\n",
            "\n",
            "     Epoch   gpu_mem       box       obj       cls    labels  img_size\n",
            "     54/99     7.99G   0.08881   0.09435     0.059       236       416: 100% 3/3 [00:10<00:00,  3.59s/it]\n",
            "               Class     Images     Labels          P          R     mAP@.5 mAP@.5:.95: 100% 1/1 [00:02<00:00,  2.08s/it]\n",
            "                 all         20        169    0.00398      0.025    0.00264   0.000764\n",
            "\n",
            "     Epoch   gpu_mem       box       obj       cls    labels  img_size\n",
            "     55/99     7.99G   0.08939    0.1017    0.0588       221       416: 100% 3/3 [00:10<00:00,  3.62s/it]\n",
            "               Class     Images     Labels          P          R     mAP@.5 mAP@.5:.95: 100% 1/1 [00:02<00:00,  2.08s/it]\n",
            "                 all         20        169    0.00255       0.03    0.00209     0.0004\n",
            "\n",
            "     Epoch   gpu_mem       box       obj       cls    labels  img_size\n",
            "     56/99     7.99G    0.0886   0.09147   0.05884       212       416: 100% 3/3 [00:10<00:00,  3.59s/it]\n",
            "               Class     Images     Labels          P          R     mAP@.5 mAP@.5:.95: 100% 1/1 [00:02<00:00,  2.05s/it]\n",
            "                 all         20        169     0.0103       0.01    0.00333   0.000652\n",
            "\n",
            "     Epoch   gpu_mem       box       obj       cls    labels  img_size\n",
            "     57/99     7.99G   0.08871   0.09656   0.05875       216       416: 100% 3/3 [00:10<00:00,  3.59s/it]\n",
            "               Class     Images     Labels          P          R     mAP@.5 mAP@.5:.95: 100% 1/1 [00:02<00:00,  2.05s/it]\n",
            "                 all         20        169    0.00643       0.01    0.00265   0.000266\n",
            "\n",
            "     Epoch   gpu_mem       box       obj       cls    labels  img_size\n",
            "     58/99     7.99G   0.08927   0.09179   0.05871       223       416: 100% 3/3 [00:10<00:00,  3.58s/it]\n",
            "               Class     Images     Labels          P          R     mAP@.5 mAP@.5:.95: 100% 1/1 [00:02<00:00,  2.01s/it]\n",
            "                 all         20        169    0.00691       0.01    0.00184   0.000211\n",
            "\n",
            "     Epoch   gpu_mem       box       obj       cls    labels  img_size\n",
            "     59/99     7.99G   0.08856    0.0943   0.05869       211       416: 100% 3/3 [00:10<00:00,  3.58s/it]\n",
            "               Class     Images     Labels          P          R     mAP@.5 mAP@.5:.95: 100% 1/1 [00:01<00:00,  1.97s/it]\n",
            "                 all         20        169      0.106      0.015    0.00162   0.000199\n",
            "\n",
            "     Epoch   gpu_mem       box       obj       cls    labels  img_size\n",
            "     60/99     7.99G   0.08826    0.1023   0.05842       205       416: 100% 3/3 [00:10<00:00,  3.58s/it]\n",
            "               Class     Images     Labels          P          R     mAP@.5 mAP@.5:.95: 100% 1/1 [00:01<00:00,  1.95s/it]\n",
            "                 all         20        169    0.00355       0.01   0.000412   7.94e-05\n",
            "\n",
            "     Epoch   gpu_mem       box       obj       cls    labels  img_size\n",
            "     61/99     7.99G   0.08823    0.1035   0.05837       223       416: 100% 3/3 [00:10<00:00,  3.57s/it]\n",
            "               Class     Images     Labels          P          R     mAP@.5 mAP@.5:.95: 100% 1/1 [00:01<00:00,  1.96s/it]\n",
            "                 all         20        169    0.00522       0.01   0.000385   0.000107\n",
            "\n",
            "     Epoch   gpu_mem       box       obj       cls    labels  img_size\n",
            "     62/99     7.99G    0.0882   0.09909   0.05852       243       416: 100% 3/3 [00:10<00:00,  3.59s/it]\n",
            "               Class     Images     Labels          P          R     mAP@.5 mAP@.5:.95: 100% 1/1 [00:01<00:00,  1.95s/it]\n",
            "                 all         20        169      0.104       0.01    0.00043   0.000118\n",
            "\n",
            "     Epoch   gpu_mem       box       obj       cls    labels  img_size\n",
            "     63/99     7.99G   0.08754    0.1009   0.05836       248       416: 100% 3/3 [00:10<00:00,  3.59s/it]\n",
            "               Class     Images     Labels          P          R     mAP@.5 mAP@.5:.95: 100% 1/1 [00:01<00:00,  1.96s/it]\n",
            "                 all         20        169    0.00524      0.015    0.00153     0.0003\n",
            "\n",
            "     Epoch   gpu_mem       box       obj       cls    labels  img_size\n",
            "     64/99     7.99G   0.08844    0.1103   0.05828       221       416: 100% 3/3 [00:10<00:00,  3.59s/it]\n",
            "               Class     Images     Labels          P          R     mAP@.5 mAP@.5:.95: 100% 1/1 [00:01<00:00,  1.92s/it]\n",
            "                 all         20        169    0.00801      0.015     0.0021   0.000228\n",
            "\n",
            "     Epoch   gpu_mem       box       obj       cls    labels  img_size\n",
            "     65/99     7.99G   0.08976   0.09747   0.05821       214       416: 100% 3/3 [00:10<00:00,  3.59s/it]\n",
            "               Class     Images     Labels          P          R     mAP@.5 mAP@.5:.95: 100% 1/1 [00:01<00:00,  1.96s/it]\n",
            "                 all         20        169    0.00605      0.015    0.00156   0.000211\n",
            "\n",
            "     Epoch   gpu_mem       box       obj       cls    labels  img_size\n",
            "     66/99     7.99G   0.08902    0.0991   0.05842       244       416: 100% 3/3 [00:10<00:00,  3.64s/it]\n",
            "               Class     Images     Labels          P          R     mAP@.5 mAP@.5:.95: 100% 1/1 [00:01<00:00,  1.95s/it]\n",
            "                 all         20        169      0.209      0.015     0.0015    0.00023\n",
            "\n",
            "     Epoch   gpu_mem       box       obj       cls    labels  img_size\n",
            "     67/99     7.99G    0.0888    0.1054   0.05806       247       416: 100% 3/3 [00:10<00:00,  3.59s/it]\n",
            "               Class     Images     Labels          P          R     mAP@.5 mAP@.5:.95: 100% 1/1 [00:01<00:00,  1.98s/it]\n",
            "                 all         20        169    0.00868       0.01    0.00221   0.000223\n",
            "\n",
            "     Epoch   gpu_mem       box       obj       cls    labels  img_size\n",
            "     68/99     7.99G   0.08756   0.09256    0.0581       193       416: 100% 3/3 [00:10<00:00,  3.59s/it]\n",
            "               Class     Images     Labels          P          R     mAP@.5 mAP@.5:.95: 100% 1/1 [00:02<00:00,  2.01s/it]\n",
            "                 all         20        169    0.00392       0.01   0.000916    0.00016\n",
            "\n",
            "     Epoch   gpu_mem       box       obj       cls    labels  img_size\n",
            "     69/99     7.99G   0.08963   0.09431   0.05823       187       416: 100% 3/3 [00:10<00:00,  3.59s/it]\n",
            "               Class     Images     Labels          P          R     mAP@.5 mAP@.5:.95: 100% 1/1 [00:01<00:00,  1.96s/it]\n",
            "                 all         20        169    0.00975      0.015    0.00182   0.000303\n",
            "\n",
            "     Epoch   gpu_mem       box       obj       cls    labels  img_size\n",
            "     70/99     7.99G   0.08879   0.09552   0.05788       203       416: 100% 3/3 [00:10<00:00,  3.59s/it]\n",
            "               Class     Images     Labels          P          R     mAP@.5 mAP@.5:.95: 100% 1/1 [00:01<00:00,  1.98s/it]\n",
            "                 all         20        169    0.00821      0.012    0.00157   0.000301\n",
            "\n",
            "     Epoch   gpu_mem       box       obj       cls    labels  img_size\n",
            "     71/99     7.99G   0.08864    0.1028   0.05809       248       416: 100% 3/3 [00:10<00:00,  3.58s/it]\n",
            "               Class     Images     Labels          P          R     mAP@.5 mAP@.5:.95: 100% 1/1 [00:01<00:00,  1.96s/it]\n",
            "                 all         20        169       0.11      0.015    0.00209   0.000423\n",
            "\n",
            "     Epoch   gpu_mem       box       obj       cls    labels  img_size\n",
            "     72/99     7.99G   0.08842   0.09987   0.05789       275       416: 100% 3/3 [00:10<00:00,  3.58s/it]\n",
            "               Class     Images     Labels          P          R     mAP@.5 mAP@.5:.95: 100% 1/1 [00:01<00:00,  1.97s/it]\n",
            "                 all         20        169      0.116      0.015     0.0021   0.000363\n",
            "\n",
            "     Epoch   gpu_mem       box       obj       cls    labels  img_size\n",
            "     73/99     7.99G   0.08714    0.1091   0.05773       287       416: 100% 3/3 [00:10<00:00,  3.58s/it]\n",
            "               Class     Images     Labels          P          R     mAP@.5 mAP@.5:.95: 100% 1/1 [00:01<00:00,  1.98s/it]\n",
            "                 all         20        169      0.215      0.015    0.00215   0.000458\n",
            "\n",
            "     Epoch   gpu_mem       box       obj       cls    labels  img_size\n",
            "     74/99     7.99G   0.08812    0.1001    0.0578       250       416: 100% 3/3 [00:10<00:00,  3.60s/it]\n",
            "               Class     Images     Labels          P          R     mAP@.5 mAP@.5:.95: 100% 1/1 [00:02<00:00,  2.16s/it]\n",
            "                 all         20        169       0.11      0.015    0.00184    0.00028\n",
            "\n",
            "     Epoch   gpu_mem       box       obj       cls    labels  img_size\n",
            "     75/99     7.99G   0.08851   0.09056   0.05783       195       416: 100% 3/3 [00:10<00:00,  3.57s/it]\n",
            "               Class     Images     Labels          P          R     mAP@.5 mAP@.5:.95: 100% 1/1 [00:01<00:00,  1.96s/it]\n",
            "                 all         20        169      0.105      0.015    0.00165   0.000287\n",
            "\n",
            "     Epoch   gpu_mem       box       obj       cls    labels  img_size\n",
            "     76/99     7.99G   0.08858   0.09107   0.05761       195       416: 100% 3/3 [00:10<00:00,  3.58s/it]\n",
            "               Class     Images     Labels          P          R     mAP@.5 mAP@.5:.95: 100% 1/1 [00:01<00:00,  1.97s/it]\n",
            "                 all         20        169      0.106       0.01    0.00171   0.000319\n",
            "\n",
            "     Epoch   gpu_mem       box       obj       cls    labels  img_size\n",
            "     77/99     7.99G   0.08745   0.09754   0.05775       188       416: 100% 3/3 [00:10<00:00,  3.58s/it]\n",
            "               Class     Images     Labels          P          R     mAP@.5 mAP@.5:.95: 100% 1/1 [00:01<00:00,  1.97s/it]\n",
            "                 all         20        169    0.00532      0.015     0.0017   0.000351\n",
            "\n",
            "     Epoch   gpu_mem       box       obj       cls    labels  img_size\n",
            "     78/99     7.99G   0.08829   0.09732   0.05753       220       416: 100% 3/3 [00:10<00:00,  3.58s/it]\n",
            "               Class     Images     Labels          P          R     mAP@.5 mAP@.5:.95: 100% 1/1 [00:01<00:00,  1.97s/it]\n",
            "                 all         20        169      0.105      0.015    0.00174   0.000369\n",
            "\n",
            "     Epoch   gpu_mem       box       obj       cls    labels  img_size\n",
            "     79/99     7.99G   0.08786   0.09471   0.05733       215       416: 100% 3/3 [00:10<00:00,  3.59s/it]\n",
            "               Class     Images     Labels          P          R     mAP@.5 mAP@.5:.95: 100% 1/1 [00:01<00:00,  1.94s/it]\n",
            "                 all         20        169      0.206       0.01    0.00163   0.000315\n",
            "\n",
            "     Epoch   gpu_mem       box       obj       cls    labels  img_size\n",
            "     80/99     7.99G   0.08823   0.09961   0.05755       225       416: 100% 3/3 [00:10<00:00,  3.58s/it]\n",
            "               Class     Images     Labels          P          R     mAP@.5 mAP@.5:.95: 100% 1/1 [00:01<00:00,  1.97s/it]\n",
            "                 all         20        169      0.205       0.01    0.00167   0.000421\n",
            "\n",
            "     Epoch   gpu_mem       box       obj       cls    labels  img_size\n",
            "     81/99     7.99G    0.0871    0.1017   0.05738       226       416: 100% 3/3 [00:10<00:00,  3.57s/it]\n",
            "               Class     Images     Labels          P          R     mAP@.5 mAP@.5:.95: 100% 1/1 [00:01<00:00,  1.95s/it]\n",
            "                 all         20        169      0.107      0.015    0.00169   0.000252\n",
            "\n",
            "     Epoch   gpu_mem       box       obj       cls    labels  img_size\n",
            "     82/99     7.99G   0.08751   0.09312   0.05773       188       416: 100% 3/3 [00:10<00:00,  3.58s/it]\n",
            "               Class     Images     Labels          P          R     mAP@.5 mAP@.5:.95: 100% 1/1 [00:01<00:00,  1.99s/it]\n",
            "                 all         20        169       0.12      0.015    0.00359   0.000455\n",
            "\n",
            "     Epoch   gpu_mem       box       obj       cls    labels  img_size\n",
            "     83/99     7.99G   0.08732   0.09898    0.0576       222       416: 100% 3/3 [00:10<00:00,  3.58s/it]\n",
            "               Class     Images     Labels          P          R     mAP@.5 mAP@.5:.95: 100% 1/1 [00:01<00:00,  1.97s/it]\n",
            "                 all         20        169      0.111      0.015    0.00181   0.000273\n",
            "\n",
            "     Epoch   gpu_mem       box       obj       cls    labels  img_size\n",
            "     84/99     7.99G   0.08855   0.09804   0.05731       199       416: 100% 3/3 [00:10<00:00,  3.60s/it]\n",
            "               Class     Images     Labels          P          R     mAP@.5 mAP@.5:.95: 100% 1/1 [00:01<00:00,  1.99s/it]\n",
            "                 all         20        169      0.205       0.01   0.000941   0.000251\n",
            "\n",
            "     Epoch   gpu_mem       box       obj       cls    labels  img_size\n",
            "     85/99     7.99G    0.0877    0.1011   0.05739       202       416: 100% 3/3 [00:10<00:00,  3.60s/it]\n",
            "               Class     Images     Labels          P          R     mAP@.5 mAP@.5:.95: 100% 1/1 [00:02<00:00,  2.07s/it]\n",
            "                 all         20        169    0.00452       0.01   0.000977   0.000244\n",
            "\n",
            "     Epoch   gpu_mem       box       obj       cls    labels  img_size\n",
            "     86/99     7.99G   0.08812   0.09507   0.05743       223       416: 100% 3/3 [00:10<00:00,  3.60s/it]\n",
            "               Class     Images     Labels          P          R     mAP@.5 mAP@.5:.95: 100% 1/1 [00:01<00:00,  1.94s/it]\n",
            "                 all         20        169     0.0114      0.015    0.00207    0.00033\n",
            "\n",
            "     Epoch   gpu_mem       box       obj       cls    labels  img_size\n",
            "     87/99     7.99G   0.08805    0.1085   0.05725       308       416: 100% 3/3 [00:10<00:00,  3.59s/it]\n",
            "               Class     Images     Labels          P          R     mAP@.5 mAP@.5:.95: 100% 1/1 [00:01<00:00,  1.96s/it]\n",
            "                 all         20        169    0.00832       0.02    0.00228   0.000386\n",
            "\n",
            "     Epoch   gpu_mem       box       obj       cls    labels  img_size\n",
            "     88/99     7.99G   0.08661   0.09146   0.05744       209       416: 100% 3/3 [00:10<00:00,  3.59s/it]\n",
            "               Class     Images     Labels          P          R     mAP@.5 mAP@.5:.95: 100% 1/1 [00:01<00:00,  1.95s/it]\n",
            "                 all         20        169    0.00634      0.015    0.00144   0.000297\n",
            "\n",
            "     Epoch   gpu_mem       box       obj       cls    labels  img_size\n",
            "     89/99     7.99G   0.08936    0.1086   0.05734       258       416: 100% 3/3 [00:10<00:00,  3.64s/it]\n",
            "               Class     Images     Labels          P          R     mAP@.5 mAP@.5:.95: 100% 1/1 [00:01<00:00,  1.96s/it]\n",
            "                 all         20        169    0.00859      0.015    0.00206   0.000442\n",
            "\n",
            "     Epoch   gpu_mem       box       obj       cls    labels  img_size\n",
            "     90/99     7.99G   0.08676   0.09106   0.05732       176       416: 100% 3/3 [00:10<00:00,  3.59s/it]\n",
            "               Class     Images     Labels          P          R     mAP@.5 mAP@.5:.95: 100% 1/1 [00:01<00:00,  1.95s/it]\n",
            "                 all         20        169      0.107      0.015    0.00149   0.000332\n",
            "\n",
            "     Epoch   gpu_mem       box       obj       cls    labels  img_size\n",
            "     91/99     7.99G   0.08697   0.09405   0.05714       223       416: 100% 3/3 [00:10<00:00,  3.60s/it]\n",
            "               Class     Images     Labels          P          R     mAP@.5 mAP@.5:.95: 100% 1/1 [00:01<00:00,  1.95s/it]\n",
            "                 all         20        169      0.211       0.02    0.00233   0.000399\n",
            "\n",
            "     Epoch   gpu_mem       box       obj       cls    labels  img_size\n",
            "     92/99     7.99G   0.08783   0.09974   0.05732       208       416: 100% 3/3 [00:10<00:00,  3.59s/it]\n",
            "               Class     Images     Labels          P          R     mAP@.5 mAP@.5:.95: 100% 1/1 [00:01<00:00,  1.94s/it]\n",
            "                 all         20        169      0.109      0.015    0.00111   0.000266\n",
            "\n",
            "     Epoch   gpu_mem       box       obj       cls    labels  img_size\n",
            "     93/99     7.99G   0.08787    0.1073   0.05706       220       416: 100% 3/3 [00:10<00:00,  3.62s/it]\n",
            "               Class     Images     Labels          P          R     mAP@.5 mAP@.5:.95: 100% 1/1 [00:01<00:00,  1.99s/it]\n",
            "                 all         20        169      0.312       0.02    0.00615    0.00131\n",
            "\n",
            "     Epoch   gpu_mem       box       obj       cls    labels  img_size\n",
            "     94/99     7.99G   0.08713    0.1022   0.05706       235       416: 100% 3/3 [00:10<00:00,  3.65s/it]\n",
            "               Class     Images     Labels          P          R     mAP@.5 mAP@.5:.95: 100% 1/1 [00:01<00:00,  1.98s/it]\n",
            "                 all         20        169      0.308      0.015    0.00113   0.000356\n",
            "\n",
            "     Epoch   gpu_mem       box       obj       cls    labels  img_size\n",
            "     95/99     7.99G   0.08793    0.0999   0.05677       208       416: 100% 3/3 [00:10<00:00,  3.58s/it]\n",
            "               Class     Images     Labels          P          R     mAP@.5 mAP@.5:.95: 100% 1/1 [00:01<00:00,  1.97s/it]\n",
            "                 all         20        169      0.213       0.02    0.00699    0.00104\n",
            "\n",
            "     Epoch   gpu_mem       box       obj       cls    labels  img_size\n",
            "     96/99     7.99G   0.08799   0.09493   0.05721       206       416: 100% 3/3 [00:10<00:00,  3.58s/it]\n",
            "               Class     Images     Labels          P          R     mAP@.5 mAP@.5:.95: 100% 1/1 [00:01<00:00,  1.91s/it]\n",
            "                 all         20        169      0.207      0.015    0.00225   0.000652\n",
            "\n",
            "     Epoch   gpu_mem       box       obj       cls    labels  img_size\n",
            "     97/99     7.99G   0.08712   0.09945   0.05698       205       416: 100% 3/3 [00:10<00:00,  3.59s/it]\n",
            "               Class     Images     Labels          P          R     mAP@.5 mAP@.5:.95: 100% 1/1 [00:02<00:00,  2.00s/it]\n",
            "                 all         20        169      0.106      0.015    0.00246   0.000787\n",
            "\n",
            "     Epoch   gpu_mem       box       obj       cls    labels  img_size\n",
            "     98/99     7.99G    0.0882   0.09822     0.057       222       416: 100% 3/3 [00:10<00:00,  3.59s/it]\n",
            "               Class     Images     Labels          P          R     mAP@.5 mAP@.5:.95: 100% 1/1 [00:01<00:00,  1.96s/it]\n",
            "                 all         20        169      0.107      0.015    0.00286   0.000744\n",
            "\n",
            "     Epoch   gpu_mem       box       obj       cls    labels  img_size\n",
            "     99/99     7.99G   0.08788    0.1005   0.05695       190       416: 100% 3/3 [00:10<00:00,  3.58s/it]\n",
            "               Class     Images     Labels          P          R     mAP@.5 mAP@.5:.95: 100% 1/1 [00:01<00:00,  1.90s/it]\n",
            "                 all         20        169     0.0104       0.02    0.00474   0.000902\n",
            "\n",
            "100 epochs completed in 0.391 hours.\n",
            "Optimizer stripped from runs/train/anatomy7/weights/last.pt, 92.8MB\n",
            "Optimizer stripped from runs/train/anatomy7/weights/best.pt, 92.8MB\n",
            "\n",
            "Validating runs/train/anatomy7/weights/best.pt...\n",
            "Fusing layers... \n",
            "Model Summary: 367 layers, 46156743 parameters, 0 gradients, 107.9 GFLOPs\n",
            "               Class     Images     Labels          P          R     mAP@.5 mAP@.5:.95: 100% 1/1 [00:02<00:00,  2.85s/it]\n",
            "                 all         20        169      0.312       0.02    0.00617    0.00132\n",
            "           lung_left         20         20     0.0166       0.05    0.00191   0.000402\n",
            "          lung_right         20         20     0.0226       0.05    0.00299   0.000819\n",
            "       clavicle_left         20         18          0          0          0          0\n",
            "      clavicle_right         20         20          0          0          0          0\n",
            "   humeral_head_left         20         17          0          0          0          0\n",
            "  humeral_head_right         20         20          0          0          0          0\n",
            "               heart         20         20     0.0838        0.1     0.0568     0.0119\n",
            "      gastric_bubble         20          6          1          0          0          0\n",
            "              carina         20         13          1          0          0          0\n",
            "             trachea         20         15          1          0          0          0\n",
            "Results saved to \u001b[1mruns/train/anatomy7\u001b[0m\n",
            "CPU times: user 10.9 s, sys: 1.54 s, total: 12.4 s\n",
            "Wall time: 24min 5s\n"
          ]
        }
      ]
    },
    {
      "cell_type": "markdown",
      "source": [
        "## 8. Inference with trained weight:\n"
      ],
      "metadata": {
        "id": "Cy7GqF41Nvyj"
      }
    },
    {
      "cell_type": "markdown",
      "source": [
        "> ⚠️ Warning: Don't use a youtube link to detect. Because, Youtube recently removed the dislike features, which makes the library used by YOLOv5 broken."
      ],
      "metadata": {
        "id": "Ihaw9CaBO3_3"
      }
    },
    {
      "cell_type": "markdown",
      "source": [
        "For each model and dataset, adjust an appropriate confidence score."
      ],
      "metadata": {
        "id": "W-LYBtlJn0TI"
      }
    },
    {
      "cell_type": "code",
      "source": [
        "%cd /content/yolov5/\n",
        "!python detect.py --weight '/content/yolov5/runs/train/anatomy7/weights/best.pt' --data /content/drive/MyDrive/anatomy/chest_anatomy_data.yaml --img 416 --conf 0.03 --source '/content/drive/MyDrive/anatomy/images/test'"
      ],
      "metadata": {
        "id": "ptWWEcnAzGR7",
        "colab": {
          "base_uri": "https://localhost:8080/"
        },
        "outputId": "6239e16e-53d0-48aa-a40c-c483f69fa18a"
      },
      "execution_count": null,
      "outputs": [
        {
          "output_type": "stream",
          "name": "stdout",
          "text": [
            "/content/yolov5\n",
            "\u001b[34m\u001b[1mdetect: \u001b[0mweights=['/content/yolov5/runs/train/anatomy7/weights/best.pt'], source=/content/drive/MyDrive/anatomy/images/test, data=/content/drive/MyDrive/anatomy/chest_anatomy_data.yaml, imgsz=[416, 416], conf_thres=0.03, iou_thres=0.45, max_det=1000, device=, view_img=False, save_txt=False, save_conf=False, save_crop=False, nosave=False, classes=None, agnostic_nms=False, augment=False, visualize=False, update=False, project=runs/detect, name=exp, exist_ok=False, line_thickness=3, hide_labels=False, hide_conf=False, half=False, dnn=False\n",
            "YOLOv5 🚀 v6.0-163-gd95978a torch 1.10.0+cu111 CUDA:0 (Tesla K80, 11441MiB)\n",
            "\n",
            "Fusing layers... \n",
            "Model Summary: 367 layers, 46156743 parameters, 0 gradients, 107.9 GFLOPs\n",
            "image 1/20 /content/drive/MyDrive/anatomy/images/test/5b1e5fabcb5d.jpg: 352x416 Done. (0.062s)\n",
            "image 2/20 /content/drive/MyDrive/anatomy/images/test/5b322d104117.jpg: 416x352 3 lung_lefts, 6 clavicle_lefts, 9 clavicle_rights, 1 humeral_head_right, 2 hearts, Done. (0.080s)\n",
            "image 3/20 /content/drive/MyDrive/anatomy/images/test/5b3bf6f0afae.jpg: 416x416 Done. (0.068s)\n",
            "image 4/20 /content/drive/MyDrive/anatomy/images/test/5b4bd8fe8138.jpg: 352x416 Done. (0.057s)\n",
            "image 5/20 /content/drive/MyDrive/anatomy/images/test/5b4f7e62949a.jpg: 352x416 Done. (0.056s)\n",
            "image 6/20 /content/drive/MyDrive/anatomy/images/test/5b687c54d3fd.jpg: 352x416 Done. (0.054s)\n",
            "image 7/20 /content/drive/MyDrive/anatomy/images/test/5b7339345256.jpg: 416x416 Done. (0.062s)\n",
            "image 8/20 /content/drive/MyDrive/anatomy/images/test/5b8a35fa9e37.jpg: 352x416 Done. (0.050s)\n",
            "image 9/20 /content/drive/MyDrive/anatomy/images/test/5b8bdee6eb31.jpg: 352x416 Done. (0.047s)\n",
            "image 10/20 /content/drive/MyDrive/anatomy/images/test/5b8d34cda68e.jpg: 352x416 Done. (0.047s)\n",
            "image 11/20 /content/drive/MyDrive/anatomy/images/test/5bad56698f31.jpg: 352x416 Done. (0.046s)\n",
            "image 12/20 /content/drive/MyDrive/anatomy/images/test/5bbc12c5236d.jpg: 352x416 Done. (0.047s)\n",
            "image 13/20 /content/drive/MyDrive/anatomy/images/test/5bbffdf01f8a.jpg: 384x416 Done. (0.053s)\n",
            "image 14/20 /content/drive/MyDrive/anatomy/images/test/5bc48c0f7e61.jpg: 384x416 Done. (0.053s)\n",
            "image 15/20 /content/drive/MyDrive/anatomy/images/test/5bfab860f585.jpg: 384x416 Done. (0.053s)\n",
            "image 16/20 /content/drive/MyDrive/anatomy/images/test/5bfc7dcc9cba.jpg: 416x416 Done. (0.056s)\n",
            "image 17/20 /content/drive/MyDrive/anatomy/images/test/5c1a57dd5e8a.jpg: 352x416 Done. (0.047s)\n",
            "image 18/20 /content/drive/MyDrive/anatomy/images/test/5c72e8548a70.jpg: 384x416 Done. (0.053s)\n",
            "image 19/20 /content/drive/MyDrive/anatomy/images/test/5c7b5fe49437.jpg: 352x416 Done. (0.047s)\n",
            "image 20/20 /content/drive/MyDrive/anatomy/images/test/5c8f5e53c8e8.jpg: 352x416 Done. (0.046s)\n",
            "Speed: 0.5ms pre-process, 54.2ms inference, 1.4ms NMS per image at shape (1, 3, 416, 416)\n",
            "Results saved to \u001b[1mruns/detect/exp4\u001b[0m\n"
          ]
        }
      ]
    }
  ]
}