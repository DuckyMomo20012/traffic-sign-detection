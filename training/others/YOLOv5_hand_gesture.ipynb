{
  "nbformat": 4,
  "nbformat_minor": 0,
  "metadata": {
    "colab": {
      "name": "YOLOv5 hand_gesture.ipynb",
      "provenance": [],
      "collapsed_sections": []
    },
    "kernelspec": {
      "name": "python3",
      "display_name": "Python 3"
    },
    "language_info": {
      "name": "python"
    },
    "accelerator": "GPU"
  },
  "cells": [
    {
      "cell_type": "markdown",
      "source": [
        "# YOLOv5 implementation\n",
        "\n",
        "Dataset link: [hand-gesture-recongition-yolo-v3](https://www.kaggle.com/abdullahmujahidali/hand-gesture-recongition-yolo-v3)\n",
        "\n",
        "Ref: [Do_Thuan.pdf](https://www.theseus.fi/bitstream/handle/10024/452552/Do_Thuan.pdf)"
      ],
      "metadata": {
        "id": "UsgwQGNwVf8J"
      }
    },
    {
      "cell_type": "markdown",
      "source": [
        "## 1. Check GPU usage status:\n",
        "To use GPU: Go to Edit -> Notebook settings -> Hardware accelerator: GPU.\n",
        "If we don't use GPU, we can skip this step."
      ],
      "metadata": {
        "id": "q-qCfo7VK_Mx"
      }
    },
    {
      "cell_type": "code",
      "execution_count": null,
      "metadata": {
        "id": "V37ASONZTkPc",
        "colab": {
          "base_uri": "https://localhost:8080/"
        },
        "outputId": "adc00f12-ef43-4f6d-979e-7c71bdd8c20a"
      },
      "outputs": [
        {
          "output_type": "stream",
          "name": "stdout",
          "text": [
            "Sat Jan  1 13:04:25 2022       \n",
            "+-----------------------------------------------------------------------------+\n",
            "| NVIDIA-SMI 495.44       Driver Version: 460.32.03    CUDA Version: 11.2     |\n",
            "|-------------------------------+----------------------+----------------------+\n",
            "| GPU  Name        Persistence-M| Bus-Id        Disp.A | Volatile Uncorr. ECC |\n",
            "| Fan  Temp  Perf  Pwr:Usage/Cap|         Memory-Usage | GPU-Util  Compute M. |\n",
            "|                               |                      |               MIG M. |\n",
            "|===============================+======================+======================|\n",
            "|   0  Tesla K80           Off  | 00000000:00:04.0 Off |                    0 |\n",
            "| N/A   64C    P8    32W / 149W |      0MiB / 11441MiB |      0%      Default |\n",
            "|                               |                      |                  N/A |\n",
            "+-------------------------------+----------------------+----------------------+\n",
            "                                                                               \n",
            "+-----------------------------------------------------------------------------+\n",
            "| Processes:                                                                  |\n",
            "|  GPU   GI   CI        PID   Type   Process name                  GPU Memory |\n",
            "|        ID   ID                                                   Usage      |\n",
            "|=============================================================================|\n",
            "|  No running processes found                                                 |\n",
            "+-----------------------------------------------------------------------------+\n"
          ]
        }
      ],
      "source": [
        "!nvidia-smi"
      ]
    },
    {
      "cell_type": "markdown",
      "source": [
        "## 2. Clone yolov5 repository:"
      ],
      "metadata": {
        "id": "1UXwdlHWLddp"
      }
    },
    {
      "cell_type": "code",
      "source": [
        "%%writefile requirements.txt\n",
        "\n",
        "# pip install -r requirements.txt\n",
        "\n",
        "# Base ----------------------------------------\n",
        "matplotlib>=3.2.2\n",
        "numpy>=1.18.5\n",
        "opencv-python>=4.1.2\n",
        "Pillow>=7.1.2\n",
        "PyYAML>=5.3.1\n",
        "requests>=2.23.0\n",
        "scipy>=1.4.1\n",
        "# torch>=1.7.0\n",
        "# torchvision>=0.8.1\n",
        "tqdm>=4.41.0\n",
        "\n",
        "# Logging -------------------------------------\n",
        "tensorboard>=2.4.1\n",
        "# wandb\n",
        "\n",
        "# Plotting ------------------------------------\n",
        "pandas>=1.1.4\n",
        "seaborn>=0.11.0\n",
        "\n",
        "# Export --------------------------------------\n",
        "# coremltools>=4.1  # CoreML export\n",
        "# onnx>=1.9.0  # ONNX export\n",
        "# onnx-simplifier>=0.3.6  # ONNX simplifier\n",
        "# scikit-learn==0.19.2  # CoreML quantization\n",
        "# tensorflow>=2.4.1  # TFLite export\n",
        "# tensorflowjs>=3.9.0  # TF.js export\n",
        "# openvino-dev  # OpenVINO export\n",
        "\n",
        "# Extras --------------------------------------\n",
        "# albumentations>=1.0.3\n",
        "# Cython  # for pycocotools https://github.com/cocodataset/cocoapi/issues/172\n",
        "# pycocotools>=2.0  # COCO mAP\n",
        "# roboflow\n",
        "thop  # FLOPs computation"
      ],
      "metadata": {
        "colab": {
          "base_uri": "https://localhost:8080/"
        },
        "id": "g9bRDceobhao",
        "outputId": "c411803e-2ac4-4596-c65f-c8bb818afad3"
      },
      "execution_count": null,
      "outputs": [
        {
          "output_type": "stream",
          "name": "stdout",
          "text": [
            "Writing requirements.txt\n"
          ]
        }
      ]
    },
    {
      "cell_type": "code",
      "source": [
        "!pip3 install torch==1.9.1+cu102 torchvision==0.10.1+cu102 torchaudio===0.9.1 -f https://download.pytorch.org/whl/torch_stable.html"
      ],
      "metadata": {
        "id": "Vh-N7Hx2X5QN"
      },
      "execution_count": null,
      "outputs": []
    },
    {
      "cell_type": "markdown",
      "source": [
        "> Install torch with stable version to be able to run code with CPU. But the training is VERY slow 😭. \n",
        "\n",
        "> After we use GPU a period of time, we will exceed usage limit, then we will have to wait a long time for usage limit to be reseted."
      ],
      "metadata": {
        "id": "ryEDmIPFen4T"
      }
    },
    {
      "cell_type": "code",
      "source": [
        "!git clone https://github.com/ultralytics/yolov5.git"
      ],
      "metadata": {
        "id": "afsFgSYXU0ly",
        "colab": {
          "base_uri": "https://localhost:8080/"
        },
        "outputId": "cca4035f-ee9e-4fda-80c1-348c245c6e84"
      },
      "execution_count": null,
      "outputs": [
        {
          "output_type": "stream",
          "name": "stdout",
          "text": [
            "Cloning into 'yolov5'...\n",
            "remote: Enumerating objects: 10367, done.\u001b[K\n",
            "remote: Total 10367 (delta 0), reused 0 (delta 0), pack-reused 10367\u001b[K\n",
            "Receiving objects: 100% (10367/10367), 10.54 MiB | 8.61 MiB/s, done.\n",
            "Resolving deltas: 100% (7166/7166), done.\n"
          ]
        }
      ]
    },
    {
      "cell_type": "code",
      "source": [
        "# If we use GPU then use default requirement file\n",
        "!pip3 install -r yolov5/requirements.txt\n",
        "# !pip3 install -r requirements.txt\n",
        "%cd yolov5"
      ],
      "metadata": {
        "id": "LlClLONJ7FSh",
        "colab": {
          "base_uri": "https://localhost:8080/"
        },
        "outputId": "33d5c968-86d6-49d0-dbe9-d2c858c05818"
      },
      "execution_count": null,
      "outputs": [
        {
          "output_type": "stream",
          "name": "stdout",
          "text": [
            "Requirement already satisfied: matplotlib>=3.2.2 in /usr/local/lib/python3.7/dist-packages (from -r yolov5/requirements.txt (line 4)) (3.2.2)\n",
            "Requirement already satisfied: numpy>=1.18.5 in /usr/local/lib/python3.7/dist-packages (from -r yolov5/requirements.txt (line 5)) (1.19.5)\n",
            "Requirement already satisfied: opencv-python>=4.1.2 in /usr/local/lib/python3.7/dist-packages (from -r yolov5/requirements.txt (line 6)) (4.1.2.30)\n",
            "Requirement already satisfied: Pillow>=7.1.2 in /usr/local/lib/python3.7/dist-packages (from -r yolov5/requirements.txt (line 7)) (7.1.2)\n",
            "Collecting PyYAML>=5.3.1\n",
            "  Downloading PyYAML-6.0-cp37-cp37m-manylinux_2_5_x86_64.manylinux1_x86_64.manylinux_2_12_x86_64.manylinux2010_x86_64.whl (596 kB)\n",
            "\u001b[K     |████████████████████████████████| 596 kB 4.2 MB/s \n",
            "\u001b[?25hRequirement already satisfied: requests>=2.23.0 in /usr/local/lib/python3.7/dist-packages (from -r yolov5/requirements.txt (line 9)) (2.23.0)\n",
            "Requirement already satisfied: scipy>=1.4.1 in /usr/local/lib/python3.7/dist-packages (from -r yolov5/requirements.txt (line 10)) (1.4.1)\n",
            "Requirement already satisfied: torch>=1.7.0 in /usr/local/lib/python3.7/dist-packages (from -r yolov5/requirements.txt (line 11)) (1.10.0+cu111)\n",
            "Requirement already satisfied: torchvision>=0.8.1 in /usr/local/lib/python3.7/dist-packages (from -r yolov5/requirements.txt (line 12)) (0.11.1+cu111)\n",
            "Requirement already satisfied: tqdm>=4.41.0 in /usr/local/lib/python3.7/dist-packages (from -r yolov5/requirements.txt (line 13)) (4.62.3)\n",
            "Requirement already satisfied: tensorboard>=2.4.1 in /usr/local/lib/python3.7/dist-packages (from -r yolov5/requirements.txt (line 16)) (2.7.0)\n",
            "Requirement already satisfied: pandas>=1.1.4 in /usr/local/lib/python3.7/dist-packages (from -r yolov5/requirements.txt (line 20)) (1.1.5)\n",
            "Requirement already satisfied: seaborn>=0.11.0 in /usr/local/lib/python3.7/dist-packages (from -r yolov5/requirements.txt (line 21)) (0.11.2)\n",
            "Collecting thop\n",
            "  Downloading thop-0.0.31.post2005241907-py3-none-any.whl (8.7 kB)\n",
            "Requirement already satisfied: pyparsing!=2.0.4,!=2.1.2,!=2.1.6,>=2.0.1 in /usr/local/lib/python3.7/dist-packages (from matplotlib>=3.2.2->-r yolov5/requirements.txt (line 4)) (3.0.6)\n",
            "Requirement already satisfied: kiwisolver>=1.0.1 in /usr/local/lib/python3.7/dist-packages (from matplotlib>=3.2.2->-r yolov5/requirements.txt (line 4)) (1.3.2)\n",
            "Requirement already satisfied: cycler>=0.10 in /usr/local/lib/python3.7/dist-packages (from matplotlib>=3.2.2->-r yolov5/requirements.txt (line 4)) (0.11.0)\n",
            "Requirement already satisfied: python-dateutil>=2.1 in /usr/local/lib/python3.7/dist-packages (from matplotlib>=3.2.2->-r yolov5/requirements.txt (line 4)) (2.8.2)\n",
            "Requirement already satisfied: chardet<4,>=3.0.2 in /usr/local/lib/python3.7/dist-packages (from requests>=2.23.0->-r yolov5/requirements.txt (line 9)) (3.0.4)\n",
            "Requirement already satisfied: certifi>=2017.4.17 in /usr/local/lib/python3.7/dist-packages (from requests>=2.23.0->-r yolov5/requirements.txt (line 9)) (2021.10.8)\n",
            "Requirement already satisfied: urllib3!=1.25.0,!=1.25.1,<1.26,>=1.21.1 in /usr/local/lib/python3.7/dist-packages (from requests>=2.23.0->-r yolov5/requirements.txt (line 9)) (1.24.3)\n",
            "Requirement already satisfied: idna<3,>=2.5 in /usr/local/lib/python3.7/dist-packages (from requests>=2.23.0->-r yolov5/requirements.txt (line 9)) (2.10)\n",
            "Requirement already satisfied: typing-extensions in /usr/local/lib/python3.7/dist-packages (from torch>=1.7.0->-r yolov5/requirements.txt (line 11)) (3.10.0.2)\n",
            "Requirement already satisfied: google-auth<3,>=1.6.3 in /usr/local/lib/python3.7/dist-packages (from tensorboard>=2.4.1->-r yolov5/requirements.txt (line 16)) (1.35.0)\n",
            "Requirement already satisfied: wheel>=0.26 in /usr/local/lib/python3.7/dist-packages (from tensorboard>=2.4.1->-r yolov5/requirements.txt (line 16)) (0.37.0)\n",
            "Requirement already satisfied: setuptools>=41.0.0 in /usr/local/lib/python3.7/dist-packages (from tensorboard>=2.4.1->-r yolov5/requirements.txt (line 16)) (57.4.0)\n",
            "Requirement already satisfied: markdown>=2.6.8 in /usr/local/lib/python3.7/dist-packages (from tensorboard>=2.4.1->-r yolov5/requirements.txt (line 16)) (3.3.6)\n",
            "Requirement already satisfied: tensorboard-plugin-wit>=1.6.0 in /usr/local/lib/python3.7/dist-packages (from tensorboard>=2.4.1->-r yolov5/requirements.txt (line 16)) (1.8.0)\n",
            "Requirement already satisfied: grpcio>=1.24.3 in /usr/local/lib/python3.7/dist-packages (from tensorboard>=2.4.1->-r yolov5/requirements.txt (line 16)) (1.42.0)\n",
            "Requirement already satisfied: protobuf>=3.6.0 in /usr/local/lib/python3.7/dist-packages (from tensorboard>=2.4.1->-r yolov5/requirements.txt (line 16)) (3.17.3)\n",
            "Requirement already satisfied: absl-py>=0.4 in /usr/local/lib/python3.7/dist-packages (from tensorboard>=2.4.1->-r yolov5/requirements.txt (line 16)) (0.12.0)\n",
            "Requirement already satisfied: werkzeug>=0.11.15 in /usr/local/lib/python3.7/dist-packages (from tensorboard>=2.4.1->-r yolov5/requirements.txt (line 16)) (1.0.1)\n",
            "Requirement already satisfied: tensorboard-data-server<0.7.0,>=0.6.0 in /usr/local/lib/python3.7/dist-packages (from tensorboard>=2.4.1->-r yolov5/requirements.txt (line 16)) (0.6.1)\n",
            "Requirement already satisfied: google-auth-oauthlib<0.5,>=0.4.1 in /usr/local/lib/python3.7/dist-packages (from tensorboard>=2.4.1->-r yolov5/requirements.txt (line 16)) (0.4.6)\n",
            "Requirement already satisfied: pytz>=2017.2 in /usr/local/lib/python3.7/dist-packages (from pandas>=1.1.4->-r yolov5/requirements.txt (line 20)) (2018.9)\n",
            "Requirement already satisfied: six in /usr/local/lib/python3.7/dist-packages (from absl-py>=0.4->tensorboard>=2.4.1->-r yolov5/requirements.txt (line 16)) (1.15.0)\n",
            "Requirement already satisfied: cachetools<5.0,>=2.0.0 in /usr/local/lib/python3.7/dist-packages (from google-auth<3,>=1.6.3->tensorboard>=2.4.1->-r yolov5/requirements.txt (line 16)) (4.2.4)\n",
            "Requirement already satisfied: rsa<5,>=3.1.4 in /usr/local/lib/python3.7/dist-packages (from google-auth<3,>=1.6.3->tensorboard>=2.4.1->-r yolov5/requirements.txt (line 16)) (4.8)\n",
            "Requirement already satisfied: pyasn1-modules>=0.2.1 in /usr/local/lib/python3.7/dist-packages (from google-auth<3,>=1.6.3->tensorboard>=2.4.1->-r yolov5/requirements.txt (line 16)) (0.2.8)\n",
            "Requirement already satisfied: requests-oauthlib>=0.7.0 in /usr/local/lib/python3.7/dist-packages (from google-auth-oauthlib<0.5,>=0.4.1->tensorboard>=2.4.1->-r yolov5/requirements.txt (line 16)) (1.3.0)\n",
            "Requirement already satisfied: importlib-metadata>=4.4 in /usr/local/lib/python3.7/dist-packages (from markdown>=2.6.8->tensorboard>=2.4.1->-r yolov5/requirements.txt (line 16)) (4.8.2)\n",
            "Requirement already satisfied: zipp>=0.5 in /usr/local/lib/python3.7/dist-packages (from importlib-metadata>=4.4->markdown>=2.6.8->tensorboard>=2.4.1->-r yolov5/requirements.txt (line 16)) (3.6.0)\n",
            "Requirement already satisfied: pyasn1<0.5.0,>=0.4.6 in /usr/local/lib/python3.7/dist-packages (from pyasn1-modules>=0.2.1->google-auth<3,>=1.6.3->tensorboard>=2.4.1->-r yolov5/requirements.txt (line 16)) (0.4.8)\n",
            "Requirement already satisfied: oauthlib>=3.0.0 in /usr/local/lib/python3.7/dist-packages (from requests-oauthlib>=0.7.0->google-auth-oauthlib<0.5,>=0.4.1->tensorboard>=2.4.1->-r yolov5/requirements.txt (line 16)) (3.1.1)\n",
            "Installing collected packages: thop, PyYAML\n",
            "  Attempting uninstall: PyYAML\n",
            "    Found existing installation: PyYAML 3.13\n",
            "    Uninstalling PyYAML-3.13:\n",
            "      Successfully uninstalled PyYAML-3.13\n",
            "Successfully installed PyYAML-6.0 thop-0.0.31.post2005241907\n",
            "/content/yolov5\n"
          ]
        }
      ]
    },
    {
      "cell_type": "markdown",
      "source": [
        "## 3. Import neccessary libraries:"
      ],
      "metadata": {
        "id": "j6hYAbuVLm9Q"
      }
    },
    {
      "cell_type": "code",
      "source": [
        "import torch\n",
        "import os\n",
        "import shutil\n",
        "import numpy as np\n",
        "from IPython.display import Image, clear_output\n",
        "\n",
        "clear_output()\n",
        "print('Setup complete')"
      ],
      "metadata": {
        "id": "dfUw1zoj5FE-",
        "colab": {
          "base_uri": "https://localhost:8080/"
        },
        "outputId": "39b0ecef-0428-40e4-8575-cf0d4931ac3b"
      },
      "execution_count": null,
      "outputs": [
        {
          "output_type": "stream",
          "name": "stdout",
          "text": [
            "Setup complete\n"
          ]
        }
      ]
    },
    {
      "cell_type": "markdown",
      "source": [
        "> If you have clone the repo twice, you can't delete folder directly. Insteads, use this code to delete the folder.\n",
        "\n",
        "> ⚠️ Note: Use this code wisely."
      ],
      "metadata": {
        "id": "3lfH0PSeLuMM"
      }
    },
    {
      "cell_type": "code",
      "source": [
        "import shutil\n",
        "\n",
        "# shutil.rmtree('/content/yolov5/yolov5')"
      ],
      "metadata": {
        "id": "HhhdPImt1LFc"
      },
      "execution_count": null,
      "outputs": []
    },
    {
      "cell_type": "markdown",
      "source": [
        "## 4. Mount your drive for uploaded data:"
      ],
      "metadata": {
        "id": "5qmKO7PSLuOB"
      }
    },
    {
      "cell_type": "code",
      "source": [
        "from google.colab import drive\n",
        "drive.mount('/content/drive')\n"
      ],
      "metadata": {
        "id": "nXKUDqA1XbJB",
        "colab": {
          "base_uri": "https://localhost:8080/"
        },
        "outputId": "7eb96047-c15b-4b59-edc4-cd49f123d250"
      },
      "execution_count": null,
      "outputs": [
        {
          "output_type": "stream",
          "name": "stdout",
          "text": [
            "Mounted at /content/drive\n"
          ]
        }
      ]
    },
    {
      "cell_type": "markdown",
      "source": [
        "## 5. Create neccessary folders for YOLOv5:"
      ],
      "metadata": {
        "id": "lqCGsJ60MPRi"
      }
    },
    {
      "cell_type": "code",
      "source": [
        "root_dir = '/content/drive/MyDrive/hand_gestures/'\n",
        "os.makedirs(root_dir + 'train')\n",
        "os.makedirs(root_dir + 'train/images')\n",
        "os.makedirs(root_dir + 'train/labels')\n",
        "\n",
        "os.makedirs(root_dir + 'valid')\n",
        "os.makedirs(root_dir + 'valid/images')\n",
        "os.makedirs(root_dir + 'valid/labels')"
      ],
      "metadata": {
        "id": "pFOs7aD6y0TJ"
      },
      "execution_count": null,
      "outputs": []
    },
    {
      "cell_type": "markdown",
      "source": [
        "## 6. List all images in the uploaded folder:\n",
        "\n",
        "The dataset have redundants .txt files, so we only want image files. Because the images dataset contains UPPERCASE extension .JPG, so we have to replace both .JPG and .jpg. "
      ],
      "metadata": {
        "id": "RODpNc43Mgqn"
      }
    },
    {
      "cell_type": "code",
      "source": [
        "root_dir = '/content/drive/MyDrive/hand_gestures/'\n",
        "all_images = os.listdir(root_dir + 'data')\n",
        "\n",
        "all_images = [img.replace('.JPG', '').replace('.jpg', '') for img in all_images if '.txt' not in img]\n",
        "print(all_images)"
      ],
      "metadata": {
        "id": "e80JT9hf3U55",
        "colab": {
          "base_uri": "https://localhost:8080/"
        },
        "outputId": "457d7078-b395-414f-a822-92422f2c484c"
      },
      "execution_count": null,
      "outputs": [
        {
          "output_type": "stream",
          "name": "stdout",
          "text": [
            "['112', '211', '233', '217', '140', '226', '220', '138', '243', '123', '120', '137', '218', '128', '122', '100', '214', '203', '204', '121', '111', '225', '110', '115', '126', '134', '231', '124', '237', '209', '242', '239', '235', '107', '113', '136', '208', '119', '234', '118', '114', '135', '102', '132', '232', '101', '127', '206', '219', '230', '227', '200', '108', '131', '213', '117', '103', '130', '222', '212', '224', '229', '129', '240', '221', '141', '139', '215', '133', '207', '216', '241', '238', '106', '236', '205', '116', '223', '228', '105', '109', '125', '104', '202', '417', '429', '403', '348', '325', '415', '334', '336', '332', '304', '438', '323', '524', '400', '505', '331', '422', '307', '407', '534', '525', '309', '441', '322', '437', '419', '346', '405', '500', '324', '513', '412', '536', '320', '537', '302', '436', '442', '445', '501', '404', '535', '421', '518', '424', '315', '314', '317', '502', '533', '306', '514', '512', '504', '305', '528', '311', '532', '440', '330', '511', '503', '328', '430', '521', '303', '423', '527', '310', '520', '530', '301', '319', '337', '414', '529', '522', '316', '427', '426', '434', '510', '531', '432', '416', '335', '300', '420', '433', '431', '526', '313', '338', '509', '413', '515', '516', '308', '327', '409', '339', '444', '401', '312', '517', '425', '506', '519', '326', '439', '508', '428', '318', '329', '345', '443', '418', '523', '406', '411', '408', '333', '538', '321', '402', '541', '540', '542', '539', '543']\n"
          ]
        }
      ]
    },
    {
      "cell_type": "markdown",
      "source": [
        "## 7. Randomly select data for train set and test set:"
      ],
      "metadata": {
        "id": "TtLaP10kNDRV"
      }
    },
    {
      "cell_type": "code",
      "source": [
        "np.random.shuffle(all_images)\n",
        "\n",
        "portions = 0.8\n",
        "num_train = round(len(all_images) * portions)\n",
        "num_valid = len(all_images) - num_train\n",
        "print(f'Number of train set: {num_train}, valid set: {num_valid}')\n",
        "\n",
        "train_set = all_images[:num_train]\n",
        "valid_set = all_images[num_train:]\n",
        "print(train_set)\n",
        "print(valid_set)\n"
      ],
      "metadata": {
        "id": "i6xGUcEC48eF",
        "colab": {
          "base_uri": "https://localhost:8080/"
        },
        "outputId": "5e62ca2e-d10a-4da3-c425-83fa65fbcee4"
      },
      "execution_count": null,
      "outputs": [
        {
          "output_type": "stream",
          "name": "stdout",
          "text": [
            "Number of train set: 171, valid set: 43\n",
            "['131', '237', '116', '521', '220', '118', '346', '202', '531', '440', '532', '135', '231', '319', '423', '534', '337', '503', '106', '302', '326', '308', '442', '125', '108', '524', '309', '311', '306', '331', '127', '316', '522', '313', '527', '416', '211', '516', '216', '519', '330', '536', '530', '539', '225', '203', '214', '428', '228', '315', '541', '338', '238', '312', '217', '422', '114', '529', '213', '317', '103', '100', '111', '327', '303', '325', '132', '226', '518', '323', '418', '241', '339', '345', '415', '304', '336', '514', '307', '101', '500', '321', '332', '218', '123', '538', '406', '222', '322', '542', '335', '200', '204', '417', '109', '117', '421', '115', '236', '310', '208', '227', '314', '234', '138', '136', '437', '128', '348', '320', '334', '301', '300', '209', '110', '439', '329', '438', '444', '427', '305', '520', '434', '240', '229', '124', '543', '412', '318', '140', '224', '537', '107', '445', '206', '501', '219', '411', '242', '121', '443', '404', '137', '512', '105', '510', '407', '511', '221', '433', '212', '513', '134', '426', '120', '207', '525', '526', '112', '333', '508', '517', '408', '133', '502', '235', '119', '403', '515', '425', '130']\n",
            "['239', '324', '430', '523', '126', '223', '431', '528', '129', '505', '113', '413', '405', '420', '215', '429', '441', '232', '104', '432', '506', '409', '141', '328', '419', '230', '504', '233', '424', '540', '414', '401', '535', '509', '400', '243', '436', '122', '533', '102', '402', '139', '205']\n"
          ]
        }
      ]
    },
    {
      "cell_type": "markdown",
      "source": [
        "## 8. Move image and label files to appropriate folder:"
      ],
      "metadata": {
        "id": "Gaff4HUuNMTP"
      }
    },
    {
      "cell_type": "code",
      "source": [
        "data_dir = root_dir + 'data/'\n",
        "for img_name in train_set:\n",
        "  # Labels dir\n",
        "  shutil.copy(data_dir + img_name + '.txt', root_dir + 'train/labels/' + img_name + '.txt')\n",
        "  # Image dir\n",
        "  img_dir = data_dir + img_name + '.jpg'\n",
        "  if os.path.exists(img_dir):\n",
        "    shutil.copy(img_dir, root_dir + 'train/images/' + img_name + '.jpg')\n",
        "  else:\n",
        "    # Because img got UPPERCASE extensions, which is .JPG. When we move, we also rename the extension\n",
        "    shutil.copy(data_dir + img_name + '.JPG', root_dir + 'train/images/' + img_name + '.jpg')\n",
        "\n",
        "\n",
        "for img_name in valid_set:\n",
        "  # Labels dir\n",
        "  shutil.copy(data_dir + img_name + '.txt', root_dir + 'valid/labels/' + img_name + '.txt')\n",
        "  # Image dir\n",
        "  img_dir = data_dir + img_name + '.jpg'\n",
        "  if os.path.exists(img_dir):\n",
        "    shutil.copy(img_dir, root_dir + 'valid/images/' + img_name + '.jpg')\n",
        "  else:\n",
        "    # Because img got UPPERCASE extensions, which is .JPG. When we move, we also rename the extension\n",
        "    shutil.copy(data_dir + img_name + '.JPG', root_dir + 'valid/images/' + img_name + '.jpg')"
      ],
      "metadata": {
        "id": "9rqIaApF6URT"
      },
      "execution_count": null,
      "outputs": []
    },
    {
      "cell_type": "markdown",
      "source": [
        "## 9. Create a data.yaml file:"
      ],
      "metadata": {
        "id": "NmYmPD8jNS5i"
      }
    },
    {
      "cell_type": "code",
      "source": [
        "num_classes = 5\n",
        "data_dir = root_dir + 'data.yaml'\n",
        "with open(data_dir, \"w\") as dataFile:\n",
        "  dataFile.write(f\"train: {root_dir + 'train'}\\n\")\n",
        "  dataFile.write(f\"val: {root_dir + 'valid'}\\n\")\n",
        "  dataFile.write(f\"nc: {num_classes}\\n\")\n",
        "  dataFile.write(f\"names: ['one', 'two', 'three', 'four', 'five']\\n\")"
      ],
      "metadata": {
        "id": "OejrghDQ_YwN"
      },
      "execution_count": null,
      "outputs": []
    },
    {
      "cell_type": "code",
      "source": [
        "%cat /content/drive/MyDrive/hand_gestures/data.yaml"
      ],
      "metadata": {
        "id": "J_iirsv4IY1m",
        "colab": {
          "base_uri": "https://localhost:8080/"
        },
        "outputId": "ff28fb42-8aec-4fe8-c7bf-dedac630cc25"
      },
      "execution_count": null,
      "outputs": [
        {
          "output_type": "stream",
          "name": "stdout",
          "text": [
            "train: /content/drive/MyDrive/hand_gestures/train\n",
            "val: /content/drive/MyDrive/hand_gestures/valid\n",
            "nc: 5\n",
            "names: ['one', 'two', 'three', 'four', 'five']\n"
          ]
        }
      ]
    },
    {
      "cell_type": "markdown",
      "source": [
        "## 10. Create a config file:"
      ],
      "metadata": {
        "id": "cAMZw5DUNaSR"
      }
    },
    {
      "cell_type": "code",
      "source": [
        "config_dir = root_dir + 'custom_config.yaml'\n",
        "with open(config_dir, \"w\") as dataFile:\n",
        "  dataFile.write(f\"\"\"\n",
        "# YOLOv5 🚀 by Ultralytics, GPL-3.0 license\n",
        "\n",
        "# Parameters\n",
        "nc: {num_classes}  # number of classes\n",
        "depth_multiple: 0.33  # model depth multiple\n",
        "width_multiple: 0.50  # layer channel multiple\n",
        "anchors:\n",
        "  - [10,13, 16,30, 33,23]  # P3/8\n",
        "  - [30,61, 62,45, 59,119]  # P4/16\n",
        "  - [116,90, 156,198, 373,326]  # P5/32\n",
        "\n",
        "# YOLOv5 v6.0 backbone\n",
        "backbone:\n",
        "  # [from, number, module, args]\n",
        "  [[-1, 1, Conv, [64, 6, 2, 2]],  # 0-P1/2\n",
        "   [-1, 1, Conv, [128, 3, 2]],  # 1-P2/4\n",
        "   [-1, 3, C3, [128]],\n",
        "   [-1, 1, Conv, [256, 3, 2]],  # 3-P3/8\n",
        "   [-1, 6, C3, [256]],\n",
        "   [-1, 1, Conv, [512, 3, 2]],  # 5-P4/16\n",
        "   [-1, 9, C3, [512]],\n",
        "   [-1, 1, Conv, [1024, 3, 2]],  # 7-P5/32\n",
        "   [-1, 3, C3, [1024]],\n",
        "   [-1, 1, SPPF, [1024, 5]],  # 9\n",
        "  ]\n",
        "\n",
        "# YOLOv5 v6.0 head\n",
        "head:\n",
        "  [[-1, 1, Conv, [512, 1, 1]],\n",
        "   [-1, 1, nn.Upsample, [None, 2, 'nearest']],\n",
        "   [[-1, 6], 1, Concat, [1]],  # cat backbone P4\n",
        "   [-1, 3, C3, [512, False]],  # 13\n",
        "\n",
        "   [-1, 1, Conv, [256, 1, 1]],\n",
        "   [-1, 1, nn.Upsample, [None, 2, 'nearest']],\n",
        "   [[-1, 4], 1, Concat, [1]],  # cat backbone P3\n",
        "   [-1, 3, C3, [256, False]],  # 17 (P3/8-small)\n",
        "\n",
        "   [-1, 1, Conv, [256, 3, 2]],\n",
        "   [[-1, 14], 1, Concat, [1]],  # cat head P4\n",
        "   [-1, 3, C3, [512, False]],  # 20 (P4/16-medium)\n",
        "\n",
        "   [-1, 1, Conv, [512, 3, 2]],\n",
        "   [[-1, 10], 1, Concat, [1]],  # cat head P5\n",
        "   [-1, 3, C3, [1024, False]],  # 23 (P5/32-large)\n",
        "\n",
        "   [[17, 20, 23], 1, Detect, [nc, anchors]],  # Detect(P3, P4, P5)\n",
        "  ]\n",
        "\n",
        "\"\"\")"
      ],
      "metadata": {
        "id": "T9XVTQAfJl28"
      },
      "execution_count": null,
      "outputs": []
    },
    {
      "cell_type": "code",
      "source": [
        "%cat /content/drive/MyDrive/hand_gestures/custom_config.yaml"
      ],
      "metadata": {
        "id": "_WqQ-wIrOJH9",
        "colab": {
          "base_uri": "https://localhost:8080/"
        },
        "outputId": "5ad7e698-d134-4394-f5ea-3acc74e43b80"
      },
      "execution_count": null,
      "outputs": [
        {
          "output_type": "stream",
          "name": "stdout",
          "text": [
            "\n",
            "# YOLOv5 🚀 by Ultralytics, GPL-3.0 license\n",
            "\n",
            "# Parameters\n",
            "nc: 5  # number of classes\n",
            "depth_multiple: 0.33  # model depth multiple\n",
            "width_multiple: 0.50  # layer channel multiple\n",
            "anchors:\n",
            "  - [10,13, 16,30, 33,23]  # P3/8\n",
            "  - [30,61, 62,45, 59,119]  # P4/16\n",
            "  - [116,90, 156,198, 373,326]  # P5/32\n",
            "\n",
            "# YOLOv5 v6.0 backbone\n",
            "backbone:\n",
            "  # [from, number, module, args]\n",
            "  [[-1, 1, Conv, [64, 6, 2, 2]],  # 0-P1/2\n",
            "   [-1, 1, Conv, [128, 3, 2]],  # 1-P2/4\n",
            "   [-1, 3, C3, [128]],\n",
            "   [-1, 1, Conv, [256, 3, 2]],  # 3-P3/8\n",
            "   [-1, 6, C3, [256]],\n",
            "   [-1, 1, Conv, [512, 3, 2]],  # 5-P4/16\n",
            "   [-1, 9, C3, [512]],\n",
            "   [-1, 1, Conv, [1024, 3, 2]],  # 7-P5/32\n",
            "   [-1, 3, C3, [1024]],\n",
            "   [-1, 1, SPPF, [1024, 5]],  # 9\n",
            "  ]\n",
            "\n",
            "# YOLOv5 v6.0 head\n",
            "head:\n",
            "  [[-1, 1, Conv, [512, 1, 1]],\n",
            "   [-1, 1, nn.Upsample, [None, 2, 'nearest']],\n",
            "   [[-1, 6], 1, Concat, [1]],  # cat backbone P4\n",
            "   [-1, 3, C3, [512, False]],  # 13\n",
            "\n",
            "   [-1, 1, Conv, [256, 1, 1]],\n",
            "   [-1, 1, nn.Upsample, [None, 2, 'nearest']],\n",
            "   [[-1, 4], 1, Concat, [1]],  # cat backbone P3\n",
            "   [-1, 3, C3, [256, False]],  # 17 (P3/8-small)\n",
            "\n",
            "   [-1, 1, Conv, [256, 3, 2]],\n",
            "   [[-1, 14], 1, Concat, [1]],  # cat head P4\n",
            "   [-1, 3, C3, [512, False]],  # 20 (P4/16-medium)\n",
            "\n",
            "   [-1, 1, Conv, [512, 3, 2]],\n",
            "   [[-1, 10], 1, Concat, [1]],  # cat head P5\n",
            "   [-1, 3, C3, [1024, False]],  # 23 (P5/32-large)\n",
            "\n",
            "   [[17, 20, 23], 1, Detect, [nc, anchors]],  # Detect(P3, P4, P5)\n",
            "  ]\n",
            "\n"
          ]
        }
      ]
    },
    {
      "cell_type": "markdown",
      "source": [
        "## 11. Train dataset using YOLOv5:"
      ],
      "metadata": {
        "id": "nk-DqL9XNhFd"
      }
    },
    {
      "cell_type": "markdown",
      "source": [
        "> Since we don't train model with pre-trained model, the training process is very slow."
      ],
      "metadata": {
        "id": "AnZka7m1e_Ee"
      }
    },
    {
      "cell_type": "code",
      "source": [
        "%%time\n",
        "%cd /content/yolov5/\n",
        "\n",
        "!python train.py --img 416 --batch 32 --epochs 100 --data /content/drive/MyDrive/hand_gestures/data.yaml \\\n",
        "  --cfg /content/drive/MyDrive/hand_gestures/custom_config.yaml --weights '' --name hand_gestures --cache"
      ],
      "metadata": {
        "id": "6k5rcUXoY4iG",
        "colab": {
          "base_uri": "https://localhost:8080/"
        },
        "outputId": "09dcc800-482f-46ff-b32b-55f57ad4de39"
      },
      "execution_count": null,
      "outputs": [
        {
          "output_type": "stream",
          "name": "stdout",
          "text": [
            "/content/yolov5\n",
            "\u001b[34m\u001b[1mtrain: \u001b[0mweights=, cfg=/content/drive/MyDrive/hand_gestures/custom_config.yaml, data=/content/drive/MyDrive/hand_gestures/data.yaml, hyp=data/hyps/hyp.scratch.yaml, epochs=100, batch_size=32, imgsz=416, rect=False, resume=False, nosave=False, noval=False, noautoanchor=False, evolve=None, bucket=, cache=ram, image_weights=False, device=, multi_scale=False, single_cls=False, adam=False, sync_bn=False, workers=8, project=runs/train, name=hand_gestures, exist_ok=False, quad=False, linear_lr=False, label_smoothing=0.0, patience=100, freeze=[0], save_period=-1, local_rank=-1, entity=None, upload_dataset=False, bbox_interval=-1, artifact_alias=latest\n",
            "\u001b[34m\u001b[1mgithub: \u001b[0mup to date with https://github.com/ultralytics/yolov5 ✅\n",
            "YOLOv5 🚀 v6.0-163-gd95978a torch 1.10.0+cu111 CUDA:0 (Tesla K80, 11441MiB)\n",
            "\n",
            "\u001b[34m\u001b[1mhyperparameters: \u001b[0mlr0=0.01, lrf=0.1, momentum=0.937, weight_decay=0.0005, warmup_epochs=3.0, warmup_momentum=0.8, warmup_bias_lr=0.1, box=0.05, cls=0.5, cls_pw=1.0, obj=1.0, obj_pw=1.0, iou_t=0.2, anchor_t=4.0, fl_gamma=0.0, hsv_h=0.015, hsv_s=0.7, hsv_v=0.4, degrees=0.0, translate=0.1, scale=0.5, shear=0.0, perspective=0.0, flipud=0.0, fliplr=0.5, mosaic=1.0, mixup=0.0, copy_paste=0.0\n",
            "\u001b[34m\u001b[1mWeights & Biases: \u001b[0mrun 'pip install wandb' to automatically track and visualize YOLOv5 🚀 runs (RECOMMENDED)\n",
            "\u001b[34m\u001b[1mTensorBoard: \u001b[0mStart with 'tensorboard --logdir runs/train', view at http://localhost:6006/\n",
            "\n",
            "                 from  n    params  module                                  arguments                     \n",
            "  0                -1  1      3520  models.common.Conv                      [3, 32, 6, 2, 2]              \n",
            "  1                -1  1     18560  models.common.Conv                      [32, 64, 3, 2]                \n",
            "  2                -1  1     18816  models.common.C3                        [64, 64, 1]                   \n",
            "  3                -1  1     73984  models.common.Conv                      [64, 128, 3, 2]               \n",
            "  4                -1  2    115712  models.common.C3                        [128, 128, 2]                 \n",
            "  5                -1  1    295424  models.common.Conv                      [128, 256, 3, 2]              \n",
            "  6                -1  3    625152  models.common.C3                        [256, 256, 3]                 \n",
            "  7                -1  1   1180672  models.common.Conv                      [256, 512, 3, 2]              \n",
            "  8                -1  1   1182720  models.common.C3                        [512, 512, 1]                 \n",
            "  9                -1  1    656896  models.common.SPPF                      [512, 512, 5]                 \n",
            " 10                -1  1    131584  models.common.Conv                      [512, 256, 1, 1]              \n",
            " 11                -1  1         0  torch.nn.modules.upsampling.Upsample    [None, 2, 'nearest']          \n",
            " 12           [-1, 6]  1         0  models.common.Concat                    [1]                           \n",
            " 13                -1  1    361984  models.common.C3                        [512, 256, 1, False]          \n",
            " 14                -1  1     33024  models.common.Conv                      [256, 128, 1, 1]              \n",
            " 15                -1  1         0  torch.nn.modules.upsampling.Upsample    [None, 2, 'nearest']          \n",
            " 16           [-1, 4]  1         0  models.common.Concat                    [1]                           \n",
            " 17                -1  1     90880  models.common.C3                        [256, 128, 1, False]          \n",
            " 18                -1  1    147712  models.common.Conv                      [128, 128, 3, 2]              \n",
            " 19          [-1, 14]  1         0  models.common.Concat                    [1]                           \n",
            " 20                -1  1    296448  models.common.C3                        [256, 256, 1, False]          \n",
            " 21                -1  1    590336  models.common.Conv                      [256, 256, 3, 2]              \n",
            " 22          [-1, 10]  1         0  models.common.Concat                    [1]                           \n",
            " 23                -1  1   1182720  models.common.C3                        [512, 512, 1, False]          \n",
            " 24      [17, 20, 23]  1     26970  models.yolo.Detect                      [5, [[10, 13, 16, 30, 33, 23], [30, 61, 62, 45, 59, 119], [116, 90, 156, 198, 373, 326]], [128, 256, 512]]\n",
            "Model Summary: 270 layers, 7033114 parameters, 7033114 gradients, 15.9 GFLOPs\n",
            "\n",
            "Scaled weight_decay = 0.0005\n",
            "\u001b[34m\u001b[1moptimizer:\u001b[0m SGD with parameter groups 57 weight, 60 weight (no decay), 60 bias\n",
            "\u001b[34m\u001b[1malbumentations: \u001b[0mversion 1.0.3 required by YOLOv5, but version 0.1.12 is currently installed\n",
            "\u001b[34m\u001b[1mtrain: \u001b[0mScanning '/content/drive/MyDrive/hand_gestures/train/labels.cache' images and labels... 171 found, 0 missing, 0 empty, 0 corrupted: 100% 171/171 [00:00<?, ?it/s]\n",
            "\u001b[34m\u001b[1mtrain: \u001b[0mCaching images (0.1GB ram): 100% 171/171 [00:04<00:00, 40.51it/s]\n",
            "\u001b[34m\u001b[1mval: \u001b[0mScanning '/content/drive/MyDrive/hand_gestures/valid/labels.cache' images and labels... 43 found, 0 missing, 0 empty, 0 corrupted: 100% 43/43 [00:00<?, ?it/s]\n",
            "\u001b[34m\u001b[1mval: \u001b[0mCaching images (0.0GB ram): 100% 43/43 [00:01<00:00, 24.26it/s]\n",
            "Plotting labels to runs/train/hand_gestures6/labels.jpg... \n",
            "\n",
            "\u001b[34m\u001b[1mAutoAnchor: \u001b[0m3.63 anchors/target, 1.000 Best Possible Recall (BPR). Current anchors are a good fit to dataset ✅\n",
            "Image sizes 416 train, 416 val\n",
            "Using 2 dataloader workers\n",
            "Logging results to \u001b[1mruns/train/hand_gestures6\u001b[0m\n",
            "Starting training for 100 epochs...\n",
            "\n",
            "     Epoch   gpu_mem       box       obj       cls    labels  img_size\n",
            "      0/99     2.79G    0.1108   0.02162   0.04924        29       416: 100% 6/6 [00:07<00:00,  1.26s/it]\n",
            "               Class     Images     Labels          P          R     mAP@.5 mAP@.5:.95: 100% 1/1 [00:00<00:00,  1.90it/s]\n",
            "                 all         43         43      0.005          1    0.00803    0.00137\n",
            "\n",
            "     Epoch   gpu_mem       box       obj       cls    labels  img_size\n",
            "      1/99     3.03G     0.103   0.02511   0.05057        35       416: 100% 6/6 [00:05<00:00,  1.08it/s]\n",
            "               Class     Images     Labels          P          R     mAP@.5 mAP@.5:.95: 100% 1/1 [00:00<00:00,  1.97it/s]\n",
            "                 all         43         43   0.000391        0.4   0.000902   0.000173\n",
            "\n",
            "     Epoch   gpu_mem       box       obj       cls    labels  img_size\n",
            "      2/99     3.03G   0.08665   0.02536   0.04663        25       416: 100% 6/6 [00:05<00:00,  1.09it/s]\n",
            "               Class     Images     Labels          P          R     mAP@.5 mAP@.5:.95: 100% 1/1 [00:00<00:00,  1.99it/s]\n",
            "                 all         43         43    0.00145      0.613     0.0016   0.000163\n",
            "\n",
            "     Epoch   gpu_mem       box       obj       cls    labels  img_size\n",
            "      3/99     3.03G   0.07801   0.02678   0.04913        32       416: 100% 6/6 [00:05<00:00,  1.07it/s]\n",
            "               Class     Images     Labels          P          R     mAP@.5 mAP@.5:.95: 100% 1/1 [00:00<00:00,  1.94it/s]\n",
            "                 all         43         43    0.00169      0.613    0.00274   0.000292\n",
            "\n",
            "     Epoch   gpu_mem       box       obj       cls    labels  img_size\n",
            "      4/99     3.03G   0.07767   0.02592   0.04908        23       416: 100% 6/6 [00:05<00:00,  1.08it/s]\n",
            "               Class     Images     Labels          P          R     mAP@.5 mAP@.5:.95: 100% 1/1 [00:00<00:00,  1.90it/s]\n",
            "                 all         43         43    0.00101      0.572    0.00112   0.000141\n",
            "\n",
            "     Epoch   gpu_mem       box       obj       cls    labels  img_size\n",
            "      5/99     3.03G   0.07506   0.02884   0.04966        30       416: 100% 6/6 [00:05<00:00,  1.08it/s]\n",
            "               Class     Images     Labels          P          R     mAP@.5 mAP@.5:.95: 100% 1/1 [00:00<00:00,  1.99it/s]\n",
            "                 all         43         43    0.00106      0.472    0.00124   0.000211\n",
            "\n",
            "     Epoch   gpu_mem       box       obj       cls    labels  img_size\n",
            "      6/99     3.03G   0.07157   0.02701   0.04657        26       416: 100% 6/6 [00:05<00:00,  1.05it/s]\n",
            "               Class     Images     Labels          P          R     mAP@.5 mAP@.5:.95: 100% 1/1 [00:00<00:00,  1.99it/s]\n",
            "                 all         43         43   0.000977      0.447     0.0012   0.000186\n",
            "\n",
            "     Epoch   gpu_mem       box       obj       cls    labels  img_size\n",
            "      7/99     3.03G   0.07402   0.02739   0.04796        24       416: 100% 6/6 [00:05<00:00,  1.08it/s]\n",
            "               Class     Images     Labels          P          R     mAP@.5 mAP@.5:.95: 100% 1/1 [00:00<00:00,  1.96it/s]\n",
            "                 all         43         43   0.000803      0.397   0.000889   0.000145\n",
            "\n",
            "     Epoch   gpu_mem       box       obj       cls    labels  img_size\n",
            "      8/99     3.03G   0.07529   0.02999   0.04774        34       416: 100% 6/6 [00:05<00:00,  1.07it/s]\n",
            "               Class     Images     Labels          P          R     mAP@.5 mAP@.5:.95: 100% 1/1 [00:00<00:00,  1.98it/s]\n",
            "                 all         43         43    0.00048      0.275   0.000574   0.000115\n",
            "\n",
            "     Epoch   gpu_mem       box       obj       cls    labels  img_size\n",
            "      9/99     3.03G   0.07519   0.02644   0.04802        29       416: 100% 6/6 [00:05<00:00,  1.07it/s]\n",
            "               Class     Images     Labels          P          R     mAP@.5 mAP@.5:.95: 100% 1/1 [00:00<00:00,  2.00it/s]\n",
            "                 all         43         43   0.000498      0.272   0.000633   7.52e-05\n",
            "\n",
            "     Epoch   gpu_mem       box       obj       cls    labels  img_size\n",
            "     10/99     3.03G   0.07371    0.0268    0.0482        23       416: 100% 6/6 [00:05<00:00,  1.08it/s]\n",
            "               Class     Images     Labels          P          R     mAP@.5 mAP@.5:.95: 100% 1/1 [00:00<00:00,  1.97it/s]\n",
            "                 all         43         43   0.000848      0.422    0.00101   0.000122\n",
            "\n",
            "     Epoch   gpu_mem       box       obj       cls    labels  img_size\n",
            "     11/99     3.03G   0.06898   0.02817   0.04789        32       416: 100% 6/6 [00:05<00:00,  1.08it/s]\n",
            "               Class     Images     Labels          P          R     mAP@.5 mAP@.5:.95: 100% 1/1 [00:00<00:00,  1.94it/s]\n",
            "                 all         43         43   0.000725      0.375   0.000925   0.000117\n",
            "\n",
            "     Epoch   gpu_mem       box       obj       cls    labels  img_size\n",
            "     12/99     3.03G   0.07439   0.02867   0.04738        30       416: 100% 6/6 [00:05<00:00,  1.07it/s]\n",
            "               Class     Images     Labels          P          R     mAP@.5 mAP@.5:.95: 100% 1/1 [00:00<00:00,  1.90it/s]\n",
            "                 all         43         43   0.000644      0.322   0.000704   8.48e-05\n",
            "\n",
            "     Epoch   gpu_mem       box       obj       cls    labels  img_size\n",
            "     13/99     3.03G    0.0751   0.02693   0.04704        33       416: 100% 6/6 [00:05<00:00,  1.07it/s]\n",
            "               Class     Images     Labels          P          R     mAP@.5 mAP@.5:.95: 100% 1/1 [00:00<00:00,  1.92it/s]\n",
            "                 all         43         43   0.000844        0.4    0.00128   0.000159\n",
            "\n",
            "     Epoch   gpu_mem       box       obj       cls    labels  img_size\n",
            "     14/99     3.03G   0.07102   0.02673   0.04528        26       416: 100% 6/6 [00:05<00:00,  1.08it/s]\n",
            "               Class     Images     Labels          P          R     mAP@.5 mAP@.5:.95: 100% 1/1 [00:00<00:00,  1.92it/s]\n",
            "                 all         43         43   0.000988       0.45    0.00201   0.000261\n",
            "\n",
            "     Epoch   gpu_mem       box       obj       cls    labels  img_size\n",
            "     15/99     3.03G   0.07078   0.02778   0.04737        26       416: 100% 6/6 [00:05<00:00,  1.06it/s]\n",
            "               Class     Images     Labels          P          R     mAP@.5 mAP@.5:.95: 100% 1/1 [00:00<00:00,  1.90it/s]\n",
            "                 all         43         43    0.00111      0.412    0.00153   0.000209\n",
            "\n",
            "     Epoch   gpu_mem       box       obj       cls    labels  img_size\n",
            "     16/99     3.03G   0.06731   0.02587   0.04461        28       416: 100% 6/6 [00:05<00:00,  1.07it/s]\n",
            "               Class     Images     Labels          P          R     mAP@.5 mAP@.5:.95: 100% 1/1 [00:00<00:00,  1.91it/s]\n",
            "                 all         43         43    0.00177      0.485    0.00225   0.000294\n",
            "\n",
            "     Epoch   gpu_mem       box       obj       cls    labels  img_size\n",
            "     17/99     3.03G   0.06542   0.02806   0.04538        34       416: 100% 6/6 [00:05<00:00,  1.07it/s]\n",
            "               Class     Images     Labels          P          R     mAP@.5 mAP@.5:.95: 100% 1/1 [00:00<00:00,  1.91it/s]\n",
            "                 all         43         43    0.00188       0.51    0.00258    0.00034\n",
            "\n",
            "     Epoch   gpu_mem       box       obj       cls    labels  img_size\n",
            "     18/99     3.03G   0.06533   0.02859   0.04525        34       416: 100% 6/6 [00:05<00:00,  1.07it/s]\n",
            "               Class     Images     Labels          P          R     mAP@.5 mAP@.5:.95: 100% 1/1 [00:00<00:00,  1.93it/s]\n",
            "                 all         43         43    0.00167      0.463    0.00186   0.000227\n",
            "\n",
            "     Epoch   gpu_mem       box       obj       cls    labels  img_size\n",
            "     19/99     3.03G   0.07117   0.02821   0.04799        33       416: 100% 6/6 [00:05<00:00,  1.08it/s]\n",
            "               Class     Images     Labels          P          R     mAP@.5 mAP@.5:.95: 100% 1/1 [00:00<00:00,  1.89it/s]\n",
            "                 all         43         43    0.00172      0.497    0.00217   0.000265\n",
            "\n",
            "     Epoch   gpu_mem       box       obj       cls    labels  img_size\n",
            "     20/99     3.03G   0.06634   0.02648   0.04674        26       416: 100% 6/6 [00:05<00:00,  1.07it/s]\n",
            "               Class     Images     Labels          P          R     mAP@.5 mAP@.5:.95: 100% 1/1 [00:00<00:00,  1.88it/s]\n",
            "                 all         43         43      0.254     0.0472     0.0106    0.00245\n",
            "\n",
            "     Epoch   gpu_mem       box       obj       cls    labels  img_size\n",
            "     21/99     3.03G    0.0734   0.02753   0.04684        23       416: 100% 6/6 [00:05<00:00,  1.07it/s]\n",
            "               Class     Images     Labels          P          R     mAP@.5 mAP@.5:.95: 100% 1/1 [00:00<00:00,  1.93it/s]\n",
            "                 all         43         43    0.00894     0.0472    0.00359   0.000934\n",
            "\n",
            "     Epoch   gpu_mem       box       obj       cls    labels  img_size\n",
            "     22/99     3.03G   0.07154   0.02936   0.04879        32       416: 100% 6/6 [00:05<00:00,  1.08it/s]\n",
            "               Class     Images     Labels          P          R     mAP@.5 mAP@.5:.95: 100% 1/1 [00:00<00:00,  1.89it/s]\n",
            "                 all         43         43    0.00352     0.0972     0.0021   0.000548\n",
            "\n",
            "     Epoch   gpu_mem       box       obj       cls    labels  img_size\n",
            "     23/99     3.03G   0.06377   0.02928   0.04425        31       416: 100% 6/6 [00:05<00:00,  1.07it/s]\n",
            "               Class     Images     Labels          P          R     mAP@.5 mAP@.5:.95: 100% 1/1 [00:00<00:00,  1.88it/s]\n",
            "                 all         43         43      0.232     0.0222    0.00573    0.00137\n",
            "\n",
            "     Epoch   gpu_mem       box       obj       cls    labels  img_size\n",
            "     24/99     3.03G   0.07001   0.02836   0.04798        25       416: 100% 6/6 [00:05<00:00,  1.08it/s]\n",
            "               Class     Images     Labels          P          R     mAP@.5 mAP@.5:.95: 100% 1/1 [00:00<00:00,  1.86it/s]\n",
            "                 all         43         43    0.00304     0.0722    0.00132   0.000251\n",
            "\n",
            "     Epoch   gpu_mem       box       obj       cls    labels  img_size\n",
            "     25/99     3.03G   0.06863   0.02731   0.04754        34       416: 100% 6/6 [00:05<00:00,  1.07it/s]\n",
            "               Class     Images     Labels          P          R     mAP@.5 mAP@.5:.95: 100% 1/1 [00:00<00:00,  1.73it/s]\n",
            "                 all         43         43      0.204     0.0472    0.00287   0.000487\n",
            "\n",
            "     Epoch   gpu_mem       box       obj       cls    labels  img_size\n",
            "     26/99     3.03G   0.06819   0.02597   0.04682        29       416: 100% 6/6 [00:05<00:00,  1.06it/s]\n",
            "               Class     Images     Labels          P          R     mAP@.5 mAP@.5:.95: 100% 1/1 [00:00<00:00,  1.77it/s]\n",
            "                 all         43         43    0.00357     0.0375    0.00252   0.000564\n",
            "\n",
            "     Epoch   gpu_mem       box       obj       cls    labels  img_size\n",
            "     27/99     3.03G   0.07029   0.02838   0.04764        32       416: 100% 6/6 [00:05<00:00,  1.07it/s]\n",
            "               Class     Images     Labels          P          R     mAP@.5 mAP@.5:.95: 100% 1/1 [00:00<00:00,  1.78it/s]\n",
            "                 all         43         43    0.00324      0.235    0.00245    0.00055\n",
            "\n",
            "     Epoch   gpu_mem       box       obj       cls    labels  img_size\n",
            "     28/99     3.03G   0.06882   0.02821   0.04756        28       416: 100% 6/6 [00:05<00:00,  1.06it/s]\n",
            "               Class     Images     Labels          P          R     mAP@.5 mAP@.5:.95: 100% 1/1 [00:00<00:00,  1.81it/s]\n",
            "                 all         43         43     0.0026      0.157    0.00217   0.000575\n",
            "\n",
            "     Epoch   gpu_mem       box       obj       cls    labels  img_size\n",
            "     29/99     3.03G   0.06674   0.02925   0.04736        33       416: 100% 6/6 [00:05<00:00,  1.07it/s]\n",
            "               Class     Images     Labels          P          R     mAP@.5 mAP@.5:.95: 100% 1/1 [00:00<00:00,  1.83it/s]\n",
            "                 all         43         43     0.0131     0.0347    0.00363    0.00121\n",
            "\n",
            "     Epoch   gpu_mem       box       obj       cls    labels  img_size\n",
            "     30/99     3.03G   0.06903   0.02668   0.04748        31       416: 100% 6/6 [00:05<00:00,  1.07it/s]\n",
            "               Class     Images     Labels          P          R     mAP@.5 mAP@.5:.95: 100% 1/1 [00:00<00:00,  1.87it/s]\n",
            "                 all         43         43    0.00324      0.294    0.00313    0.00072\n",
            "\n",
            "     Epoch   gpu_mem       box       obj       cls    labels  img_size\n",
            "     31/99     3.03G   0.06135   0.02815   0.04507        34       416: 100% 6/6 [00:05<00:00,  1.07it/s]\n",
            "               Class     Images     Labels          P          R     mAP@.5 mAP@.5:.95: 100% 1/1 [00:00<00:00,  1.83it/s]\n",
            "                 all         43         43     0.0186     0.0472    0.00653    0.00239\n",
            "\n",
            "     Epoch   gpu_mem       box       obj       cls    labels  img_size\n",
            "     32/99     3.03G   0.06659   0.02987   0.04674        40       416: 100% 6/6 [00:05<00:00,  1.08it/s]\n",
            "               Class     Images     Labels          P          R     mAP@.5 mAP@.5:.95: 100% 1/1 [00:00<00:00,  1.83it/s]\n",
            "                 all         43         43    0.00732     0.0847    0.00294   0.000635\n",
            "\n",
            "     Epoch   gpu_mem       box       obj       cls    labels  img_size\n",
            "     33/99     3.03G   0.06872   0.02648   0.04668        30       416: 100% 6/6 [00:05<00:00,  1.07it/s]\n",
            "               Class     Images     Labels          P          R     mAP@.5 mAP@.5:.95: 100% 1/1 [00:00<00:00,  1.86it/s]\n",
            "                 all         43         43     0.0132      0.122    0.00715    0.00124\n",
            "\n",
            "     Epoch   gpu_mem       box       obj       cls    labels  img_size\n",
            "     34/99     3.03G   0.06445   0.02834   0.04664        30       416: 100% 6/6 [00:05<00:00,  1.08it/s]\n",
            "               Class     Images     Labels          P          R     mAP@.5 mAP@.5:.95: 100% 1/1 [00:00<00:00,  1.79it/s]\n",
            "                 all         43         43     0.0209     0.0847     0.0107    0.00266\n",
            "\n",
            "     Epoch   gpu_mem       box       obj       cls    labels  img_size\n",
            "     35/99     3.03G   0.06747   0.02907   0.04723        34       416: 100% 6/6 [00:05<00:00,  1.08it/s]\n",
            "               Class     Images     Labels          P          R     mAP@.5 mAP@.5:.95: 100% 1/1 [00:00<00:00,  1.82it/s]\n",
            "                 all         43         43     0.0485     0.0944     0.0149    0.00526\n",
            "\n",
            "     Epoch   gpu_mem       box       obj       cls    labels  img_size\n",
            "     36/99     3.03G   0.06863   0.02679   0.04697        25       416: 100% 6/6 [00:05<00:00,  1.07it/s]\n",
            "               Class     Images     Labels          P          R     mAP@.5 mAP@.5:.95: 100% 1/1 [00:00<00:00,  1.81it/s]\n",
            "                 all         43         43     0.0558     0.0694     0.0221    0.00993\n",
            "\n",
            "     Epoch   gpu_mem       box       obj       cls    labels  img_size\n",
            "     37/99     3.03G   0.06331   0.02662   0.04452        23       416: 100% 6/6 [00:05<00:00,  1.07it/s]\n",
            "               Class     Images     Labels          P          R     mAP@.5 mAP@.5:.95: 100% 1/1 [00:00<00:00,  1.84it/s]\n",
            "                 all         43         43      0.215     0.0222    0.00717    0.00193\n",
            "\n",
            "     Epoch   gpu_mem       box       obj       cls    labels  img_size\n",
            "     38/99     3.03G   0.06823   0.02854   0.04677        33       416: 100% 6/6 [00:05<00:00,  1.07it/s]\n",
            "               Class     Images     Labels          P          R     mAP@.5 mAP@.5:.95: 100% 1/1 [00:00<00:00,  1.82it/s]\n",
            "                 all         43         43     0.0131     0.0222    0.00505    0.00122\n",
            "\n",
            "     Epoch   gpu_mem       box       obj       cls    labels  img_size\n",
            "     39/99     3.03G   0.07338   0.02737   0.04771        35       416: 100% 6/6 [00:05<00:00,  1.07it/s]\n",
            "               Class     Images     Labels          P          R     mAP@.5 mAP@.5:.95: 100% 1/1 [00:00<00:00,  1.84it/s]\n",
            "                 all         43         43        0.8     0.0222     0.0251    0.00721\n",
            "\n",
            "     Epoch   gpu_mem       box       obj       cls    labels  img_size\n",
            "     40/99     3.03G   0.06887   0.02837   0.04698        34       416: 100% 6/6 [00:05<00:00,  1.06it/s]\n",
            "               Class     Images     Labels          P          R     mAP@.5 mAP@.5:.95: 100% 1/1 [00:00<00:00,  1.79it/s]\n",
            "                 all         43         43     0.0116      0.119    0.00556    0.00149\n",
            "\n",
            "     Epoch   gpu_mem       box       obj       cls    labels  img_size\n",
            "     41/99     3.03G    0.0635   0.02912   0.04411        33       416: 100% 6/6 [00:05<00:00,  1.06it/s]\n",
            "               Class     Images     Labels          P          R     mAP@.5 mAP@.5:.95: 100% 1/1 [00:00<00:00,  1.78it/s]\n",
            "                 all         43         43      0.666     0.0249     0.0118    0.00229\n",
            "\n",
            "     Epoch   gpu_mem       box       obj       cls    labels  img_size\n",
            "     42/99     3.03G   0.06033   0.02967   0.04415        33       416: 100% 6/6 [00:05<00:00,  1.07it/s]\n",
            "               Class     Images     Labels          P          R     mAP@.5 mAP@.5:.95: 100% 1/1 [00:00<00:00,  1.81it/s]\n",
            "                 all         43         43     0.0066     0.0222    0.00242    0.00104\n",
            "\n",
            "     Epoch   gpu_mem       box       obj       cls    labels  img_size\n",
            "     43/99     3.03G   0.06492   0.02826   0.04632        33       416: 100% 6/6 [00:05<00:00,  1.07it/s]\n",
            "               Class     Images     Labels          P          R     mAP@.5 mAP@.5:.95: 100% 1/1 [00:00<00:00,  1.79it/s]\n",
            "                 all         43         43      0.209      0.025    0.00337    0.00044\n",
            "\n",
            "     Epoch   gpu_mem       box       obj       cls    labels  img_size\n",
            "     44/99     3.03G   0.06375   0.02848   0.04596        29       416: 100% 6/6 [00:05<00:00,  1.07it/s]\n",
            "               Class     Images     Labels          P          R     mAP@.5 mAP@.5:.95: 100% 1/1 [00:00<00:00,  1.79it/s]\n",
            "                 all         43         43      0.406      0.025     0.0024   0.000422\n",
            "\n",
            "     Epoch   gpu_mem       box       obj       cls    labels  img_size\n",
            "     45/99     3.03G   0.06378   0.02753   0.04366        28       416: 100% 6/6 [00:05<00:00,  1.07it/s]\n",
            "               Class     Images     Labels          P          R     mAP@.5 mAP@.5:.95: 100% 1/1 [00:00<00:00,  1.75it/s]\n",
            "                 all         43         43      0.616      0.025    0.00677    0.00141\n",
            "\n",
            "     Epoch   gpu_mem       box       obj       cls    labels  img_size\n",
            "     46/99     3.03G   0.07002   0.02743   0.04734        28       416: 100% 6/6 [00:05<00:00,  1.06it/s]\n",
            "               Class     Images     Labels          P          R     mAP@.5 mAP@.5:.95: 100% 1/1 [00:00<00:00,  1.78it/s]\n",
            "                 all         43         43    0.00651     0.0972    0.00293   0.000445\n",
            "\n",
            "     Epoch   gpu_mem       box       obj       cls    labels  img_size\n",
            "     47/99     3.03G   0.06424   0.02842   0.04711        28       416: 100% 6/6 [00:05<00:00,  1.08it/s]\n",
            "               Class     Images     Labels          P          R     mAP@.5 mAP@.5:.95: 100% 1/1 [00:00<00:00,  1.76it/s]\n",
            "                 all         43         43      0.411      0.025    0.00561   0.000837\n",
            "\n",
            "     Epoch   gpu_mem       box       obj       cls    labels  img_size\n",
            "     48/99     3.03G   0.06519   0.02754   0.04721        36       416: 100% 6/6 [00:05<00:00,  1.07it/s]\n",
            "               Class     Images     Labels          P          R     mAP@.5 mAP@.5:.95: 100% 1/1 [00:00<00:00,  1.78it/s]\n",
            "                 all         43         43      0.233      0.025    0.00712   0.000915\n",
            "\n",
            "     Epoch   gpu_mem       box       obj       cls    labels  img_size\n",
            "     49/99     3.03G   0.06038   0.02948   0.04409        27       416: 100% 6/6 [00:05<00:00,  1.06it/s]\n",
            "               Class     Images     Labels          P          R     mAP@.5 mAP@.5:.95: 100% 1/1 [00:00<00:00,  1.73it/s]\n",
            "                 all         43         43     0.0221     0.0722    0.00629     0.0011\n",
            "\n",
            "     Epoch   gpu_mem       box       obj       cls    labels  img_size\n",
            "     50/99     3.03G   0.06375   0.03146   0.04623        39       416: 100% 6/6 [00:05<00:00,  1.07it/s]\n",
            "               Class     Images     Labels          P          R     mAP@.5 mAP@.5:.95: 100% 1/1 [00:00<00:00,  1.77it/s]\n",
            "                 all         43         43    0.00752     0.0659    0.00335   0.000424\n",
            "\n",
            "     Epoch   gpu_mem       box       obj       cls    labels  img_size\n",
            "     51/99     3.03G   0.06857   0.02896   0.04967        30       416: 100% 6/6 [00:05<00:00,  1.07it/s]\n",
            "               Class     Images     Labels          P          R     mAP@.5 mAP@.5:.95: 100% 1/1 [00:00<00:00,  1.77it/s]\n",
            "                 all         43         43    0.00477     0.0472    0.00287   0.000483\n",
            "\n",
            "     Epoch   gpu_mem       box       obj       cls    labels  img_size\n",
            "     52/99     3.03G   0.06349   0.02923   0.04464        30       416: 100% 6/6 [00:05<00:00,  1.08it/s]\n",
            "               Class     Images     Labels          P          R     mAP@.5 mAP@.5:.95: 100% 1/1 [00:00<00:00,  1.74it/s]\n",
            "                 all         43         43    0.00461     0.0472    0.00274   0.000629\n",
            "\n",
            "     Epoch   gpu_mem       box       obj       cls    labels  img_size\n",
            "     53/99     3.03G   0.06701   0.02744   0.04736        34       416: 100% 6/6 [00:05<00:00,  1.07it/s]\n",
            "               Class     Images     Labels          P          R     mAP@.5 mAP@.5:.95: 100% 1/1 [00:00<00:00,  1.78it/s]\n",
            "                 all         43         43    0.00611     0.0472      0.003   0.000635\n",
            "\n",
            "     Epoch   gpu_mem       box       obj       cls    labels  img_size\n",
            "     54/99     3.03G   0.06638   0.02964   0.04676        37       416: 100% 6/6 [00:05<00:00,  1.07it/s]\n",
            "               Class     Images     Labels          P          R     mAP@.5 mAP@.5:.95: 100% 1/1 [00:00<00:00,  1.75it/s]\n",
            "                 all         43         43      0.025     0.0905    0.00858    0.00175\n",
            "\n",
            "     Epoch   gpu_mem       box       obj       cls    labels  img_size\n",
            "     55/99     3.03G   0.06805   0.02803   0.04642        31       416: 100% 6/6 [00:05<00:00,  1.07it/s]\n",
            "               Class     Images     Labels          P          R     mAP@.5 mAP@.5:.95: 100% 1/1 [00:00<00:00,  1.74it/s]\n",
            "                 all         43         43       0.84      0.025     0.0118    0.00226\n",
            "\n",
            "     Epoch   gpu_mem       box       obj       cls    labels  img_size\n",
            "     56/99     3.03G   0.06443   0.02999   0.04616        33       416: 100% 6/6 [00:05<00:00,  1.07it/s]\n",
            "               Class     Images     Labels          P          R     mAP@.5 mAP@.5:.95: 100% 1/1 [00:00<00:00,  1.74it/s]\n",
            "                 all         43         43     0.0592     0.0597      0.014    0.00281\n",
            "\n",
            "     Epoch   gpu_mem       box       obj       cls    labels  img_size\n",
            "     57/99     3.03G   0.06484   0.03011   0.04573        30       416: 100% 6/6 [00:05<00:00,  1.07it/s]\n",
            "               Class     Images     Labels          P          R     mAP@.5 mAP@.5:.95: 100% 1/1 [00:00<00:00,  1.73it/s]\n",
            "                 all         43         43     0.0281     0.0597     0.0123    0.00207\n",
            "\n",
            "     Epoch   gpu_mem       box       obj       cls    labels  img_size\n",
            "     58/99     3.03G   0.06587   0.02749   0.04608        30       416: 100% 6/6 [00:05<00:00,  1.06it/s]\n",
            "               Class     Images     Labels          P          R     mAP@.5 mAP@.5:.95: 100% 1/1 [00:00<00:00,  1.75it/s]\n",
            "                 all         43         43     0.0063      0.269    0.00672    0.00115\n",
            "\n",
            "     Epoch   gpu_mem       box       obj       cls    labels  img_size\n",
            "     59/99     3.03G   0.06219   0.03052   0.04748        37       416: 100% 6/6 [00:05<00:00,  1.07it/s]\n",
            "               Class     Images     Labels          P          R     mAP@.5 mAP@.5:.95: 100% 1/1 [00:00<00:00,  1.77it/s]\n",
            "                 all         43         43    0.00708     0.0472    0.00373   0.000555\n",
            "\n",
            "     Epoch   gpu_mem       box       obj       cls    labels  img_size\n",
            "     60/99     3.03G   0.06156   0.02798   0.04542        27       416: 100% 6/6 [00:05<00:00,  1.07it/s]\n",
            "               Class     Images     Labels          P          R     mAP@.5 mAP@.5:.95: 100% 1/1 [00:00<00:00,  1.69it/s]\n",
            "                 all         43         43    0.00604      0.319    0.00755    0.00168\n",
            "\n",
            "     Epoch   gpu_mem       box       obj       cls    labels  img_size\n",
            "     61/99     3.03G   0.06508   0.02921   0.04716        30       416: 100% 6/6 [00:05<00:00,  1.07it/s]\n",
            "               Class     Images     Labels          P          R     mAP@.5 mAP@.5:.95: 100% 1/1 [00:00<00:00,  1.73it/s]\n",
            "                 all         43         43    0.00625      0.658     0.0103    0.00161\n",
            "\n",
            "     Epoch   gpu_mem       box       obj       cls    labels  img_size\n",
            "     62/99     3.03G   0.05913   0.02893   0.04652        30       416: 100% 6/6 [00:05<00:00,  1.06it/s]\n",
            "               Class     Images     Labels          P          R     mAP@.5 mAP@.5:.95: 100% 1/1 [00:00<00:00,  1.77it/s]\n",
            "                 all         43         43    0.00783      0.925     0.0122    0.00215\n",
            "\n",
            "     Epoch   gpu_mem       box       obj       cls    labels  img_size\n",
            "     63/99     3.03G   0.05999   0.02836   0.04681        32       416: 100% 6/6 [00:05<00:00,  1.07it/s]\n",
            "               Class     Images     Labels          P          R     mAP@.5 mAP@.5:.95: 100% 1/1 [00:00<00:00,  1.73it/s]\n",
            "                 all         43         43     0.0117      0.207      0.013    0.00269\n",
            "\n",
            "     Epoch   gpu_mem       box       obj       cls    labels  img_size\n",
            "     64/99     3.03G   0.06022   0.02897   0.04409        26       416: 100% 6/6 [00:05<00:00,  1.07it/s]\n",
            "               Class     Images     Labels          P          R     mAP@.5 mAP@.5:.95: 100% 1/1 [00:00<00:00,  1.77it/s]\n",
            "                 all         43         43     0.0161     0.0222     0.0139     0.0024\n",
            "\n",
            "     Epoch   gpu_mem       box       obj       cls    labels  img_size\n",
            "     65/99     3.03G   0.05929   0.02944   0.04359        30       416: 100% 6/6 [00:05<00:00,  1.08it/s]\n",
            "               Class     Images     Labels          P          R     mAP@.5 mAP@.5:.95: 100% 1/1 [00:00<00:00,  1.72it/s]\n",
            "                 all         43         43     0.0075      0.853     0.0107    0.00201\n",
            "\n",
            "     Epoch   gpu_mem       box       obj       cls    labels  img_size\n",
            "     66/99     3.03G   0.06266   0.02711   0.04674        30       416: 100% 6/6 [00:05<00:00,  1.06it/s]\n",
            "               Class     Images     Labels          P          R     mAP@.5 mAP@.5:.95: 100% 1/1 [00:00<00:00,  1.73it/s]\n",
            "                 all         43         43     0.0106      0.543     0.0139    0.00253\n",
            "\n",
            "     Epoch   gpu_mem       box       obj       cls    labels  img_size\n",
            "     67/99     3.03G   0.06143   0.03026    0.0469        32       416: 100% 6/6 [00:05<00:00,  1.07it/s]\n",
            "               Class     Images     Labels          P          R     mAP@.5 mAP@.5:.95: 100% 1/1 [00:00<00:00,  1.68it/s]\n",
            "                 all         43         43    0.00707      0.912     0.0142    0.00285\n",
            "\n",
            "     Epoch   gpu_mem       box       obj       cls    labels  img_size\n",
            "     68/99     3.03G   0.05961   0.03072   0.04638        23       416: 100% 6/6 [00:05<00:00,  1.07it/s]\n",
            "               Class     Images     Labels          P          R     mAP@.5 mAP@.5:.95: 100% 1/1 [00:00<00:00,  1.70it/s]\n",
            "                 all         43         43     0.0121      0.419     0.0118    0.00189\n",
            "\n",
            "     Epoch   gpu_mem       box       obj       cls    labels  img_size\n",
            "     69/99     3.03G    0.0581   0.02837   0.04459        30       416: 100% 6/6 [00:05<00:00,  1.07it/s]\n",
            "               Class     Images     Labels          P          R     mAP@.5 mAP@.5:.95: 100% 1/1 [00:00<00:00,  1.69it/s]\n",
            "                 all         43         43      0.447     0.0222      0.019    0.00268\n",
            "\n",
            "     Epoch   gpu_mem       box       obj       cls    labels  img_size\n",
            "     70/99     3.03G   0.06199   0.03073   0.04592        31       416: 100% 6/6 [00:05<00:00,  1.08it/s]\n",
            "               Class     Images     Labels          P          R     mAP@.5 mAP@.5:.95: 100% 1/1 [00:00<00:00,  1.72it/s]\n",
            "                 all         43         43       0.25     0.0222     0.0152    0.00234\n",
            "\n",
            "     Epoch   gpu_mem       box       obj       cls    labels  img_size\n",
            "     71/99     3.03G   0.05914    0.0312   0.04611        34       416: 100% 6/6 [00:05<00:00,  1.07it/s]\n",
            "               Class     Images     Labels          P          R     mAP@.5 mAP@.5:.95: 100% 1/1 [00:00<00:00,  1.67it/s]\n",
            "                 all         43         43      0.666     0.0222     0.0211    0.00468\n",
            "\n",
            "     Epoch   gpu_mem       box       obj       cls    labels  img_size\n",
            "     72/99     3.03G   0.06036   0.02954   0.04551        29       416: 100% 6/6 [00:05<00:00,  1.07it/s]\n",
            "               Class     Images     Labels          P          R     mAP@.5 mAP@.5:.95: 100% 1/1 [00:00<00:00,  1.70it/s]\n",
            "                 all         43         43      0.553     0.0222     0.0335    0.00775\n",
            "\n",
            "     Epoch   gpu_mem       box       obj       cls    labels  img_size\n",
            "     73/99     3.03G   0.06236   0.02965    0.0461        34       416: 100% 6/6 [00:05<00:00,  1.06it/s]\n",
            "               Class     Images     Labels          P          R     mAP@.5 mAP@.5:.95: 100% 1/1 [00:00<00:00,  1.67it/s]\n",
            "                 all         43         43      0.782     0.0222     0.0364    0.00589\n",
            "\n",
            "     Epoch   gpu_mem       box       obj       cls    labels  img_size\n",
            "     74/99     3.03G    0.0603   0.02859   0.04555        30       416: 100% 6/6 [00:05<00:00,  1.07it/s]\n",
            "               Class     Images     Labels          P          R     mAP@.5 mAP@.5:.95: 100% 1/1 [00:00<00:00,  1.69it/s]\n",
            "                 all         43         43      0.732     0.0222     0.0381    0.00682\n",
            "\n",
            "     Epoch   gpu_mem       box       obj       cls    labels  img_size\n",
            "     75/99     3.03G    0.0579   0.03018   0.04348        36       416: 100% 6/6 [00:05<00:00,  1.07it/s]\n",
            "               Class     Images     Labels          P          R     mAP@.5 mAP@.5:.95: 100% 1/1 [00:00<00:00,  1.74it/s]\n",
            "                 all         43         43      0.585     0.0222     0.0353    0.00487\n",
            "\n",
            "     Epoch   gpu_mem       box       obj       cls    labels  img_size\n",
            "     76/99     3.03G    0.0587    0.0294   0.04715        30       416: 100% 6/6 [00:05<00:00,  1.07it/s]\n",
            "               Class     Images     Labels          P          R     mAP@.5 mAP@.5:.95: 100% 1/1 [00:00<00:00,  1.74it/s]\n",
            "                 all         43         43      0.485     0.0222     0.0269    0.00438\n",
            "\n",
            "     Epoch   gpu_mem       box       obj       cls    labels  img_size\n",
            "     77/99     3.03G   0.06143   0.03007   0.04618        29       416: 100% 6/6 [00:05<00:00,  1.05it/s]\n",
            "               Class     Images     Labels          P          R     mAP@.5 mAP@.5:.95: 100% 1/1 [00:00<00:00,  1.73it/s]\n",
            "                 all         43         43     0.0319      0.138     0.0124    0.00243\n",
            "\n",
            "     Epoch   gpu_mem       box       obj       cls    labels  img_size\n",
            "     78/99     3.03G   0.06116   0.02934   0.04696        31       416: 100% 6/6 [00:05<00:00,  1.07it/s]\n",
            "               Class     Images     Labels          P          R     mAP@.5 mAP@.5:.95: 100% 1/1 [00:00<00:00,  1.71it/s]\n",
            "                 all         43         43     0.0492      0.135      0.012    0.00232\n",
            "\n",
            "     Epoch   gpu_mem       box       obj       cls    labels  img_size\n",
            "     79/99     3.03G   0.06162    0.0295   0.04559        27       416: 100% 6/6 [00:05<00:00,  1.07it/s]\n",
            "               Class     Images     Labels          P          R     mAP@.5 mAP@.5:.95: 100% 1/1 [00:00<00:00,  1.73it/s]\n",
            "                 all         43         43     0.0805      0.113      0.022    0.00345\n",
            "\n",
            "     Epoch   gpu_mem       box       obj       cls    labels  img_size\n",
            "     80/99     3.03G      0.06   0.03158   0.04579        33       416: 100% 6/6 [00:05<00:00,  1.06it/s]\n",
            "               Class     Images     Labels          P          R     mAP@.5 mAP@.5:.95: 100% 1/1 [00:00<00:00,  1.69it/s]\n",
            "                 all         43         43    0.00975      0.567     0.0227    0.00361\n",
            "\n",
            "     Epoch   gpu_mem       box       obj       cls    labels  img_size\n",
            "     81/99     3.03G   0.06153   0.02852   0.04603        22       416: 100% 6/6 [00:05<00:00,  1.06it/s]\n",
            "               Class     Images     Labels          P          R     mAP@.5 mAP@.5:.95: 100% 1/1 [00:00<00:00,  1.72it/s]\n",
            "                 all         43         43      0.026      0.138     0.0162    0.00338\n",
            "\n",
            "     Epoch   gpu_mem       box       obj       cls    labels  img_size\n",
            "     82/99     3.03G   0.06154   0.02985   0.04602        34       416: 100% 6/6 [00:05<00:00,  1.07it/s]\n",
            "               Class     Images     Labels          P          R     mAP@.5 mAP@.5:.95: 100% 1/1 [00:00<00:00,  1.69it/s]\n",
            "                 all         43         43      0.666     0.0219     0.0198    0.00399\n",
            "\n",
            "     Epoch   gpu_mem       box       obj       cls    labels  img_size\n",
            "     83/99     3.03G   0.05595   0.03099   0.04614        34       416: 100% 6/6 [00:05<00:00,  1.09it/s]\n",
            "               Class     Images     Labels          P          R     mAP@.5 mAP@.5:.95: 100% 1/1 [00:00<00:00,  1.66it/s]\n",
            "                 all         43         43      0.666     0.0222     0.0194    0.00436\n",
            "\n",
            "     Epoch   gpu_mem       box       obj       cls    labels  img_size\n",
            "     84/99     3.03G     0.058   0.02874   0.04676        26       416: 100% 6/6 [00:05<00:00,  1.08it/s]\n",
            "               Class     Images     Labels          P          R     mAP@.5 mAP@.5:.95: 100% 1/1 [00:00<00:00,  1.68it/s]\n",
            "                 all         43         43     0.0338     0.0347      0.015    0.00389\n",
            "\n",
            "     Epoch   gpu_mem       box       obj       cls    labels  img_size\n",
            "     85/99     3.03G    0.0548   0.03034   0.04611        32       416: 100% 6/6 [00:05<00:00,  1.08it/s]\n",
            "               Class     Images     Labels          P          R     mAP@.5 mAP@.5:.95: 100% 1/1 [00:00<00:00,  1.70it/s]\n",
            "                 all         43         43     0.0161     0.0375     0.0136    0.00394\n",
            "\n",
            "     Epoch   gpu_mem       box       obj       cls    labels  img_size\n",
            "     86/99     3.03G   0.05865   0.03115   0.04713        38       416: 100% 6/6 [00:05<00:00,  1.07it/s]\n",
            "               Class     Images     Labels          P          R     mAP@.5 mAP@.5:.95: 100% 1/1 [00:00<00:00,  1.66it/s]\n",
            "                 all         43         43     0.0384     0.0125     0.0127    0.00349\n",
            "\n",
            "     Epoch   gpu_mem       box       obj       cls    labels  img_size\n",
            "     87/99     3.03G    0.0569   0.02684   0.04325        26       416: 100% 6/6 [00:05<00:00,  1.08it/s]\n",
            "               Class     Images     Labels          P          R     mAP@.5 mAP@.5:.95: 100% 1/1 [00:00<00:00,  1.72it/s]\n",
            "                 all         43         43     0.0218     0.0168     0.0108    0.00306\n",
            "\n",
            "     Epoch   gpu_mem       box       obj       cls    labels  img_size\n",
            "     88/99     3.03G     0.057   0.03015   0.04633        23       416: 100% 6/6 [00:05<00:00,  1.08it/s]\n",
            "               Class     Images     Labels          P          R     mAP@.5 mAP@.5:.95: 100% 1/1 [00:00<00:00,  1.73it/s]\n",
            "                 all         43         43     0.0235      0.183     0.0209    0.00331\n",
            "\n",
            "     Epoch   gpu_mem       box       obj       cls    labels  img_size\n",
            "     89/99     3.03G   0.05669    0.0282   0.04442        25       416: 100% 6/6 [00:05<00:00,  1.08it/s]\n",
            "               Class     Images     Labels          P          R     mAP@.5 mAP@.5:.95: 100% 1/1 [00:00<00:00,  1.70it/s]\n",
            "                 all         43         43     0.0559      0.138     0.0181    0.00298\n",
            "\n",
            "     Epoch   gpu_mem       box       obj       cls    labels  img_size\n",
            "     90/99     3.03G   0.05742   0.03118   0.04594        30       416: 100% 6/6 [00:05<00:00,  1.08it/s]\n",
            "               Class     Images     Labels          P          R     mAP@.5 mAP@.5:.95: 100% 1/1 [00:00<00:00,  1.72it/s]\n",
            "                 all         43         43     0.0329      0.113     0.0153    0.00246\n",
            "\n",
            "     Epoch   gpu_mem       box       obj       cls    labels  img_size\n",
            "     91/99     3.03G   0.05666    0.0301   0.04708        28       416: 100% 6/6 [00:05<00:00,  1.07it/s]\n",
            "               Class     Images     Labels          P          R     mAP@.5 mAP@.5:.95: 100% 1/1 [00:00<00:00,  1.68it/s]\n",
            "                 all         43         43     0.0109      0.342    0.00869    0.00208\n",
            "\n",
            "     Epoch   gpu_mem       box       obj       cls    labels  img_size\n",
            "     92/99     3.03G   0.05699   0.02911   0.04562        27       416: 100% 6/6 [00:05<00:00,  1.08it/s]\n",
            "               Class     Images     Labels          P          R     mAP@.5 mAP@.5:.95: 100% 1/1 [00:00<00:00,  1.71it/s]\n",
            "                 all         43         43     0.0786     0.0375     0.0153    0.00279\n",
            "\n",
            "     Epoch   gpu_mem       box       obj       cls    labels  img_size\n",
            "     93/99     3.03G   0.05586    0.0295   0.04608        32       416: 100% 6/6 [00:05<00:00,  1.09it/s]\n",
            "               Class     Images     Labels          P          R     mAP@.5 mAP@.5:.95: 100% 1/1 [00:00<00:00,  1.70it/s]\n",
            "                 all         43         43     0.0593     0.0125     0.0145    0.00254\n",
            "\n",
            "     Epoch   gpu_mem       box       obj       cls    labels  img_size\n",
            "     94/99     3.03G   0.05835    0.0294   0.04721        29       416: 100% 6/6 [00:05<00:00,  1.09it/s]\n",
            "               Class     Images     Labels          P          R     mAP@.5 mAP@.5:.95: 100% 1/1 [00:00<00:00,  1.70it/s]\n",
            "                 all         43         43     0.0125      0.219     0.0149    0.00243\n",
            "\n",
            "     Epoch   gpu_mem       box       obj       cls    labels  img_size\n",
            "     95/99     3.03G   0.05824   0.02924   0.04611        25       416: 100% 6/6 [00:05<00:00,  1.09it/s]\n",
            "               Class     Images     Labels          P          R     mAP@.5 mAP@.5:.95: 100% 1/1 [00:00<00:00,  1.73it/s]\n",
            "                 all         43         43      0.499     0.0222     0.0339    0.00496\n",
            "\n",
            "     Epoch   gpu_mem       box       obj       cls    labels  img_size\n",
            "     96/99     3.03G   0.05515   0.03008   0.04602        29       416: 100% 6/6 [00:05<00:00,  1.08it/s]\n",
            "               Class     Images     Labels          P          R     mAP@.5 mAP@.5:.95: 100% 1/1 [00:00<00:00,  1.69it/s]\n",
            "                 all         43         43       0.27     0.0472     0.0387    0.00792\n",
            "\n",
            "     Epoch   gpu_mem       box       obj       cls    labels  img_size\n",
            "     97/99     3.03G    0.0598    0.0282   0.04658        26       416: 100% 6/6 [00:05<00:00,  1.09it/s]\n",
            "               Class     Images     Labels          P          R     mAP@.5 mAP@.5:.95: 100% 1/1 [00:00<00:00,  1.71it/s]\n",
            "                 all         43         43       0.25     0.0472     0.0381     0.0105\n",
            "\n",
            "     Epoch   gpu_mem       box       obj       cls    labels  img_size\n",
            "     98/99     3.03G   0.06257   0.02835   0.04681        26       416: 100% 6/6 [00:05<00:00,  1.09it/s]\n",
            "               Class     Images     Labels          P          R     mAP@.5 mAP@.5:.95: 100% 1/1 [00:00<00:00,  1.73it/s]\n",
            "                 all         43         43       0.25     0.0472      0.038     0.0108\n",
            "\n",
            "     Epoch   gpu_mem       box       obj       cls    labels  img_size\n",
            "     99/99     3.03G   0.05678   0.02903   0.04616        28       416: 100% 6/6 [00:05<00:00,  1.08it/s]\n",
            "               Class     Images     Labels          P          R     mAP@.5 mAP@.5:.95: 100% 1/1 [00:00<00:00,  1.72it/s]\n",
            "                 all         43         43       0.27     0.0472     0.0416     0.0137\n",
            "\n",
            "100 epochs completed in 0.184 hours.\n",
            "Optimizer stripped from runs/train/hand_gestures6/weights/last.pt, 14.3MB\n",
            "Optimizer stripped from runs/train/hand_gestures6/weights/best.pt, 14.3MB\n",
            "\n",
            "Validating runs/train/hand_gestures6/weights/best.pt...\n",
            "Fusing layers... \n",
            "Model Summary: 213 layers, 7023610 parameters, 0 gradients, 15.8 GFLOPs\n",
            "               Class     Images     Labels          P          R     mAP@.5 mAP@.5:.95: 100% 1/1 [00:01<00:00,  1.12s/it]\n",
            "                 all         43         43      0.266     0.0472     0.0415     0.0137\n",
            "                 one         43          8          0          0    0.00738      0.002\n",
            "                 two         43          8      0.128      0.125     0.0404     0.0047\n",
            "               three         43          2          0          0    0.00248   0.000391\n",
            "                four         43         16          1          0     0.0339     0.0131\n",
            "                five         43          9      0.204      0.111      0.123     0.0481\n",
            "Results saved to \u001b[1mruns/train/hand_gestures6\u001b[0m\n",
            "CPU times: user 6.14 s, sys: 853 ms, total: 6.99 s\n",
            "Wall time: 11min 32s\n"
          ]
        }
      ]
    },
    {
      "cell_type": "markdown",
      "source": [
        "## 12. Inference with trained weight:\n"
      ],
      "metadata": {
        "id": "Cy7GqF41Nvyj"
      }
    },
    {
      "cell_type": "markdown",
      "source": [
        "> ⚠️ Warning: Don't use a youtube link to detect. Because, Youtube recently removed the dislike features, which makes the library YOLOv5 uses broken."
      ],
      "metadata": {
        "id": "Ihaw9CaBO3_3"
      }
    },
    {
      "cell_type": "code",
      "source": [
        "!python detect.py --weight runs/train/hand_gestures6/weights/best.pt --img 416 --data /content/drive/MyDrive/hand_gestures/data.yaml --conf 0.01 --source /content/drive/MyDrive/hand_gestures/valid/images/104.jpg"
      ],
      "metadata": {
        "id": "ptWWEcnAzGR7",
        "colab": {
          "base_uri": "https://localhost:8080/"
        },
        "outputId": "9ce78342-a84e-4e3c-be35-bbab7009b0ad"
      },
      "execution_count": null,
      "outputs": [
        {
          "output_type": "stream",
          "name": "stdout",
          "text": [
            "\u001b[34m\u001b[1mdetect: \u001b[0mweights=['runs/train/hand_gestures6/weights/best.pt'], source=/content/drive/MyDrive/hand_gestures/valid/images/104.jpg, data=/content/drive/MyDrive/hand_gestures/data.yaml, imgsz=[416, 416], conf_thres=0.01, iou_thres=0.45, max_det=1000, device=, view_img=False, save_txt=False, save_conf=False, save_crop=False, nosave=False, classes=None, agnostic_nms=False, augment=False, visualize=False, update=False, project=runs/detect, name=exp, exist_ok=False, line_thickness=3, hide_labels=False, hide_conf=False, half=False, dnn=False\n",
            "YOLOv5 🚀 v6.0-163-gd95978a torch 1.10.0+cu111 CUDA:0 (Tesla K80, 11441MiB)\n",
            "\n",
            "Fusing layers... \n",
            "Model Summary: 213 layers, 7023610 parameters, 0 gradients, 15.8 GFLOPs\n",
            "image 1/1 /content/drive/MyDrive/hand_gestures/valid/images/104.jpg: 416x256 1 two, 2 threes, 1 five, Done. (0.022s)\n",
            "Speed: 0.3ms pre-process, 22.2ms inference, 1.7ms NMS per image at shape (1, 3, 416, 416)\n",
            "Results saved to \u001b[1mruns/detect/exp16\u001b[0m\n"
          ]
        }
      ]
    }
  ]
}